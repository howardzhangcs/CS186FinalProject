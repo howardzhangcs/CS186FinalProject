{
 "cells": [
  {
   "cell_type": "code",
   "execution_count": 1,
   "metadata": {
    "collapsed": true
   },
   "outputs": [],
   "source": [
    "%matplotlib inline \n",
    "\n",
    "import numpy as np\n",
    "import scipy\n",
    "import pandas as pd # pandas\n",
    "import matplotlib.pyplot as plt # module for plotting \n",
    "from mpl_toolkits.mplot3d import Axes3D #3D plotting\n",
    "import datetime as dt # module for manipulating dates and times\n",
    "\n",
    "import requests \n",
    "import scipy.stats as stats\n",
    "import statsmodels.api as sm\n",
    "from scipy.stats import binom\n",
    "from scipy.optimize import minimize_scalar\n",
    "from __future__ import division\n",
    "import re\n",
    "from StringIO import StringIO\n",
    "from zipfile import ZipFile \n",
    "from pandas import read_csv\n",
    "from urllib import urlopen\n",
    "import urllib2\n",
    "import json\n",
    "\n",
    "import sklearn\n",
    "import sklearn.preprocessing\n",
    "import sklearn.datasets"
   ]
  },
  {
   "cell_type": "markdown",
   "metadata": {},
   "source": [
    "# Gaussian Shocks"
   ]
  },
  {
   "cell_type": "markdown",
   "metadata": {},
   "source": [
    "### LMSR ACCORDING TO Brahma et al."
   ]
  },
  {
   "cell_type": "code",
   "execution_count": 2,
   "metadata": {
    "collapsed": false
   },
   "outputs": [],
   "source": [
    "# LMSR Implementation Das Interpretation\n",
    "# according to http://www.cse.wustl.edu/~mithunchakraborty/papers/AAAI15poster_final.pdf\n",
    "def runlmsr_gaussian(iterations, trialnumber, MMb, traderAlphaExponential, shock_prob, shock_sd):\n",
    "    trial_1 = np.zeros(trialnumber)\n",
    "    trial_2 = np.zeros(trialnumber)\n",
    "    rmse = np.zeros(trialnumber)\n",
    "    for i in np.arange(0,trialnumber,1):\n",
    "        # Initialize Market Model\n",
    "        initialValue = np.random.normal(50,12)\n",
    "        if initialValue < 0:\n",
    "            initialValue = 0\n",
    "        if initialValue > 100:\n",
    "            initialValue = 100\n",
    "\n",
    "        # shock values\n",
    "        shock_prob= 1/100\n",
    "        shockSD = 5\n",
    "        # true asset value\n",
    "        trueValue = np.zeros(iterations)\n",
    "        trueValue[0] = initialValue\n",
    "\n",
    "        # Initial Trade Values\n",
    "        traderSD = 5\n",
    "        traderValueAll = np.zeros(iterations)\n",
    "        traderValueAll[0] = initialValue\n",
    "\n",
    "        #initial MM values\n",
    "\n",
    "        #outcome 1\n",
    "        MMquantity_1 = np.zeros(iterations)\n",
    "        MMprice_1 = np.zeros(iterations)\n",
    "        MMprice_1[0] = 50\n",
    "\n",
    "        #outcome 2\n",
    "        MMquantity_2 = np.zeros(iterations)\n",
    "        MMprice_2 = np.zeros(iterations)\n",
    "        MMprice_2[0] = 50\n",
    "\n",
    "        #revenue\n",
    "        MMpayment = np.zeros(iterations)\n",
    "        \n",
    "        difference = np.zeros(iterations)\n",
    "\n",
    "        for time in np.arange(1,iterations,1):\n",
    "            initialvalue = trueValue[time-1]\n",
    "            if np.random.binomial(1,shock_prob) == 1:\n",
    "                initialValue = initialValue + np.random.normal(0, shockSD)\n",
    "            trueValue[time] = initialValue\n",
    "            traderValue = np.random.normal(initialValue, traderSD)\n",
    "            traderValueAll[time] = traderValue\n",
    "            # normalize trader value\n",
    "            if traderValue <= 0:\n",
    "                traderValue = 0.01\n",
    "            if traderValue >= 100:\n",
    "                traderValue = 99.99\n",
    "            quantityTrader = np.random.exponential(traderAlphaExponential)\n",
    "            currentquantity_1 = np.sum(MMquantity_1)\n",
    "            currentquantity_2 = np.sum(MMquantity_2)\n",
    "            if traderValue > MMprice_1[time - 1]:\n",
    "                quantityEquivalentprice = MMb*(np.log((traderValue*(np.exp(currentquantity_2/MMb))/100) / \\\n",
    "                                                      (1-traderValue/100)))-currentquantity_1\n",
    "                # error checking\n",
    "                if quantityEquivalentprice < 0 and traderValue < 99.:\n",
    "                    print time, i, MMprice_1[time - 1], traderValue, currentquantity_1, currentquantity_2\n",
    "                    raise NameError('Problem with Quantity Calculation')\n",
    "                quantityTrader_1 = min(quantityTrader, quantityEquivalentprice)\n",
    "                MMquantity_1[time] = quantityTrader_1 \n",
    "                newquantity_1 = quantityTrader_1 + currentquantity_1\n",
    "                newquantity_2 = currentquantity_2\n",
    "            else:\n",
    "                quantityEquivalentprice = MMb*(np.log(((100-traderValue)*(np.exp(currentquantity_1/MMb))/100)/ \\\n",
    "                                                      (1-(100-traderValue)/100)))-currentquantity_2\n",
    "                # error checking\n",
    "                if quantityEquivalentprice < 0 and traderValue < 99.:\n",
    "                    print time, i, MMprice_1[time - 1], traderValue, currentquantity_1, currentquantity_2\n",
    "                    raise NameError('Problem with Quantity Calculation')\n",
    "                quantityTrader_2 = min(quantityTrader, quantityEquivalentprice)\n",
    "                MMquantity_2[time] = quantityTrader_2\n",
    "                newquantity_2 = quantityTrader_2 + currentquantity_2\n",
    "                newquantity_1 = currentquantity_1\n",
    "            MMpayment[time] = 100*MMb*(np.log(np.exp(newquantity_1/MMb)+np.exp(newquantity_2/MMb))- \\\n",
    "                                       np.log(np.exp(currentquantity_1/MMb)+np.exp(currentquantity_2/MMb)))\n",
    "            MMprice_1[time] = 100*(np.exp(newquantity_1/MMb)/(np.exp(newquantity_1/MMb)+np.exp(newquantity_2/MMb)))\n",
    "            MMprice_2[time] = 100*(np.exp(newquantity_2/MMb)/(np.exp(newquantity_1/MMb)+np.exp(newquantity_2/MMb)))\n",
    "            difference[time] = (MMprice_1[time] - trueValue[time]) ** 2\n",
    "        trial_1[i] = np.sum(MMpayment)-100*np.sum(MMquantity_1)\n",
    "        trial_2[i] = np.sum(MMpayment)-100*np.sum(MMquantity_2)\n",
    "        rmse[i] = np.sqrt(np.sum(difference)/iterations)\n",
    "    return trial_1, trial_2, trueValue, MMprice_1, rmse"
   ]
  },
  {
   "cell_type": "code",
   "execution_count": 3,
   "metadata": {
    "collapsed": false
   },
   "outputs": [
    {
     "data": {
      "image/png": "[encoded data removed]",
      "text/plain": [
       "<matplotlib.figure.Figure at 0x4148320>"
      ]
     },
     "metadata": {},
     "output_type": "display_data"
    },
    {
     "name": "stdout",
     "output_type": "stream",
     "text": [
      "522.391671902\n",
      "4142.76638979\n",
      "-7720.09262177\n"
     ]
    },
    {
     "data": {
      "image/png": "[encoded data removed]",
      "text/plain": [
       "<matplotlib.figure.Figure at 0x175e4b00>"
      ]
     },
     "metadata": {},
     "output_type": "display_data"
    },
    {
     "name": "stdout",
     "output_type": "stream",
     "text": [
      "666.488712522\n",
      "4055.47684634\n",
      "-8413.17168148\n"
     ]
    },
    {
     "data": {
      "image/png": "[encoded data removed]",
      "text/plain": [
       "<matplotlib.figure.Figure at 0x177caa90>"
      ]
     },
     "metadata": {},
     "output_type": "display_data"
    },
    {
     "name": "stdout",
     "output_type": "stream",
     "text": [
      "3.68492742044\n"
     ]
    }
   ],
   "source": [
    "# Baseline Revenue Results \n",
    "trial_1, trial_2, trueValue, MMprice_1, rmse = runlmsr_gaussian(200, 1000, 125, 20, 1/100, 5)\n",
    "\n",
    "# plot sample simulation\n",
    "xs = np.arange(0,200,1)\n",
    "plt.plot(xs, trueValue, xs, MMprice_1)\n",
    "plt.xlabel('Iteration')\n",
    "plt.ylabel('Instantaneous Price of Contract 1')\n",
    "plt.title('Baseline Analysis of LMSR - Gaussian Shocks')\n",
    "plt.legend(('True Value', 'Instantaneous Price of Market Maker'),4, fontsize='x-small')\n",
    "plt.show() \n",
    "\n",
    "# outcome 1 occurs\n",
    "print(np.average(trial_1))\n",
    "print(np.std(trial_1))\n",
    "print(np.min(trial_1))\n",
    "\n",
    "plt.hist(trial_1, normed=1)\n",
    "plt.xlabel('Profit')\n",
    "plt.ylabel('Frequency')\n",
    "plt.title('Gaussian Shocks: Histogram of Profit if Outcome 1 Occured')\n",
    "plt.show()\n",
    "\n",
    "#outcome 2 occurs\n",
    "print(np.average(trial_2))\n",
    "print(np.std(trial_2))\n",
    "print(np.min(trial_2))\n",
    "plt.hist(trial_2, normed=1)\n",
    "plt.xlabel('Profit')\n",
    "plt.ylabel('Frequency')\n",
    "plt.title('Gaussian Shocks: Histogram of Profit if Outcome 2 Occured')\n",
    "plt.show()\n",
    "\n",
    "print(np.mean(rmse))"
   ]
  },
  {
   "cell_type": "code",
   "execution_count": 25,
   "metadata": {
    "collapsed": false
   },
   "outputs": [
    {
     "name": "stdout",
     "output_type": "stream",
     "text": [
      "58.8876402676\n",
      "339.993363784\n",
      "-692.737041902\n",
      "46.7988201441\n",
      "399.629093968\n",
      "-659.923963072\n",
      "4.79646865719\n",
      "546.28989409\n",
      "4232.00939582\n",
      "-7938.08580004\n",
      "695.57310219\n",
      "4197.55411566\n",
      "-8206.39850288\n",
      "3.6665702941\n",
      "1341.88848619\n",
      "8282.54222691\n",
      "-15964.6069484\n",
      "945.765825716\n",
      "7840.98471866\n",
      "-15975.0413928\n",
      "3.25320087358\n",
      "2896.35008599\n",
      "17101.9463954\n",
      "-28625.8402053\n",
      "1758.3155746\n",
      "15354.3445412\n",
      "-33023.2550544\n",
      "3.10779131382\n"
     ]
    }
   ],
   "source": [
    "beta = [10, 125, 250,500]\n",
    "\n",
    "for betaspecific in beta:\n",
    "    # Baseline Revenue Results \n",
    "    trial_1, trial_2, trueValue, MMprice_1, rmse = runlmsr_gaussian(200, 1000, betaspecific, 20, 1/100, 5)\n",
    "    print(np.average(trial_1))\n",
    "    print(np.std(trial_1))\n",
    "    print(np.min(trial_1))\n",
    "    print(np.average(trial_2))\n",
    "    print(np.std(trial_2))\n",
    "    print(np.min(trial_2))\n",
    "    print(np.mean(rmse))"
   ]
  },
  {
   "cell_type": "markdown",
   "metadata": {},
   "source": [
    "### Liquidity Sensitive LMSR Implementation Das Interpretation\n"
   ]
  },
  {
   "cell_type": "code",
   "execution_count": 3,
   "metadata": {
    "collapsed": false
   },
   "outputs": [],
   "source": [
    "#Liquidity Sensitive LMSR Implementation Das Interpretation\n",
    "\n",
    "def runlslmsr_gaussian(iterations, trialnumber, traderAlphaExponential, shock_prob, shock_sd, alpha, initialsubsidy):\n",
    "    trial_1 = np.zeros(trialnumber)\n",
    "    trial_2 = np.zeros(trialnumber)\n",
    "    rmse = np.zeros(trialnumber)\n",
    "    \n",
    "    for i in np.arange(0,trialnumber,1):\n",
    "        # Initialize Market Model\n",
    "        initialValue = np.random.normal(50,12)\n",
    "        if initialValue < 0:\n",
    "            initialValue = 0\n",
    "        if initialValue > 100:\n",
    "            initialValue = 100\n",
    "\n",
    "        # shock values\n",
    "        shock_prob= 1/100\n",
    "        shockSD = 5\n",
    "        # true asset value\n",
    "        trueValue = np.zeros(iterations)\n",
    "        trueValue[0] = initialValue\n",
    "\n",
    "        # Initial Trade Values\n",
    "        traderSD = 5\n",
    "        traderValueAll = np.zeros(iterations)\n",
    "        traderValueAll[0] = initialValue\n",
    "\n",
    "        #initial MM values\n",
    "\n",
    "        #outcome 1\n",
    "        MMquantity_1 = np.zeros(iterations)\n",
    "        MMquantity_1[0] = initialsubsidy\n",
    "        MMprice_1 = np.zeros(iterations)\n",
    "        MMprice_1[0] = 50\n",
    "\n",
    "        #outcome 2\n",
    "        MMquantity_2 = np.zeros(iterations)\n",
    "        MMquantity_2[0] = initialsubsidy\n",
    "        MMprice_2 = np.zeros(iterations)\n",
    "        MMprice_2[0] = 50\n",
    "\n",
    "        #revenue\n",
    "        MMpayment = np.zeros(iterations)\n",
    "        MMpayment[0] = 0\n",
    "        \n",
    "        difference = np.zeros(iterations)\n",
    "\n",
    "        for time in np.arange(1,iterations,1):\n",
    "            initialValue = trueValue[time-1]\n",
    "            if np.random.binomial(1,shock_prob) == 1:\n",
    "                initialValue = initialValue + np.random.normal(0, shockSD)\n",
    "            trueValue[time] = initialValue\n",
    "            traderValue = np.random.normal(initialValue, traderSD)\n",
    "            traderValueAll[time] = traderValue\n",
    "            # normalize trader value\n",
    "            if traderValue <= 0:\n",
    "                traderValue = 0.01\n",
    "            if traderValue >= 100:\n",
    "                traderValue = 99.99\n",
    "            quantityTrader = np.random.exponential(traderAlphaExponential)\n",
    "            currentquantity_1 = np.sum(MMquantity_1)\n",
    "            currentquantity_2 = np.sum(MMquantity_2)\n",
    "            MMb = alpha*(currentquantity_1 + currentquantity_2)\n",
    "            \n",
    "            if traderValue > MMprice_1[time - 1]:\n",
    "                quantityTrader_1 = quantityTrader\n",
    "                MMquantity_1[time] = quantityTrader_1 \n",
    "                newquantity_1 = quantityTrader_1 + currentquantity_1\n",
    "                newquantity_2 = currentquantity_2\n",
    "            else:\n",
    "                quantityTrader_2 = quantityTrader\n",
    "                MMquantity_2[time] = quantityTrader_2\n",
    "                newquantity_2 = quantityTrader_2 + currentquantity_2\n",
    "                newquantity_1 = currentquantity_1\n",
    "                \n",
    "            MMpayment[time] = 100*MMb*(np.log(np.exp(newquantity_1/MMb)+np.exp(newquantity_2/MMb))- \\\n",
    "                                       np.log(np.exp(currentquantity_1/MMb)+np.exp(currentquantity_2/MMb)))\n",
    "            MMprice_1[time] = 100*(alpha*np.log(np.exp(newquantity_1/MMb)+np.exp(newquantity_2/MMb)) + \\\n",
    "                                       (newquantity_2*(np.exp(newquantity_1/MMb)-np.exp(newquantity_2/MMb))) / \\\n",
    "                                       ((newquantity_1 + newquantity_2)*(np.exp(newquantity_1/MMb) + np.exp(newquantity_2/MMb))))\n",
    "            MMprice_2[time] = 100*(alpha*np.log(np.exp(newquantity_1/MMb)+np.exp(newquantity_2/MMb)) + \\\n",
    "                                       (newquantity_1*(np.exp(newquantity_2/MMb)-np.exp(newquantity_1/MMb))) / \\\n",
    "                                       ((newquantity_1 + newquantity_2)*(np.exp(newquantity_1/MMb) + np.exp(newquantity_2/MMb))))\n",
    "            if MMprice_1[time]>100 or MMprice_2[time]>100:\n",
    "                MMquantity_1[time] = 0\n",
    "                MMquantity_2[time] = 0\n",
    "                MMprice_1[time] = MMprice_1[time-1]\n",
    "                MMprice_2[time] = MMprice_1[time-1]\n",
    "                MMpayment[time] = 0\n",
    "            difference[time] = (MMprice_1[time] - trueValue[time]) ** 2\n",
    "        trial_1[i] = np.sum(MMpayment)-100*np.sum(MMquantity_1)\n",
    "        trial_2[i] = np.sum(MMpayment)-100*np.sum(MMquantity_2)\n",
    "        rmse[i] = np.sqrt(np.sum(difference)/iterations)\n",
    "    return trial_1, trial_2, trueValue, MMprice_1, rmse"
   ]
  },
  {
   "cell_type": "code",
   "execution_count": 98,
   "metadata": {
    "collapsed": false
   },
   "outputs": [
    {
     "data": {
      "image/png": "[encoded data removed]",
      "text/plain": [
       "<matplotlib.figure.Figure at 0x179b19e8>"
      ]
     },
     "metadata": {},
     "output_type": "display_data"
    },
    {
     "name": "stdout",
     "output_type": "stream",
     "text": [
      "-12436.3738422\n",
      "19658.9130219\n",
      "-142289.52113\n"
     ]
    },
    {
     "data": {
      "image/png": "[encoded data removed]",
      "text/plain": [
       "<matplotlib.figure.Figure at 0x17509b70>"
      ]
     },
     "metadata": {},
     "output_type": "display_data"
    },
    {
     "name": "stdout",
     "output_type": "stream",
     "text": [
      "-154504.498673\n",
      "12001.0483089\n",
      "-187820.2291\n"
     ]
    },
    {
     "data": {
      "image/png": "[encoded data removed]",
      "text/plain": [
       "<matplotlib.figure.Figure at 0x179fe198>"
      ]
     },
     "metadata": {},
     "output_type": "display_data"
    },
    {
     "name": "stdout",
     "output_type": "stream",
     "text": [
      "18.2726526768\n"
     ]
    }
   ],
   "source": [
    "# Baseline Revenue Results \n",
    "trial_1, trial_2, trueValue, MMprice_1, rmse = runlslmsr_gaussian(200, 1000, 20, 1/100, 5, 0.5, 1000)\n",
    "\n",
    "# plot sample simulation\n",
    "xs = np.arange(0,200,1)\n",
    "plt.plot(xs, trueValue, xs, MMprice_1)\n",
    "plt.xlabel('Iteration')\n",
    "plt.ylabel('Instantaneous Price of Contract 1')\n",
    "plt.title('Baseline Analysis of LS LMSR - Gaussian Shocks')\n",
    "plt.legend(('True Value', 'Instantaneous Price of Market Maker'),4, fontsize='x-small')\n",
    "plt.show() \n",
    "\n",
    "# outcome 1 occurs\n",
    "print(np.average(trial_1))\n",
    "print(np.std(trial_1))\n",
    "print(np.min(trial_1))\n",
    "\n",
    "plt.hist(trial_1, normed=1)\n",
    "plt.xlabel('Profit')\n",
    "plt.ylabel('Frequency')\n",
    "plt.title('Gaussian Shocks: Histogram of Profit if Outcome 1 Occured')\n",
    "plt.show()\n",
    "\n",
    "#outcome 2 occurs\n",
    "print(np.average(trial_2))\n",
    "print(np.std(trial_2))\n",
    "print(np.min(trial_2))\n",
    "plt.hist(trial_2, normed=1)\n",
    "plt.xlabel('Profit')\n",
    "plt.ylabel('Frequency')\n",
    "plt.title('Gaussian Shocks: Histogram of Profit if Outcome 2 Occured')\n",
    "plt.show()\n",
    "\n",
    "print(np.mean(rmse))"
   ]
  },
  {
   "cell_type": "code",
   "execution_count": 28,
   "metadata": {
    "collapsed": false
   },
   "outputs": [
    {
     "name": "stdout",
     "output_type": "stream",
     "text": [
      "-95616.5984938\n",
      "10910.4832154\n",
      "-113425.04158\n",
      "-99695.6338124\n",
      "9569.55281467\n",
      "-114144.009631\n",
      "4.96655564516\n",
      "-87114.8837888\n",
      "22078.62967\n",
      "-125403.58987\n",
      "-103439.208765\n",
      "15821.1341293\n",
      "-127368.822225\n",
      "3.64269342707\n",
      "-11950.3408873\n",
      "63933.8088664\n",
      "-152564.197501\n",
      "-140680.808862\n",
      "24957.143758\n",
      "-176883.628227\n",
      "6.30430413674\n",
      "-12388.4296006\n",
      "18529.7299483\n",
      "-107529.374503\n",
      "-154680.119492\n",
      "10146.5655939\n",
      "-188160.40115\n",
      "18.3784273324\n"
     ]
    }
   ],
   "source": [
    "alpha = [0.05, 0.1, 0.3, 0.5]\n",
    "\n",
    "for alphaspecific in alpha:\n",
    "    # Baseline Revenue Results \n",
    "    trial_1, trial_2, trueValue, MMprice_1, rmse = runlslmsr_gaussian(200, 1000, 20, 1/100, 5, alphaspecific, 1000)\n",
    "    print(np.average(trial_1))\n",
    "    print(np.std(trial_1))\n",
    "    print(np.min(trial_1))\n",
    "    print(np.average(trial_2))\n",
    "    print(np.std(trial_2))\n",
    "    print(np.min(trial_2))\n",
    "    print(np.mean(rmse))"
   ]
  },
  {
   "cell_type": "code",
   "execution_count": 29,
   "metadata": {
    "collapsed": false
   },
   "outputs": [
    {
     "name": "stdout",
     "output_type": "stream",
     "text": [
      "6568.07776596\n",
      "16258.9610117\n",
      "-33295.9512042\n",
      "-20050.1442455\n",
      "9612.3343255\n",
      "-59365.7474246\n",
      "17.4127993476\n",
      "902.500870211\n",
      "19565.3853069\n",
      "-88250.8359846\n",
      "-81136.2285053\n",
      "11443.9206728\n",
      "-120419.058601\n",
      "16.8397063508\n",
      "-12394.7566333\n",
      "18883.6988406\n",
      "-149621.944355\n",
      "-154579.755787\n",
      "10929.2931727\n",
      "-190586.976642\n",
      "18.8008321051\n",
      "-282253.549761\n",
      "37009.5874748\n",
      "-513690.810754\n",
      "-660195.375371\n",
      "23878.9972984\n",
      "-697225.095343\n",
      "26.8974243545\n"
     ]
    }
   ],
   "source": [
    "initial = [100,500,1000,5000]\n",
    "\n",
    "for initialspecific in initial:\n",
    "    # Baseline Revenue Results \n",
    "    trial_1, trial_2, trueValue, MMprice_1, rmse = runlslmsr_gaussian(200, 1000, 20, 1/100, 5, 0.5, initialspecific)\n",
    "    print(np.average(trial_1))\n",
    "    print(np.std(trial_1))\n",
    "    print(np.min(trial_1))\n",
    "    print(np.average(trial_2))\n",
    "    print(np.std(trial_2))\n",
    "    print(np.min(trial_2))\n",
    "    print(np.mean(rmse))"
   ]
  },
  {
   "cell_type": "markdown",
   "metadata": {},
   "source": [
    "## Uniform Shock"
   ]
  },
  {
   "cell_type": "code",
   "execution_count": 9,
   "metadata": {
    "collapsed": true
   },
   "outputs": [],
   "source": [
    "# LMSR Implementation Das Interpretation\n",
    "# according to http://www.cse.wustl.edu/~mithunchakraborty/papers/AAAI15poster_final.pdf\n",
    "def runlmsr_uniform(iterations, trialnumber, MMb, traderAlphaExponential):\n",
    "    trial_1 = np.zeros(trialnumber)\n",
    "    trial_2 = np.zeros(trialnumber)\n",
    "    rmse = np.zeros(trialnumber)\n",
    "    for i in np.arange(0,trialnumber,1):\n",
    "        # Initialize Market Model\n",
    "        initialValue = np.random.normal(50,12)\n",
    "        if initialValue < 0:\n",
    "            initialValue = 0\n",
    "        if initialValue > 100:\n",
    "            initialValue = 100\n",
    "\n",
    "        # shock values\n",
    "        shock_prob= 1/100\n",
    "        shockSD = 5\n",
    "        # true asset value\n",
    "        trueValue = np.zeros(iterations)\n",
    "        trueValue[0] = initialValue\n",
    "\n",
    "        # Initial Trade Values\n",
    "        traderSD = 5\n",
    "        traderValueAll = np.zeros(iterations)\n",
    "        traderValueAll[0] = initialValue\n",
    "\n",
    "        #initial MM values\n",
    "\n",
    "        #outcome 1\n",
    "        MMquantity_1 = np.zeros(iterations)\n",
    "        MMprice_1 = np.zeros(iterations)\n",
    "        MMprice_1[0] = 50\n",
    "\n",
    "        #outcome 2\n",
    "        MMquantity_2 = np.zeros(iterations)\n",
    "        MMprice_2 = np.zeros(iterations)\n",
    "        MMprice_2[0] = 50\n",
    "\n",
    "        #revenue\n",
    "        MMpayment = np.zeros(iterations)\n",
    "        \n",
    "        difference = np.zeros(iterations)\n",
    "\n",
    "        for time in np.arange(1,iterations,1):\n",
    "            initialvalue = trueValue[time-1]\n",
    "            if time == iterations/2:\n",
    "                initialValue = initialValue + np.random.uniform(0, 40)\n",
    "            trueValue[time] = initialValue\n",
    "            traderValue = np.random.normal(initialValue, traderSD)\n",
    "            traderValueAll[time] = traderValue\n",
    "            # normalize trader value\n",
    "            if traderValue <= 0:\n",
    "                traderValue = 0.01\n",
    "            if traderValue >= 100:\n",
    "                traderValue = 99.99\n",
    "            quantityTrader = np.random.exponential(traderAlphaExponential)\n",
    "            currentquantity_1 = np.sum(MMquantity_1)\n",
    "            currentquantity_2 = np.sum(MMquantity_2)\n",
    "            if traderValue > MMprice_1[time - 1]:\n",
    "                quantityEquivalentprice = MMb*(np.log((traderValue*(np.exp(currentquantity_2/MMb))/100) / \\\n",
    "                                                      (1-traderValue/100)))-currentquantity_1\n",
    "                # error checking\n",
    "                if quantityEquivalentprice < 0 and traderValue < 99.:\n",
    "                    print time, i, MMprice_1[time - 1], traderValue, currentquantity_1, currentquantity_2\n",
    "                    raise NameError('Problem with Quantity Calculation')\n",
    "                quantityTrader_1 = min(quantityTrader, quantityEquivalentprice)\n",
    "                MMquantity_1[time] = quantityTrader_1 \n",
    "                newquantity_1 = quantityTrader_1 + currentquantity_1\n",
    "                newquantity_2 = currentquantity_2\n",
    "            else:\n",
    "                quantityEquivalentprice = MMb*(np.log(((100-traderValue)*(np.exp(currentquantity_1/MMb))/100)/ \\\n",
    "                                                      (1-(100-traderValue)/100)))-currentquantity_2\n",
    "                # error checking\n",
    "                if quantityEquivalentprice < 0 and traderValue < 99.:\n",
    "                    print time, i, MMprice_1[time - 1], traderValue, currentquantity_1, currentquantity_2\n",
    "                    raise NameError('Problem with Quantity Calculation')\n",
    "                quantityTrader_2 = min(quantityTrader, quantityEquivalentprice)\n",
    "                MMquantity_2[time] = quantityTrader_2\n",
    "                newquantity_2 = quantityTrader_2 + currentquantity_2\n",
    "                newquantity_1 = currentquantity_1\n",
    "            MMpayment[time] = 100*MMb*(np.log(np.exp(newquantity_1/MMb)+np.exp(newquantity_2/MMb))- \\\n",
    "                                       np.log(np.exp(currentquantity_1/MMb)+np.exp(currentquantity_2/MMb)))\n",
    "            MMprice_1[time] = 100*(np.exp(newquantity_1/MMb)/(np.exp(newquantity_1/MMb)+np.exp(newquantity_2/MMb)))\n",
    "            MMprice_2[time] = 100*(np.exp(newquantity_2/MMb)/(np.exp(newquantity_1/MMb)+np.exp(newquantity_2/MMb)))\n",
    "            difference[time] = (MMprice_1[time] - trueValue[time]) ** 2\n",
    "            \n",
    "        trial_1[i] = np.sum(MMpayment)-100*np.sum(MMquantity_1)\n",
    "        trial_2[i] = np.sum(MMpayment)-100*np.sum(MMquantity_2)\n",
    "        rmse[i] = np.sqrt(np.sum(difference)/iterations)\n",
    "    return trial_1, trial_2, trueValue, MMprice_1, rmse"
   ]
  },
  {
   "cell_type": "code",
   "execution_count": 7,
   "metadata": {
    "collapsed": false
   },
   "outputs": [
    {
     "data": {
      "image/png": "[encoded data removed]",
      "text/plain": [
       "<matplotlib.figure.Figure at 0x4107f60>"
      ]
     },
     "metadata": {},
     "output_type": "display_data"
    },
    {
     "name": "stdout",
     "output_type": "stream",
     "text": [
      "-3669.82328744\n",
      "3267.41743653\n",
      "-8663.0896945\n"
     ]
    },
    {
     "data": {
      "image/png": "[encoded data removed]",
      "text/plain": [
       "<matplotlib.figure.Figure at 0x3f316a0>"
      ]
     },
     "metadata": {},
     "output_type": "display_data"
    },
    {
     "name": "stdout",
     "output_type": "stream",
     "text": [
      "10696.1904589\n",
      "17775.2398349\n",
      "-6390.36231145\n"
     ]
    },
    {
     "data": {
      "image/png": "[encoded data removed]",
      "text/plain": [
       "<matplotlib.figure.Figure at 0x170e3240>"
      ]
     },
     "metadata": {},
     "output_type": "display_data"
    },
    {
     "name": "stdout",
     "output_type": "stream",
     "text": [
      "4.42164300807\n"
     ]
    }
   ],
   "source": [
    "# Baseline Revenue Results \n",
    "trial_1, trial_2, trueValue, MMprice_1, rmse = runlmsr_uniform(200, 1000, 125, 20)\n",
    "\n",
    "# plot sample simulation\n",
    "xs = np.arange(0,200,1)\n",
    "plt.plot(xs, trueValue, xs, MMprice_1)\n",
    "plt.xlabel('Iteration')\n",
    "plt.ylabel('Instantaneous Price of Contract 1')\n",
    "plt.title('Baseline Analysis of LMSR - Uniform Shock')\n",
    "plt.legend(('True Value', 'Instantaneous Price of Market Maker'),4, fontsize='x-small')\n",
    "plt.show() \n",
    "\n",
    "# outcome 1 occurs\n",
    "print(np.average(trial_1))\n",
    "print(np.std(trial_1))\n",
    "print(np.min(trial_1))\n",
    "\n",
    "plt.hist(trial_1, normed=1)\n",
    "plt.xlabel('Profit')\n",
    "plt.ylabel('Frequency')\n",
    "plt.title('Uniform Shock: Histogram of Profit if Outcome 1 Occured')\n",
    "plt.show()\n",
    "\n",
    "#outcome 2 occurs\n",
    "print(np.average(trial_2))\n",
    "print(np.std(trial_2))\n",
    "print(np.min(trial_2))\n",
    "plt.hist(trial_2, normed=1)\n",
    "plt.xlabel('Profit')\n",
    "plt.ylabel('Frequency')\n",
    "plt.title('Uniform Shock: Histogram of Profit if Outcome 2 Occured')\n",
    "plt.show()\n",
    "\n",
    "print(np.mean(rmse))"
   ]
  },
  {
   "cell_type": "code",
   "execution_count": 11,
   "metadata": {
    "collapsed": false
   },
   "outputs": [
    {
     "name": "stdout",
     "output_type": "stream",
     "text": [
      "-289.338310263\n",
      "268.024377577\n",
      "-693.04717556\n",
      "879.298430113\n",
      "1486.25452085\n",
      "-455.995608673\n",
      "4.82490883482\n",
      "-3638.85759093\n",
      "3415.00017221\n",
      "-8663.0896945\n",
      "11359.6961521\n",
      "19360.1710802\n",
      "-5496.48230051\n",
      "4.47396637543\n",
      "-7515.22086092\n",
      "6684.1169674\n",
      "-17326.179389\n",
      "22388.1314482\n",
      "35283.8700801\n",
      "-13180.8623422\n",
      "4.74172624869\n",
      "-15333.5695164\n",
      "12936.1425327\n",
      "-34530.8666539\n",
      "38195.6988769\n",
      "44466.3303786\n",
      "-26731.3058096\n",
      "5.73996458788\n"
     ]
    }
   ],
   "source": [
    "beta = [10, 125, 250,500]\n",
    "\n",
    "for betaspecific in beta:\n",
    "    # Baseline Revenue Results \n",
    "    trial_1, trial_2, trueValue, MMprice_1, rmse = runlmsr_uniform(200, 1000, betaspecific, 20)\n",
    "    print(np.average(trial_1))\n",
    "    print(np.std(trial_1))\n",
    "    print(np.min(trial_1))\n",
    "    print(np.average(trial_2))\n",
    "    print(np.std(trial_2))\n",
    "    print(np.min(trial_2))\n",
    "    print(np.mean(rmse))"
   ]
  },
  {
   "cell_type": "code",
   "execution_count": 19,
   "metadata": {
    "collapsed": true
   },
   "outputs": [],
   "source": [
    "#Liquidity Sensitive LMSR Implementation Das Interpretation\n",
    "\n",
    "def runlslmsr_uniform(iterations, trialnumber, traderAlphaExponential, alpha, initialsubsidy):\n",
    "    trial_1 = np.zeros(trialnumber)\n",
    "    trial_2 = np.zeros(trialnumber)\n",
    "    rmse = np.zeros(trialnumber)\n",
    "    \n",
    "    for i in np.arange(0,trialnumber,1):\n",
    "        # Initialize Market Model\n",
    "        initialValue = np.random.normal(50,12)\n",
    "        if initialValue < 0:\n",
    "            initialValue = 0\n",
    "        if initialValue > 100:\n",
    "            initialValue = 100\n",
    "\n",
    "        # shock values\n",
    "        shock_prob= 1/100\n",
    "        shockSD = 5\n",
    "        # true asset value\n",
    "        trueValue = np.zeros(iterations)\n",
    "        trueValue[0] = initialValue\n",
    "\n",
    "        # Initial Trade Values\n",
    "        traderSD = 5\n",
    "        traderValueAll = np.zeros(iterations)\n",
    "        traderValueAll[0] = initialValue\n",
    "\n",
    "        #initial MM values\n",
    "\n",
    "        #outcome 1\n",
    "        MMquantity_1 = np.zeros(iterations)\n",
    "        MMquantity_1[0] = initialsubsidy\n",
    "        MMprice_1 = np.zeros(iterations)\n",
    "        MMprice_1[0] = 50\n",
    "\n",
    "        #outcome 2\n",
    "        MMquantity_2 = np.zeros(iterations)\n",
    "        MMquantity_2[0] = initialsubsidy\n",
    "        MMprice_2 = np.zeros(iterations)\n",
    "        MMprice_2[0] = 50\n",
    "\n",
    "        #revenue\n",
    "        MMpayment = np.zeros(iterations)\n",
    "        MMpayment[0] = 0\n",
    "\n",
    "        difference = np.zeros(iterations)\n",
    "        \n",
    "        for time in np.arange(1,iterations,1):\n",
    "            initialValue = trueValue[time-1]\n",
    "            if time == iterations/2:\n",
    "                initialValue = initialValue + np.random.uniform(0, 40)\n",
    "            trueValue[time] = initialValue\n",
    "            traderValue = np.random.normal(initialValue, traderSD)\n",
    "            traderValueAll[time] = traderValue\n",
    "            # normalize trader value\n",
    "            if traderValue <= 0:\n",
    "                traderValue = 0.01\n",
    "            if traderValue >= 100:\n",
    "                traderValue = 99.99\n",
    "            quantityTrader = np.random.exponential(traderAlphaExponential)\n",
    "            currentquantity_1 = np.sum(MMquantity_1)\n",
    "            currentquantity_2 = np.sum(MMquantity_2)\n",
    "            MMb = alpha*(currentquantity_1 + currentquantity_2)\n",
    "            \n",
    "            if traderValue > MMprice_1[time - 1]:\n",
    "                quantityTrader_1 = quantityTrader\n",
    "                MMquantity_1[time] = quantityTrader_1 \n",
    "                newquantity_1 = quantityTrader_1 + currentquantity_1\n",
    "                newquantity_2 = currentquantity_2\n",
    "            else:\n",
    "                quantityTrader_2 = quantityTrader\n",
    "                MMquantity_2[time] = quantityTrader_2\n",
    "                newquantity_2 = quantityTrader_2 + currentquantity_2\n",
    "                newquantity_1 = currentquantity_1\n",
    "                \n",
    "            MMpayment[time] = 100*MMb*(np.log(np.exp(newquantity_1/MMb)+np.exp(newquantity_2/MMb))- \\\n",
    "                                       np.log(np.exp(currentquantity_1/MMb)+np.exp(currentquantity_2/MMb)))\n",
    "            MMprice_1[time] = 100*(alpha*np.log(np.exp(newquantity_1/MMb)+np.exp(newquantity_2/MMb)) + \\\n",
    "                                       (newquantity_2*(np.exp(newquantity_1/MMb)-np.exp(newquantity_2/MMb))) / \\\n",
    "                                       ((newquantity_1 + newquantity_2)*(np.exp(newquantity_1/MMb) + np.exp(newquantity_2/MMb))))\n",
    "            MMprice_2[time] = 100*(alpha*np.log(np.exp(newquantity_1/MMb)+np.exp(newquantity_2/MMb)) + \\\n",
    "                                       (newquantity_1*(np.exp(newquantity_2/MMb)-np.exp(newquantity_1/MMb))) / \\\n",
    "                                       ((newquantity_1 + newquantity_2)*(np.exp(newquantity_1/MMb) + np.exp(newquantity_2/MMb))))\n",
    "            \n",
    "            difference[time] = (MMprice_1[time] - trueValue[time]) ** 2\n",
    "        trial_1[i] = np.sum(MMpayment)-100*np.sum(MMquantity_1)\n",
    "        trial_2[i] = np.sum(MMpayment)-100*np.sum(MMquantity_2)\n",
    "        rmse[i] = np.sqrt(np.sum(difference)/iterations)\n",
    "    return trial_1, trial_2, trueValue, MMprice_1, rmse"
   ]
  },
  {
   "cell_type": "code",
   "execution_count": 30,
   "metadata": {
    "collapsed": false
   },
   "outputs": [
    {
     "data": {
      "image/png": "[encoded data removed]",
      "text/plain": [
       "<matplotlib.figure.Figure at 0x17986b00>"
      ]
     },
     "metadata": {},
     "output_type": "display_data"
    },
    {
     "name": "stdout",
     "output_type": "stream",
     "text": [
      "428.363032442\n",
      "87413.6149117\n",
      "-181748.934382\n"
     ]
    },
    {
     "data": {
      "image/png": "[encoded data removed]",
      "text/plain": [
       "<matplotlib.figure.Figure at 0x176cf828>"
      ]
     },
     "metadata": {},
     "output_type": "display_data"
    },
    {
     "name": "stdout",
     "output_type": "stream",
     "text": [
      "-147787.552834\n",
      "47449.1534069\n",
      "-228874.713713\n"
     ]
    },
    {
     "data": {
      "image/png": "[encoded data removed]",
      "text/plain": [
       "<matplotlib.figure.Figure at 0x179f03c8>"
      ]
     },
     "metadata": {},
     "output_type": "display_data"
    },
    {
     "name": "stdout",
     "output_type": "stream",
     "text": [
      "16.3480692149\n"
     ]
    }
   ],
   "source": [
    "# Baseline Revenue Results \n",
    "trial_1, trial_2, trueValue, MMprice_1,rmse = runlslmsr_uniform(200, 1000, 20, 0.5, 1000)\n",
    "\n",
    "# plot sample simulation\n",
    "xs = np.arange(0,200,1)\n",
    "plt.plot(xs, trueValue, xs, MMprice_1)\n",
    "plt.xlabel('Iteration')\n",
    "plt.ylabel('Instantaneous Price of Contract 1')\n",
    "plt.title('Baseline Analysis of LS LMSR - Uniform Shock')\n",
    "plt.legend(('True Value', 'Instantaneous Price of Market Maker'),4, fontsize='x-small')\n",
    "plt.show() \n",
    "\n",
    "# outcome 1 occurs\n",
    "print(np.average(trial_1))\n",
    "print(np.std(trial_1))\n",
    "print(np.min(trial_1))\n",
    "\n",
    "plt.hist(trial_1, normed=1)\n",
    "plt.xlabel('Profit')\n",
    "plt.ylabel('Frequency')\n",
    "plt.title('Uniform Shock: Histogram of Profit if Outcome 1 Occured')\n",
    "plt.show()\n",
    "\n",
    "#outcome 2 occurs\n",
    "print(np.average(trial_2))\n",
    "print(np.std(trial_2))\n",
    "print(np.min(trial_2))\n",
    "plt.hist(trial_2, normed=1)\n",
    "plt.xlabel('Profit')\n",
    "plt.ylabel('Frequency')\n",
    "plt.title('Uniform Shock: Histogram of Profit if Outcome 2 Occured')\n",
    "plt.show()\n",
    "\n",
    "print(np.mean(rmse))"
   ]
  },
  {
   "cell_type": "code",
   "execution_count": 23,
   "metadata": {
    "collapsed": false
   },
   "outputs": [
    {
     "name": "stdout",
     "output_type": "stream",
     "text": [
      "-105804.823615\n",
      "8011.1820146\n",
      "-116894.977894\n",
      "-79632.9733854\n",
      "27053.3115143\n",
      "-110861.111069\n",
      "5.92148034369\n",
      "-109519.07859\n",
      "16486.2576049\n",
      "-135332.972147\n",
      "-69452.1373195\n",
      "41014.9721219\n",
      "-120620.946421\n",
      "5.72972551557\n",
      "-84289.0942929\n",
      "57085.2190902\n",
      "-185640.45876\n",
      "-89683.307401\n",
      "51141.87491\n",
      "-173781.346042\n",
      "9.26068376939\n",
      "-475.602700998\n",
      "88991.0924102\n",
      "-188218.447111\n",
      "-146856.425636\n",
      "48338.1315131\n",
      "-225903.686016\n",
      "16.4229057907\n"
     ]
    }
   ],
   "source": [
    "alpha = [0.05, 0.1, 0.3, 0.5]\n",
    "\n",
    "for alphaspecific in alpha:\n",
    "    # Baseline Revenue Results \n",
    "    trial_1, trial_2, trueValue, MMprice_1, rmse = runlslmsr_uniform(200, 1000, 20, alphaspecific, 1000)\n",
    "    print(np.average(trial_1))\n",
    "    print(np.std(trial_1))\n",
    "    print(np.min(trial_1))\n",
    "    print(np.average(trial_2))\n",
    "    print(np.std(trial_2))\n",
    "    print(np.min(trial_2))\n",
    "    print(np.mean(rmse))"
   ]
  },
  {
   "cell_type": "code",
   "execution_count": 24,
   "metadata": {
    "collapsed": false
   },
   "outputs": [
    {
     "name": "stdout",
     "output_type": "stream",
     "text": [
      "73867.1434781\n",
      "79639.6658317\n",
      "-76594.7621178\n",
      "-28371.0139203\n",
      "35878.8981821\n",
      "-78408.1076239\n",
      "9.21434232583\n",
      "32413.6363392\n",
      "77056.8599564\n",
      "-130860.039116\n",
      "-79872.4262367\n",
      "40970.3801638\n",
      "-148595.97499\n",
      "12.953416691\n",
      "-148.519893153\n",
      "89371.3947278\n",
      "-172581.344445\n",
      "-147145.294182\n",
      "47654.3548158\n",
      "-236426.466944\n",
      "16.3634528725\n",
      "-354020.864326\n",
      "89343.141358\n",
      "-587434.365283\n",
      "-610015.461781\n",
      "65288.2422242\n",
      "-699201.897623\n",
      "23.9681426411\n"
     ]
    }
   ],
   "source": [
    "initial = [100, 500, 1000, 5000]\n",
    "\n",
    "for initialspecific in initial:\n",
    "    # Baseline Revenue Results \n",
    "    trial_1, trial_2, trueValue, MMprice_1, rmse = runlslmsr_uniform(200, 1000,20, 0.5, initialspecific)\n",
    "    print(np.average(trial_1))\n",
    "    print(np.std(trial_1))\n",
    "    print(np.min(trial_1))\n",
    "    print(np.average(trial_2))\n",
    "    print(np.std(trial_2))\n",
    "    print(np.min(trial_2))\n",
    "    print(np.mean(rmse))"
   ]
  },
  {
   "cell_type": "markdown",
   "metadata": {},
   "source": [
    "## Proposed LMSR\\* model"
   ]
  },
  {
   "cell_type": "code",
   "execution_count": 31,
   "metadata": {
    "collapsed": false
   },
   "outputs": [],
   "source": [
    "def runproplmsr_gaussian(iterations, trialnumber, traderAlphaExponential, shock_prob, shock_sd, alpha, initialsubsidy, window):\n",
    "    trial_1 = np.zeros(trialnumber)\n",
    "    trial_2 = np.zeros(trialnumber)\n",
    "    rmse = np.zeros(trialnumber)\n",
    "    \n",
    "    for i in np.arange(0,trialnumber,1):\n",
    "        # Initialize Market Model\n",
    "        initialValue = np.random.normal(50,12)\n",
    "        if initialValue < 0:\n",
    "            initialValue = 0\n",
    "        if initialValue > 100:\n",
    "            initialValue = 100\n",
    "\n",
    "        # shock values\n",
    "        shock_prob= 1/100\n",
    "        shockSD = 5\n",
    "        # true asset value\n",
    "        trueValue = np.zeros(iterations)\n",
    "        trueValue[0] = initialValue\n",
    "\n",
    "        # Initial Trade Values\n",
    "        traderSD = 5\n",
    "        traderValueAll = np.zeros(iterations)\n",
    "        traderValueAll[0] = initialValue\n",
    "        \n",
    "        #initial MM values\n",
    "\n",
    "        #outcome 1\n",
    "        MMquantity_1 = np.zeros(iterations)\n",
    "        MMquantity_1[0] = initialsubsidy\n",
    "        MMprice_1 = np.zeros(iterations)\n",
    "        MMprice_1[0] = 50\n",
    "\n",
    "        #outcome 2\n",
    "        MMquantity_2 = np.zeros(iterations)\n",
    "        MMquantity_2[0] = initialsubsidy\n",
    "        MMprice_2 = np.zeros(iterations)\n",
    "        MMprice_2[0] = 50\n",
    "\n",
    "        #revenue\n",
    "        MMpayment = np.zeros(iterations)\n",
    "        MMpayment[0] = 0\n",
    "        \n",
    "        difference = np.zeros(iterations)\n",
    "        indic = 0\n",
    "        #keep track of buy contract 1 or contract 2, buy contract 1 = 1, buy contract 2 = 2, no trade = 3\n",
    "        buysell = np.zeros(iterations)\n",
    "        #keep track of how many days since last reset\n",
    "        counter_reset = 0\n",
    "        for time in np.arange(1,iterations,1):\n",
    "            counter_reset += 1\n",
    "            initialValue = trueValue[time-1]\n",
    "            if np.random.binomial(1,shock_prob) == 1:\n",
    "                initialValue = initialValue + np.random.normal(0, shockSD)\n",
    "            trueValue[time] = initialValue\n",
    "            traderValue = np.random.normal(initialValue, traderSD)\n",
    "            traderValueAll[time] = traderValue\n",
    "            # normalize trader value\n",
    "            if traderValue <= 0:\n",
    "                traderValue = 0.01\n",
    "            if traderValue >= 100:\n",
    "                traderValue = 99.99\n",
    "            quantityTrader = np.random.exponential(traderAlphaExponential)\n",
    "            currentquantity_1 = np.sum(MMquantity_1)\n",
    "            currentquantity_2 = np.sum(MMquantity_2)\n",
    "            # http://stackoverflow.com/questions/10711918/python-reduce-to-check-if-all-elements-are-equal\n",
    "            if time > window:\n",
    "                historicalwindow = buysell[(time-10):time]\n",
    "                if (all(e == historicalwindow[0] for e in historicalwindow)) == 1 and counter_reset > window:\n",
    "                    counter_reset = 0  \n",
    "                    f = lambda q: (alpha*np.log(np.exp(q/(q+initialsubsidy)) + \\\n",
    "                       np.exp(initialsubsidy/(q+initialsubsidy))) + (initialsubsidy*(np.exp(q/(q+initialsubsidy)) - \\\n",
    "                       np.exp(initialsubsidy/(q+initialsubsidy)))) / ((q+initialsubsidy)*(np.exp(q/(q+initialsubsidy)) + \\\n",
    "                       np.exp(initialsubsidy/(q+initialsubsidy))))) - (MMprice_1[time-1]/100)\n",
    "                    print f(0), f(float(initialsubsidy*1000.)), (MMprice_1[time-1]/100)\n",
    "                    res, convergence = scipy.optimize.brentq(f, 0.0, float(initialsubsidy*1000.))\n",
    "                    if convergence == 1:\n",
    "                        newinitialquantity_1 = res\n",
    "                    else:\n",
    "                        print time, i, MMprice_1[time - 1], traderValue, currentquantity_1, currentquantity_2\n",
    "                        raise NameError('Problem with Quantity Calculation')\n",
    "                    MMb = alpha*(initialsubsidy + newinitialquantity_1)    \n",
    "                    currentquantity_1 = newinitialquantity_1\n",
    "                    currrentquantity_2 = initialsubsidy\n",
    "                    indic = 1\n",
    "                elif counter_reset <= window:\n",
    "                    Tquantity_1 = np.sum(MMquantity_1[0:(time-counter_reset+1)])\n",
    "                    Tquantity_2 = np.sum(MMquantity_2[0:(time-counter_reset+1)])\n",
    "                    MMb = alpha*(currentquantity_1-Tquantity_1+currentquantity_2-Tquantity_2)\n",
    "                    currentquantity_1 = currentquantity_1 - Tquantity_1 + newinitialquantity_1\n",
    "                    currentquantity_2 = currentquantity_2 - Tquantity_2 + initialsubsidy\n",
    "                else:\n",
    "                    if indic == 1:\n",
    "                        MMb = alpha*(currentquantity_1 - Tquantity_1 + newinitialquantity_1 + \\\n",
    "                                  currentquantity_2 - Tquantity_2  + initialsubsidy)  \n",
    "                    else:\n",
    "                        MMb = alpha(currentquantity_1 + currentquantity_2)\n",
    "            else:\n",
    "                    MMb = alpha*(currentquantity_1 + currentquantity_2)  \n",
    "            if traderValue > MMprice_1[time - 1]:\n",
    "                quantityTrader_1 = quantityTrader\n",
    "                MMquantity_1[time] = quantityTrader_1 \n",
    "                newquantity_1 = quantityTrader_1 + currentquantity_1\n",
    "                newquantity_2 = currentquantity_2\n",
    "                buysell[time] = 1\n",
    "            else:\n",
    "                quantityTrader_2 = quantityTrader\n",
    "                MMquantity_2[time] = quantityTrader_2\n",
    "                newquantity_2 = quantityTrader_2 + currentquantity_2\n",
    "                newquantity_1 = currentquantity_1\n",
    "                buysell[time] = 2\n",
    "            MMpayment[time] = 100*MMb*(np.log(np.exp(newquantity_1/MMb)+np.exp(newquantity_2/MMb))- \\\n",
    "                                       np.log(np.exp(currentquantity_1/MMb)+np.exp(currentquantity_2/MMb)))\n",
    "            MMprice_1[time] = 100*(alpha*np.log(np.exp(newquantity_1/MMb)+np.exp(newquantity_2/MMb)) + \\\n",
    "                                       (newquantity_2*(np.exp(newquantity_1/MMb)-np.exp(newquantity_2/MMb))) / \\\n",
    "                                       ((newquantity_1 + newquantity_2)*(np.exp(newquantity_1/MMb) + np.exp(newquantity_2/MMb))))\n",
    "            MMprice_2[time] = 100*(alpha*np.log(np.exp(newquantity_1/MMb)+np.exp(newquantity_2/MMb)) + \\\n",
    "                                       (newquantity_1*(np.exp(newquantity_2/MMb)-np.exp(newquantity_1/MMb))) / \\\n",
    "                                       ((newquantity_1 + newquantity_2)*(np.exp(newquantity_1/MMb) + np.exp(newquantity_2/MMb))))\n",
    "\n",
    "            difference[time] = (MMprice_1[time] - trueValue[time]) ** 2\n",
    "            if MMprice_1[time]>100 or MMprice_2[time]>100:\n",
    "                MMquantity_1[time] = 0\n",
    "                MMquantity_2[time] = 0\n",
    "                MMprice_1[time] = MMprice_1[time-1]\n",
    "                MMprice_2[time] = MMprice_1[time-1]\n",
    "                MMpayment[time] = 0\n",
    "        trial_1[i] = np.sum(MMpayment)-100*np.sum(MMquantity_1)\n",
    "        trial_2[i] = np.sum(MMpayment)-100*np.sum(MMquantity_2)\n",
    "        rmse[i] = np.sqrt(np.sum(difference)/iterations)\n",
    "    return trial_1, trial_2, trueValue, MMprice_1, rmse"
   ]
  },
  {
   "cell_type": "code",
   "execution_count": 32,
   "metadata": {
    "collapsed": false
   },
   "outputs": [
    {
     "name": "stdout",
     "output_type": "stream",
     "text": [
      "-0.432222608809 0.0301247872425 0.626736295308\n"
     ]
    },
    {
     "ename": "TypeError",
     "evalue": "'float' object is not iterable",
     "output_type": "error",
     "traceback": [
      "\u001b[1;31m---------------------------------------------------------------------------\u001b[0m",
      "\u001b[1;31mTypeError\u001b[0m                                 Traceback (most recent call last)",
      "\u001b[1;32m<ipython-input-32-38e8aa271779>\u001b[0m in \u001b[0;36m<module>\u001b[1;34m()\u001b[0m\n\u001b[0;32m      1\u001b[0m \u001b[1;31m# Baseline Revenue Results\u001b[0m\u001b[1;33m\u001b[0m\u001b[1;33m\u001b[0m\u001b[0m\n\u001b[1;32m----> 2\u001b[1;33m \u001b[0mtrial_1\u001b[0m\u001b[1;33m,\u001b[0m \u001b[0mtrial_2\u001b[0m\u001b[1;33m,\u001b[0m \u001b[0mtrueValue\u001b[0m\u001b[1;33m,\u001b[0m \u001b[0mMMprice_1\u001b[0m\u001b[1;33m,\u001b[0m \u001b[0mrmse\u001b[0m \u001b[1;33m=\u001b[0m \u001b[0mrunproplmsr_gaussian\u001b[0m\u001b[1;33m(\u001b[0m\u001b[1;36m200\u001b[0m\u001b[1;33m,\u001b[0m \u001b[1;36m1\u001b[0m\u001b[1;33m,\u001b[0m \u001b[1;36m20\u001b[0m\u001b[1;33m,\u001b[0m \u001b[1;36m1\u001b[0m\u001b[1;33m/\u001b[0m\u001b[1;36m100\u001b[0m\u001b[1;33m,\u001b[0m \u001b[1;36m5\u001b[0m\u001b[1;33m,\u001b[0m \u001b[1;36m0.5\u001b[0m\u001b[1;33m,\u001b[0m \u001b[1;36m500\u001b[0m\u001b[1;33m,\u001b[0m \u001b[1;36m50\u001b[0m\u001b[1;33m)\u001b[0m\u001b[1;33m\u001b[0m\u001b[0m\n\u001b[0m\u001b[0;32m      3\u001b[0m \u001b[1;33m\u001b[0m\u001b[0m\n\u001b[0;32m      4\u001b[0m \u001b[1;31m# plot sample simulation\u001b[0m\u001b[1;33m\u001b[0m\u001b[1;33m\u001b[0m\u001b[0m\n\u001b[0;32m      5\u001b[0m \u001b[0mxs\u001b[0m \u001b[1;33m=\u001b[0m \u001b[0mnp\u001b[0m\u001b[1;33m.\u001b[0m\u001b[0marange\u001b[0m\u001b[1;33m(\u001b[0m\u001b[1;36m0\u001b[0m\u001b[1;33m,\u001b[0m\u001b[1;36m200\u001b[0m\u001b[1;33m,\u001b[0m\u001b[1;36m1\u001b[0m\u001b[1;33m)\u001b[0m\u001b[1;33m\u001b[0m\u001b[0m\n",
      "\u001b[1;32m<ipython-input-31-c6168f918aec>\u001b[0m in \u001b[0;36mrunproplmsr_gaussian\u001b[1;34m(iterations, trialnumber, traderAlphaExponential, shock_prob, shock_sd, alpha, initialsubsidy, window)\u001b[0m\n\u001b[0;32m     71\u001b[0m                     \u001b[0mf\u001b[0m \u001b[1;33m=\u001b[0m \u001b[1;32mlambda\u001b[0m \u001b[0mq\u001b[0m\u001b[1;33m:\u001b[0m \u001b[1;33m(\u001b[0m\u001b[0malpha\u001b[0m\u001b[1;33m*\u001b[0m\u001b[0mnp\u001b[0m\u001b[1;33m.\u001b[0m\u001b[0mlog\u001b[0m\u001b[1;33m(\u001b[0m\u001b[0mnp\u001b[0m\u001b[1;33m.\u001b[0m\u001b[0mexp\u001b[0m\u001b[1;33m(\u001b[0m\u001b[0mq\u001b[0m\u001b[1;33m/\u001b[0m\u001b[1;33m(\u001b[0m\u001b[0mq\u001b[0m\u001b[1;33m+\u001b[0m\u001b[0minitialsubsidy\u001b[0m\u001b[1;33m)\u001b[0m\u001b[1;33m)\u001b[0m \u001b[1;33m+\u001b[0m                        \u001b[0mnp\u001b[0m\u001b[1;33m.\u001b[0m\u001b[0mexp\u001b[0m\u001b[1;33m(\u001b[0m\u001b[0minitialsubsidy\u001b[0m\u001b[1;33m/\u001b[0m\u001b[1;33m(\u001b[0m\u001b[0mq\u001b[0m\u001b[1;33m+\u001b[0m\u001b[0minitialsubsidy\u001b[0m\u001b[1;33m)\u001b[0m\u001b[1;33m)\u001b[0m\u001b[1;33m)\u001b[0m \u001b[1;33m+\u001b[0m \u001b[1;33m(\u001b[0m\u001b[0minitialsubsidy\u001b[0m\u001b[1;33m*\u001b[0m\u001b[1;33m(\u001b[0m\u001b[0mnp\u001b[0m\u001b[1;33m.\u001b[0m\u001b[0mexp\u001b[0m\u001b[1;33m(\u001b[0m\u001b[0mq\u001b[0m\u001b[1;33m/\u001b[0m\u001b[1;33m(\u001b[0m\u001b[0mq\u001b[0m\u001b[1;33m+\u001b[0m\u001b[0minitialsubsidy\u001b[0m\u001b[1;33m)\u001b[0m\u001b[1;33m)\u001b[0m \u001b[1;33m-\u001b[0m                        \u001b[0mnp\u001b[0m\u001b[1;33m.\u001b[0m\u001b[0mexp\u001b[0m\u001b[1;33m(\u001b[0m\u001b[0minitialsubsidy\u001b[0m\u001b[1;33m/\u001b[0m\u001b[1;33m(\u001b[0m\u001b[0mq\u001b[0m\u001b[1;33m+\u001b[0m\u001b[0minitialsubsidy\u001b[0m\u001b[1;33m)\u001b[0m\u001b[1;33m)\u001b[0m\u001b[1;33m)\u001b[0m\u001b[1;33m)\u001b[0m \u001b[1;33m/\u001b[0m \u001b[1;33m(\u001b[0m\u001b[1;33m(\u001b[0m\u001b[0mq\u001b[0m\u001b[1;33m+\u001b[0m\u001b[0minitialsubsidy\u001b[0m\u001b[1;33m)\u001b[0m\u001b[1;33m*\u001b[0m\u001b[1;33m(\u001b[0m\u001b[0mnp\u001b[0m\u001b[1;33m.\u001b[0m\u001b[0mexp\u001b[0m\u001b[1;33m(\u001b[0m\u001b[0mq\u001b[0m\u001b[1;33m/\u001b[0m\u001b[1;33m(\u001b[0m\u001b[0mq\u001b[0m\u001b[1;33m+\u001b[0m\u001b[0minitialsubsidy\u001b[0m\u001b[1;33m)\u001b[0m\u001b[1;33m)\u001b[0m \u001b[1;33m+\u001b[0m                        \u001b[0mnp\u001b[0m\u001b[1;33m.\u001b[0m\u001b[0mexp\u001b[0m\u001b[1;33m(\u001b[0m\u001b[0minitialsubsidy\u001b[0m\u001b[1;33m/\u001b[0m\u001b[1;33m(\u001b[0m\u001b[0mq\u001b[0m\u001b[1;33m+\u001b[0m\u001b[0minitialsubsidy\u001b[0m\u001b[1;33m)\u001b[0m\u001b[1;33m)\u001b[0m\u001b[1;33m)\u001b[0m\u001b[1;33m)\u001b[0m\u001b[1;33m)\u001b[0m \u001b[1;33m-\u001b[0m \u001b[1;33m(\u001b[0m\u001b[0mMMprice_1\u001b[0m\u001b[1;33m[\u001b[0m\u001b[0mtime\u001b[0m\u001b[1;33m-\u001b[0m\u001b[1;36m1\u001b[0m\u001b[1;33m]\u001b[0m\u001b[1;33m/\u001b[0m\u001b[1;36m100\u001b[0m\u001b[1;33m)\u001b[0m\u001b[1;33m\u001b[0m\u001b[0m\n\u001b[0;32m     72\u001b[0m                     \u001b[1;32mprint\u001b[0m \u001b[0mf\u001b[0m\u001b[1;33m(\u001b[0m\u001b[1;36m0\u001b[0m\u001b[1;33m)\u001b[0m\u001b[1;33m,\u001b[0m \u001b[0mf\u001b[0m\u001b[1;33m(\u001b[0m\u001b[0mfloat\u001b[0m\u001b[1;33m(\u001b[0m\u001b[0minitialsubsidy\u001b[0m\u001b[1;33m*\u001b[0m\u001b[1;36m1000.\u001b[0m\u001b[1;33m)\u001b[0m\u001b[1;33m)\u001b[0m\u001b[1;33m,\u001b[0m \u001b[1;33m(\u001b[0m\u001b[0mMMprice_1\u001b[0m\u001b[1;33m[\u001b[0m\u001b[0mtime\u001b[0m\u001b[1;33m-\u001b[0m\u001b[1;36m1\u001b[0m\u001b[1;33m]\u001b[0m\u001b[1;33m/\u001b[0m\u001b[1;36m100\u001b[0m\u001b[1;33m)\u001b[0m\u001b[1;33m\u001b[0m\u001b[0m\n\u001b[1;32m---> 73\u001b[1;33m                     \u001b[0mres\u001b[0m\u001b[1;33m,\u001b[0m \u001b[0mconvergence\u001b[0m \u001b[1;33m=\u001b[0m \u001b[0mscipy\u001b[0m\u001b[1;33m.\u001b[0m\u001b[0moptimize\u001b[0m\u001b[1;33m.\u001b[0m\u001b[0mbrentq\u001b[0m\u001b[1;33m(\u001b[0m\u001b[0mf\u001b[0m\u001b[1;33m,\u001b[0m \u001b[1;36m0.0\u001b[0m\u001b[1;33m,\u001b[0m \u001b[0mfloat\u001b[0m\u001b[1;33m(\u001b[0m\u001b[0minitialsubsidy\u001b[0m\u001b[1;33m*\u001b[0m\u001b[1;36m1000.\u001b[0m\u001b[1;33m)\u001b[0m\u001b[1;33m)\u001b[0m\u001b[1;33m\u001b[0m\u001b[0m\n\u001b[0m\u001b[0;32m     74\u001b[0m                     \u001b[1;32mif\u001b[0m \u001b[0mconvergence\u001b[0m \u001b[1;33m==\u001b[0m \u001b[1;36m1\u001b[0m\u001b[1;33m:\u001b[0m\u001b[1;33m\u001b[0m\u001b[0m\n\u001b[0;32m     75\u001b[0m                         \u001b[0mnewinitialquantity_1\u001b[0m \u001b[1;33m=\u001b[0m \u001b[0mres\u001b[0m\u001b[1;33m\u001b[0m\u001b[0m\n",
      "\u001b[1;31mTypeError\u001b[0m: 'float' object is not iterable"
     ]
    }
   ],
   "source": [
    "# Baseline Revenue Results \n",
    "trial_1, trial_2, trueValue, MMprice_1, rmse = runproplmsr_gaussian(200, 1, 20, 1/100, 5, 0.5, 500, 50)\n",
    "\n",
    "# plot sample simulation\n",
    "xs = np.arange(0,200,1)\n",
    "plt.plot(xs, trueValue, xs, MMprice_1)\n",
    "plt.xlabel('Iteration')\n",
    "plt.ylabel('Instantaneous Price of Contract 1')\n",
    "plt.title('Baseline Analysis of LMSR* - Gaussian Shocks')\n",
    "plt.legend(('True Value', 'Instantaneous Price of Market Maker'),4, fontsize='x-small')\n",
    "plt.show() \n",
    "\n",
    "# outcome 1 occurs\n",
    "print(np.average(trial_1))\n",
    "print(np.std(trial_1))\n",
    "print(np.min(trial_1))\n",
    "\n",
    "plt.hist(trial_1, normed=1)\n",
    "plt.xlabel('Profit')\n",
    "plt.ylabel('Frequency')\n",
    "plt.title('Gaussian Shocks: Histogram of Profit if Outcome 1 Occured')\n",
    "plt.show()\n",
    "\n",
    "#outcome 2 occurs\n",
    "print(np.average(trial_2))\n",
    "print(np.std(trial_2))\n",
    "print(np.min(trial_2))\n",
    "plt.hist(trial_2, normed=1)\n",
    "plt.xlabel('Profit')\n",
    "plt.ylabel('Frequency')\n",
    "plt.title('Gaussian Shocks: Histogram of Profit if Outcome 2 Occured')\n",
    "plt.show()\n",
    "\n",
    "print(np.mean(rmse))"
   ]
  },
  {
   "cell_type": "markdown",
   "metadata": {},
   "source": [
    "### LMSR TEXTBOOK"
   ]
  },
  {
   "cell_type": "code",
   "execution_count": 4,
   "metadata": {
    "collapsed": false
   },
   "outputs": [],
   "source": [
    "# LMSR Implementation Textbook Interpretation\n",
    "def runlmsr_gaussiantextbook(iterations, trialnumber, MMb, traderAlphaExponential, shock_prob, shockSD):\n",
    "    trial_1 = np.zeros(trialnumber)\n",
    "    trial_2 = np.zeros(trialnumber)\n",
    "    \n",
    "    for i in np.arange(0,trialnumber,1):\n",
    "        # Initialize Market Model\n",
    "        initialValue = np.random.normal(50,12)\n",
    "        if initialValue < 0:\n",
    "            initialValue = 0\n",
    "        if initialValue > 100:\n",
    "            initialValue = 100\n",
    "\n",
    "        # true asset value\n",
    "        trueValue = np.zeros(iterations)\n",
    "        trueValue[0] = initialValue\n",
    "\n",
    "        # Initial Trade Values\n",
    "        traderSD = 5\n",
    "        traderValueAll = np.zeros(iterations)\n",
    "        traderValueAll[0] = initialValue\n",
    "\n",
    "        #initial MM values\n",
    "\n",
    "        #outcome 1\n",
    "        MMquantity_1 = np.zeros(iterations)\n",
    "        MMquantity_1[0] = 0\n",
    "        MMprice_1 = np.zeros(iterations)\n",
    "        MMprice_1[0] = 50\n",
    "\n",
    "        #outcome 2\n",
    "        MMquantity_2 = np.zeros(iterations)\n",
    "        MMquantity_2[0] = 0\n",
    "        MMprice_2 = np.zeros(iterations)\n",
    "        MMprice_2[0] = 50\n",
    "\n",
    "        #revenue\n",
    "        MMpayment = np.zeros(iterations)\n",
    "        MMpayment[0] = 0\n",
    "\n",
    "        for time in np.arange(1,iterations,1):\n",
    "            initialvalue = trueValue[time-1]\n",
    "            if np.random.binomial(1,shock_prob) == 1:\n",
    "                initialValue = initialValue + np.random.normal(0, shockSD)\n",
    "            trueValue[time] = initialValue\n",
    "            traderValue = np.random.normal(initialValue, traderSD)\n",
    "            traderValueAll[time] = traderValue\n",
    "            # normalize trader value\n",
    "            if traderValue <= 0:\n",
    "                traderValue = 0.01\n",
    "            if traderValue >= 100:\n",
    "                traderValue = 99.99\n",
    "            currentquantity_1 = np.sum(MMquantity_1)\n",
    "            currentquantity_2 = np.sum(MMquantity_2)\n",
    "            if traderValue > MMprice_1[time - 1]:\n",
    "                quantityTrader_1 = MMb*(np.log((traderValue*(np.exp(currentquantity_2/MMb))/100) / \\\n",
    "                                                      (1-traderValue/100)))-currentquantity_1\n",
    "                # error checking\n",
    "                if quantityTrader_1 < 0 and traderValue<90.:\n",
    "                    print time, i, MMprice_1[time - 1], traderValue, currentquantity_1, currentquantity_2, quantityTrader_1\n",
    "                    raise NameError('Problem with Quantity Calculation')\n",
    "                MMquantity_1[time] = quantityTrader_1 \n",
    "                newquantity_1 = quantityTrader_1 + currentquantity_1\n",
    "                newquantity_2 = currentquantity_2\n",
    "            else:\n",
    "                quantityTrader_2 = MMb*(np.log(((100-traderValue)*(np.exp(currentquantity_1/MMb))/100)/ \\\n",
    "                                                      (1-(100-traderValue)/100)))-currentquantity_2\n",
    "                # error checking\n",
    "                if quantityTrader_2 < 0 and traderValue<90.:\n",
    "                    print time, i, MMprice_1[time - 1], traderValue, currentquantity_1, currentquantity_2, quantityTrader_2\n",
    "                    raise NameError('Problem with Quantity Calculation')\n",
    "                MMquantity_2[time] = quantityTrader_2\n",
    "                newquantity_2 = quantityTrader_2 + currentquantity_2\n",
    "                newquantity_1 = currentquantity_1\n",
    "            MMpayment[time] = 100*MMb*(np.log(np.exp(newquantity_1/MMb)+np.exp(newquantity_2/MMb))- \\\n",
    "                                       np.log(np.exp(currentquantity_1/MMb)+np.exp(currentquantity_2/MMb)))\n",
    "            MMprice_1[time] = 100*(np.exp(newquantity_1/MMb)/(np.exp(newquantity_1/MMb)+np.exp(newquantity_2/MMb)))\n",
    "            MMprice_2[time] = 100*(np.exp(newquantity_2/MMb)/(np.exp(newquantity_1/MMb)+np.exp(newquantity_2/MMb)))\n",
    "            if MMprice_1[time]>100 or MMprice_2[time]>100:\n",
    "                MMquantity_1[time] = 0\n",
    "                MMquantity_2[time] = 0\n",
    "                MMprice_1[time] = MMprice_1[time-1]\n",
    "                MMprice_2[time] = MMprice_1[time-1]\n",
    "                MMpayment[time] = 0\n",
    "        trial_1[i] = np.sum(MMpayment)-100*np.sum(MMquantity_1)\n",
    "        trial_2[i] = np.sum(MMpayment)-100*np.sum(MMquantity_2)\n",
    "    return trial_1, trial_2, trueValue, MMprice_1\n"
   ]
  },
  {
   "cell_type": "code",
   "execution_count": 5,
   "metadata": {
    "collapsed": false
   },
   "outputs": [
    {
     "data": {
      "image/png": "[encoded data removed]",
      "text/plain": [
       "<matplotlib.figure.Figure at 0x1723add8>"
      ]
     },
     "metadata": {},
     "output_type": "display_data"
    },
    {
     "name": "stdout",
     "output_type": "stream",
     "text": [
      "797.336224597\n",
      "5359.30468355\n",
      "-8663.0896945\n"
     ]
    },
    {
     "data": {
      "image/png": "[encoded data removed]",
      "text/plain": [
       "<matplotlib.figure.Figure at 0x170bda20>"
      ]
     },
     "metadata": {},
     "output_type": "display_data"
    },
    {
     "name": "stdout",
     "output_type": "stream",
     "text": [
      "705.597238106\n",
      "6287.47781319\n",
      "-8663.0896945\n"
     ]
    },
    {
     "data": {
      "image/png": "[encoded data removed]",
      "text/plain": [
       "<matplotlib.figure.Figure at 0x170b9438>"
      ]
     },
     "metadata": {},
     "output_type": "display_data"
    }
   ],
   "source": [
    "# Baseline Revenue Results \n",
    "trial_1, trial_2, trueValue, MMprice_1 = runlmsr_gaussiantextbook(200, 1000, 125, 20, 1/100, 5)\n",
    "# plot sample simulation\n",
    "xs = np.arange(0,200,1)\n",
    "plt.plot(xs, trueValue, xs, MMprice_1)\n",
    "plt.show() \n",
    "\n",
    "# outcome 1 occurs\n",
    "print(np.average(trial_1))\n",
    "print(np.std(trial_1))\n",
    "print(np.min(trial_1))\n",
    "plt.hist(trial_1, normed=1)\n",
    "plt.show()\n",
    "\n",
    "#outcome 2 occurs\n",
    "print(np.average(trial_2))\n",
    "print(np.std(trial_2))\n",
    "print(np.min(trial_2))\n",
    "plt.hist(trial_2, normed=1)\n",
    "plt.show()\n"
   ]
  },
  {
   "cell_type": "markdown",
   "metadata": {},
   "source": [
    "### Liquidity sensitive - trying an optimzer to solve for myopic trader"
   ]
  },
  {
   "cell_type": "code",
   "execution_count": 2,
   "metadata": {
    "collapsed": false
   },
   "outputs": [],
   "source": [
    "#Liquidity Sensitive LMSR Implementation Das Interpretation\n",
    "\n",
    "def runlslmsr_gaussianmyopic(iterations, trialnumber, traderAlphaExponential, shock_prob, shock_sd, alpha, initialsubsidy):\n",
    "    trial_1 = np.zeros(trialnumber)\n",
    "    trial_2 = np.zeros(trialnumber)\n",
    "\n",
    "    for i in np.arange(0,trialnumber,1):\n",
    "        # Initialize Market Model\n",
    "        initialValue = np.random.normal(50,12)\n",
    "        if initialValue < 0:\n",
    "            initialValue = 0\n",
    "        if initialValue > 100:\n",
    "            initialValue = 100\n",
    "\n",
    "        # shock values\n",
    "        shock_prob= 1/100\n",
    "        shockSD = 5\n",
    "        # true asset value\n",
    "        trueValue = np.zeros(iterations)\n",
    "        trueValue[0] = initialValue\n",
    "\n",
    "        # Initial Trade Values\n",
    "        traderSD = 5\n",
    "        traderValueAll = np.zeros(iterations)\n",
    "        traderValueAll[0] = initialValue\n",
    "\n",
    "        #initial MM values\n",
    "\n",
    "        #outcome 1\n",
    "        MMquantity_1 = np.zeros(iterations)\n",
    "        MMquantity_1[0] = initialsubsidy\n",
    "        MMprice_1 = np.zeros(iterations)\n",
    "        MMprice_1[0] = 50\n",
    "\n",
    "        #outcome 2\n",
    "        MMquantity_2 = np.zeros(iterations)\n",
    "        MMquantity_2[0] = initialsubsidy\n",
    "        MMprice_2 = np.zeros(iterations)\n",
    "        MMprice_2[0] = 50\n",
    "\n",
    "        #revenue\n",
    "        MMpayment = np.zeros(iterations)\n",
    "        MMpayment[0] = 0\n",
    "\n",
    "        for time in np.arange(1,iterations,1):\n",
    "            initialValue = trueValue[time-1]\n",
    "            if np.random.binomial(1,shock_prob) == 1:\n",
    "                initialValue = initialValue + np.random.normal(0, shockSD)\n",
    "            trueValue[time] = initialValue\n",
    "            traderValue = np.random.normal(initialValue, traderSD)\n",
    "            traderValueAll[time] = traderValue\n",
    "            # normalize trader value\n",
    "            if traderValue <= 0:\n",
    "                traderValue = 0.01\n",
    "            if traderValue >= 100:\n",
    "                traderValue = 99.99\n",
    "            quantityTrader = np.random.exponential(traderAlphaExponential)\n",
    "            currentquantity_1 = np.sum(MMquantity_1)\n",
    "            currentquantity_2 = np.sum(MMquantity_2)\n",
    "            MMb = alpha*(currentquantity_1 + currentquantity_2)\n",
    "            \n",
    "            if traderValue > MMprice_1[time - 1]:\n",
    "                f = lambda q: (alpha*np.log(np.exp(q/MMb) + \\\n",
    "                                           np.exp(currentquantity_2/MMb)) + (currentquantity_2*(np.exp(q/MMb) - \\\n",
    "                                           np.exp(currentquantity_2/MMb))) / ((q+currentquantity_2)*(np.exp(q/MMb) + \\\n",
    "                                           np.exp(currentquantity_2/MMb)))) - traderValue \n",
    "                res = minimize_scalar(f, method='brent')\n",
    "                if res.x > 0 and res.success == 1:\n",
    "                    quantityTrader_1 = min(quantityTrader, res.x)\n",
    "                else:\n",
    "                    quantityTrader_1 = quantityTrader\n",
    "                MMquantity_1[time] = quantityTrader_1 \n",
    "                newquantity_1 = quantityTrader_1 + currentquantity_1\n",
    "                newquantity_2 = currentquantity_2\n",
    "            else:\n",
    "                f = lambda q: (alpha*np.log(np.exp(q/MMb) + \\\n",
    "                                           np.exp(currentquantity_1/MMb)) + (currentquantity_1*(np.exp(q/MMb) - \\\n",
    "                                           np.exp(currentquantity_1/MMb))) / ((q+currentquantity_1)*(np.exp(q/MMb) + \\\n",
    "                                           np.exp(currentquantity_1/MMb)))) - traderValue \n",
    "                res = minimize_scalar(f, method='brent', options={'xtol': 0.001})\n",
    "                if res.x > 0 and res.success == 1:\n",
    "                    quantityTrader_2 = min(quantityTrader, res.x)\n",
    "                else:\n",
    "                    quantityTrader_2 = quantityTrader\n",
    "                MMquantity_2[time] = quantityTrader_2\n",
    "                newquantity_2 = quantityTrader_2 + currentquantity_2\n",
    "                newquantity_1 = currentquantity_1   \n",
    "            MMpayment[time] = 100*MMb*(np.log(np.exp(newquantity_1/MMb)+np.exp(newquantity_2/MMb))- \\\n",
    "                                       np.log(np.exp(currentquantity_1/MMb)+np.exp(currentquantity_2/MMb)))\n",
    "            MMprice_1[time] = 100*(alpha*np.log(np.exp(newquantity_1/MMb)+np.exp(newquantity_2/MMb)) + \\\n",
    "                                       (newquantity_2*(np.exp(newquantity_1/MMb)-np.exp(newquantity_2/MMb))) / \\\n",
    "                                       ((newquantity_1 + newquantity_2)*(np.exp(newquantity_1/MMb) + np.exp(newquantity_2/MMb))))\n",
    "            MMprice_2[time] = 100*(alpha*np.log(np.exp(newquantity_1/MMb)+np.exp(newquantity_2/MMb)) + \\\n",
    "                                       (newquantity_1*(np.exp(newquantity_2/MMb)-np.exp(newquantity_1/MMb))) / \\\n",
    "                                       ((newquantity_1 + newquantity_2)*(np.exp(newquantity_1/MMb) + np.exp(newquantity_2/MMb))))\n",
    "            if MMprice_1[time]>100 or MMprice_2[time]>100:\n",
    "                MMquantity_1[time] = 0\n",
    "                MMquantity_2[time] = 0\n",
    "                MMprice_1[time] = MMprice_1[time-1]\n",
    "                MMprice_2[time] = MMprice_1[time-1]\n",
    "                MMpayment[time] = 0\n",
    "        trial_1[i] = np.sum(MMpayment)-100*np.sum(MMquantity_1)\n",
    "        trial_2[i] = np.sum(MMpayment)-100*np.sum(MMquantity_2)\n",
    "    return trial_1, trial_2, trueValue, MMprice_1"
   ]
  },
  {
   "cell_type": "code",
   "execution_count": 3,
   "metadata": {
    "collapsed": false
   },
   "outputs": [
    {
     "data": {
      "image/png": "[encoded data removed]",
      "text/plain": [
       "<matplotlib.figure.Figure at 0x411f128>"
      ]
     },
     "metadata": {},
     "output_type": "display_data"
    },
    {
     "name": "stdout",
     "output_type": "stream",
     "text": [
      "inf\n",
      "nan\n",
      "-111.331687048\n"
     ]
    },
    {
     "data": {
      "image/png": "[encoded data removed]",
      "text/plain": [
       "<matplotlib.figure.Figure at 0x177dee80>"
      ]
     },
     "metadata": {},
     "output_type": "display_data"
    },
    {
     "name": "stdout",
     "output_type": "stream",
     "text": [
      "inf\n",
      "nan\n",
      "-109.422646291\n"
     ]
    },
    {
     "data": {
      "image/png": "[encoded data removed]",
      "text/plain": [
       "<matplotlib.figure.Figure at 0x17b2c860>"
      ]
     },
     "metadata": {},
     "output_type": "display_data"
    }
   ],
   "source": [
    "# Baseline Revenue Results \n",
    "trial_1, trial_2, trueValue, MMprice_1 = runlslmsr_gaussianmyopic(200, 1000, 20, 1/100, 5, 0.05, 1)\n",
    "\n",
    "# plot sample simulation\n",
    "xs = np.arange(0,200,1)\n",
    "plt.plot(xs, trueValue, xs, MMprice_1)\n",
    "plt.show() \n",
    "\n",
    "# outcome 1 occurs\n",
    "print(np.average(trial_1))\n",
    "print(np.std(trial_1))\n",
    "print(np.min(trial_1))\n",
    "plt.hist(trial_1, normed=1)\n",
    "plt.show()\n",
    "\n",
    "#outcome 2 occurs\n",
    "print(np.average(trial_2))\n",
    "print(np.std(trial_2))\n",
    "print(np.min(trial_2))\n",
    "plt.hist(trial_2, normed=1)\n",
    "plt.show()\n"
   ]
  },
  {
   "cell_type": "markdown",
   "metadata": {},
   "source": [
    "## COMBINATION (RUNNING LMSR AT SAME TIME AS LS LMSR)"
   ]
  },
  {
   "cell_type": "code",
   "execution_count": 11,
   "metadata": {
    "collapsed": true
   },
   "outputs": [],
   "source": [
    "# LMSR Implementation Das Interpretation\n",
    "# according to http://www.cse.wustl.edu/~mithunchakraborty/papers/AAAI15poster_final.pdf\n",
    "def bothlmsr_gaussian(iterations, trialnumber, typMMb, traderAlphaExponential, shock_prob, shock_sd):\n",
    "    typtrial_1 = np.zeros(trialnumber)\n",
    "    typtrial_2 = np.zeros(trialnumber)\n",
    "    typrmse = np.zeros(trialnumber)\n",
    "    lstrial_1 = np.zeros(trialnumber)\n",
    "    lstrial_2 = np.zeros(trialnumber)\n",
    "    lsrmse = np.zeros(trialnumber)\n",
    "    for i in np.arange(0,trialnumber,1):\n",
    "        # Initialize Market Model\n",
    "        initialValue = np.random.normal(50,12)\n",
    "        if initialValue < 0:\n",
    "            initialValue = 0\n",
    "        if initialValue > 100:\n",
    "            initialValue = 100\n",
    "\n",
    "        # shock values\n",
    "        shock_prob= 1/100\n",
    "        shockSD = 5\n",
    "        \n",
    "        # true asset value\n",
    "        trueValue = np.zeros(iterations)\n",
    "        trueValue[0] = initialValue\n",
    "\n",
    "        # Initial Trade Values\n",
    "        traderSD = 5\n",
    "        traderValueAll = np.zeros(iterations)\n",
    "        traderValueAll[0] = initialValue\n",
    "\n",
    "        #initial MM values\n",
    "\n",
    "        #outcome 1\n",
    "        typeMMquantity_1 = np.zeros(iterations)\n",
    "        typMMprice_1 = np.zeros(iterations)\n",
    "        typMMprice_1[0] = 50\n",
    "        lsMMquantity_1 = np.zeros(iterations)\n",
    "        lsMMprice_1 = np.zeros(iterations)\n",
    "        lsMMprice_1[0] = 50\n",
    "        \n",
    "        #outcome 2\n",
    "        typMMquantity_2 = np.zeros(iterations)\n",
    "        typMMprice_2 = np.zeros(iterations)\n",
    "        typMMprice_2[0] = 50\n",
    "        lsMMquantity_2 = np.zeros(iterations)\n",
    "        lsMMprice_2 = np.zeros(iterations)\n",
    "        lsMMprice_2[0] = 50\n",
    "        \n",
    "        #revenue\n",
    "        typMMpayment = np.zeros(iterations)\n",
    "        lsMMpayment = np.zeros(iterations)\n",
    "        \n",
    "        typdifference = np.zeros(iterations)\n",
    "        lsdifference = np.zeros(iterations)\n",
    "\n",
    "        for time in np.arange(1,iterations,1):\n",
    "            if np.random.binomial(1,shock_prob) == 1:\n",
    "                initialValue = initialValue + np.random.normal(0, shockSD)\n",
    "            trueValue[time] = initialValue\n",
    "            traderValue = np.random.normal(initialValue, traderSD)\n",
    "            traderValueAll[time] = traderValue\n",
    "            # normalize trader value\n",
    "            if traderValue <= 0:\n",
    "                traderValue = 0.01\n",
    "            if traderValue >= 100:\n",
    "                traderValue = 99.99\n",
    "            quantityTrader = np.random.exponential(traderAlphaExponential)\n",
    "            \n",
    "            # STANDARD LMSR \n",
    "            currentquantity_1 = np.sum(typMMquantity_1)\n",
    "            currentquantity_2 = np.sum(typMMquantity_2)\n",
    "            MMb = typMMb\n",
    "            \n",
    "            if traderValue > typMMprice_1[time - 1]:\n",
    "                quantityEquivalentprice = MMb*(np.log((traderValue*(np.exp(currentquantity_2/MMb))/100) / \\\n",
    "                                                      (1-traderValue/100)))-currentquantity_1\n",
    "                # error checking\n",
    "                if quantityEquivalentprice < 0 and traderValue < 99.:\n",
    "                    print time, i, typMMprice_1[time - 1], traderValue, currentquantity_1, currentquantity_2\n",
    "                    raise NameError('Problem with Quantity Calculation')\n",
    "                quantityTrader_1 = min(quantityTrader, quantityEquivalentprice)\n",
    "                typMMquantity_1[time] = quantityTrader_1 \n",
    "                newquantity_1 = quantityTrader_1 + currentquantity_1\n",
    "                newquantity_2 = currentquantity_2\n",
    "            else:\n",
    "                quantityEquivalentprice = MMb*(np.log(((100-traderValue)*(np.exp(currentquantity_1/MMb))/100)/ \\\n",
    "                                                      (1-(100-traderValue)/100)))-currentquantity_2\n",
    "                # error checking\n",
    "                if quantityEquivalentprice < 0 and traderValue < 99.:\n",
    "                    print time, i, typMMprice_1[time - 1], traderValue, currentquantity_1, currentquantity_2\n",
    "                    raise NameError('Problem with Quantity Calculation')\n",
    "                quantityTrader_2 = min(quantityTrader, quantityEquivalentprice)\n",
    "                typMMquantity_2[time] = quantityTrader_2\n",
    "                newquantity_2 = quantityTrader_2 + currentquantity_2\n",
    "                newquantity_1 = currentquantity_1\n",
    "            typMMpayment[time] = 100*MMb*(np.log(np.exp(newquantity_1/MMb)+np.exp(newquantity_2/MMb))- \\\n",
    "                                       np.log(np.exp(currentquantity_1/MMb)+np.exp(currentquantity_2/MMb)))\n",
    "            typMMprice_1[time] = 100*(np.exp(newquantity_1/MMb)/(np.exp(newquantity_1/MMb)+np.exp(newquantity_2/MMb)))\n",
    "            typMMprice_2[time] = 100*(np.exp(newquantity_2/MMb)/(np.exp(newquantity_1/MMb)+np.exp(newquantity_2/MMb)))\n",
    "            typdifference[time] = (typMMprice_1[time] - trueValue[time]) ** 2\n",
    "            \n",
    "            # LIQUID SENSITIVE LMSR\n",
    "            currentquantity_1 = np.sum(lsMMquantity_1)\n",
    "            currentquantity_2 = np.sum(lsMMquantity_2)\n",
    "            MMb = alpha*(currentquantity_1 + currentquantity_2)\n",
    "            if traderValue > lsMMprice_1[time - 1]:\n",
    "                quantityTrader_1 = quantityTrader\n",
    "                lsMMquantity_1[time] = quantityTrader_1 \n",
    "                newquantity_1 = quantityTrader_1 + currentquantity_1\n",
    "                newquantity_2 = currentquantity_2\n",
    "            else:\n",
    "                quantityTrader_2 = quantityTrader\n",
    "                lsMMquantity_2[time] = quantityTrader_2\n",
    "                newquantity_2 = quantityTrader_2 + currentquantity_2\n",
    "                newquantity_1 = currentquantity_1\n",
    "                \n",
    "            lsMMpayment[time] = 100*MMb*(np.log(np.exp(newquantity_1/MMb)+np.exp(newquantity_2/MMb))- \\\n",
    "                                       np.log(np.exp(currentquantity_1/MMb)+np.exp(currentquantity_2/MMb)))\n",
    "            lsMMprice_1[time] = 100*(alpha*np.log(np.exp(newquantity_1/MMb)+np.exp(newquantity_2/MMb)) + \\\n",
    "                                       (newquantity_2*(np.exp(newquantity_1/MMb)-np.exp(newquantity_2/MMb))) / \\\n",
    "                                       ((newquantity_1 + newquantity_2)*(np.exp(newquantity_1/MMb) + np.exp(newquantity_2/MMb))))\n",
    "            lsMMprice_2[time] = 100*(alpha*np.log(np.exp(newquantity_1/MMb)+np.exp(newquantity_2/MMb)) + \\\n",
    "                                       (newquantity_1*(np.exp(newquantity_2/MMb)-np.exp(newquantity_1/MMb))) / \\\n",
    "                                       ((newquantity_1 + newquantity_2)*(np.exp(newquantity_1/MMb) + np.exp(newquantity_2/MMb))))\n",
    "            lsdifference[time] = (lsMMprice_1[time] - trueValue[time]) ** 2\n",
    "        typtrial_1[i] = np.sum(typMMpayment)-100*np.sum(typMMquantity_1)\n",
    "        typtrial_2[i] = np.sum(typMMpayment)-100*np.sum(typMMquantity_2)\n",
    "        typrmse[i] = np.sqrt(np.sum(typdifference)/iterations)        \n",
    "        lstrial_1[i] = np.sum(lsMMpayment)-100*np.sum(lsMMquantity_1)\n",
    "        lstrial_2[i] = np.sum(lsMMpayment)-100*np.sum(lsMMquantity_2)\n",
    "        lsrmse[i] = np.sqrt(np.sum(lsdifference)/iterations)\n",
    "    return trial_1, trial_2, trueValue, MMprice_1, rmse"
   ]
  }
 ],
 "metadata": {
  "kernelspec": {
   "display_name": "Python 2",
   "language": "python",
   "name": "python2"
  }
 },
 "nbformat": 4,
 "nbformat_minor": 0
}
