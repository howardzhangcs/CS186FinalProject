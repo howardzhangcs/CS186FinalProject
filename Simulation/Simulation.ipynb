{
 "cells": [
  {
   "cell_type": "code",
   "execution_count": 1,
   "metadata": {
    "collapsed": true
   },
   "outputs": [],
   "source": [
    "%matplotlib inline \n",
    "\n",
    "import numpy as np\n",
    "import scipy\n",
    "import pandas as pd # pandas\n",
    "import matplotlib.pyplot as plt # module for plotting \n",
    "from mpl_toolkits.mplot3d import Axes3D #3D plotting\n",
    "import datetime as dt # module for manipulating dates and times\n",
    "\n",
    "import requests \n",
    "import scipy.stats as stats\n",
    "import statsmodels.api as sm\n",
    "from scipy.stats import binom\n",
    "from scipy.optimize import minimize_scalar\n",
    "from __future__ import division\n",
    "import re\n",
    "from StringIO import StringIO\n",
    "from zipfile import ZipFile \n",
    "from pandas import read_csv\n",
    "from urllib import urlopen\n",
    "import urllib2\n",
    "import json\n",
    "\n",
    "import sklearn\n",
    "import sklearn.preprocessing\n",
    "import sklearn.datasets"
   ]
  },
  {
   "cell_type": "markdown",
   "metadata": {},
   "source": [
    "# Gaussian Shocks"
   ]
  },
  {
   "cell_type": "markdown",
   "metadata": {},
   "source": [
    "### LMSR ACCORDING TO Brahma et al."
   ]
  },
  {
   "cell_type": "code",
   "execution_count": 2,
   "metadata": {
    "collapsed": false
   },
   "outputs": [],
   "source": [
    "# LMSR Implementation Das Interpretation\n",
    "# according to http://www.cse.wustl.edu/~mithunchakraborty/papers/AAAI15poster_final.pdf\n",
    "def runlmsr_gaussian(iterations, trialnumber, MMb, traderAlphaExponential, shock_prob, shock_sd):\n",
    "    trial_1 = np.zeros(trialnumber)\n",
    "    trial_2 = np.zeros(trialnumber)\n",
    "\n",
    "    for i in np.arange(0,trialnumber,1):\n",
    "        # Initialize Market Model\n",
    "        initialValue = np.random.normal(50,12)\n",
    "        if initialValue < 0:\n",
    "            initialValue = 0\n",
    "        if initialValue > 100:\n",
    "            initialValue = 100\n",
    "\n",
    "        # shock values\n",
    "        shock_prob= 1/100\n",
    "        shockSD = 5\n",
    "        # true asset value\n",
    "        trueValue = np.zeros(iterations)\n",
    "        trueValue[0] = initialValue\n",
    "\n",
    "        # Initial Trade Values\n",
    "        traderSD = 5\n",
    "        traderValueAll = np.zeros(iterations)\n",
    "        traderValueAll[0] = initialValue\n",
    "\n",
    "        #initial MM values\n",
    "\n",
    "        #outcome 1\n",
    "        MMquantity_1 = np.zeros(iterations)\n",
    "        MMquantity_1[0] = 0\n",
    "        MMprice_1 = np.zeros(iterations)\n",
    "        MMprice_1[0] = 50\n",
    "\n",
    "        #outcome 2\n",
    "        MMquantity_2 = np.zeros(iterations)\n",
    "        MMquantity_2[0] = 0\n",
    "        MMprice_2 = np.zeros(iterations)\n",
    "        MMprice_2[0] = 50\n",
    "\n",
    "        #revenue\n",
    "        MMpayment = np.zeros(iterations)\n",
    "        MMpayment[0] = 0\n",
    "\n",
    "        for time in np.arange(1,iterations,1):\n",
    "            if np.random.binomial(1,shock_prob) == 1:\n",
    "                initialValue = initialValue + np.random.normal(0, shockSD)\n",
    "            trueValue[time] = initialValue\n",
    "            traderValue = np.random.normal(initialValue, traderSD)\n",
    "            traderValueAll[time] = traderValue\n",
    "            # normalize trader value\n",
    "            if traderValue <= 0:\n",
    "                traderValue = 0.01\n",
    "            if traderValue >= 100:\n",
    "                traderValue = 99.99\n",
    "            quantityTrader = np.random.exponential(traderAlphaExponential)\n",
    "            currentquantity_1 = np.sum(MMquantity_1)\n",
    "            currentquantity_2 = np.sum(MMquantity_2)\n",
    "            if traderValue > MMprice_1[time - 1]:\n",
    "                quantityEquivalentprice = MMb*(np.log((traderValue*(np.exp(currentquantity_2/MMb))/100) / \\\n",
    "                                                      (1-traderValue/100)))-currentquantity_1\n",
    "                # error checking\n",
    "                if quantityEquivalentprice < 0:\n",
    "                    print time, i, MMprice_1[time - 1], traderValue, currentquantity_1, currentquantity_2\n",
    "                    raise NameError('Problem with Quantity Calculation')\n",
    "                quantityTrader_1 = min(quantityTrader, quantityEquivalentprice)\n",
    "                MMquantity_1[time] = quantityTrader_1 \n",
    "                newquantity_1 = quantityTrader_1 + currentquantity_1\n",
    "                newquantity_2 = currentquantity_2\n",
    "            else:\n",
    "                quantityEquivalentprice = MMb*(np.log(((100-traderValue)*(np.exp(currentquantity_1/MMb))/100)/ \\\n",
    "                                                      (1-(100-traderValue)/100)))-currentquantity_2\n",
    "                # error checking\n",
    "                if quantityEquivalentprice < 0:\n",
    "                    print time, i, MMprice_1[time - 1], traderValue, currentquantity_1, currentquantity_2\n",
    "                    raise NameError('Problem with Quantity Calculation')\n",
    "                quantityTrader_2 = min(quantityTrader, quantityEquivalentprice)\n",
    "                MMquantity_2[time] = quantityTrader_2\n",
    "                newquantity_2 = quantityTrader_2 + currentquantity_2\n",
    "                newquantity_1 = currentquantity_1\n",
    "            MMpayment[time] = 100*MMb*(np.log(np.exp(newquantity_1/MMb)+np.exp(newquantity_2/MMb))- \\\n",
    "                                       np.log(np.exp(currentquantity_1/MMb)+np.exp(currentquantity_2/MMb)))\n",
    "            MMprice_1[time] = 100*(np.exp(newquantity_1/MMb)/(np.exp(newquantity_1/MMb)+np.exp(newquantity_2/MMb)))\n",
    "            MMprice_2[time] = 100*(np.exp(newquantity_2/MMb)/(np.exp(newquantity_1/MMb)+np.exp(newquantity_2/MMb)))\n",
    "        trial_1[i] = np.sum(MMpayment)-100*np.sum(MMquantity_1)\n",
    "        trial_2[i] = np.sum(MMpayment)-100*np.sum(MMquantity_2)\n",
    "    return trial_1, trial_2, trueValue, MMprice_1"
   ]
  },
  {
   "cell_type": "code",
   "execution_count": 3,
   "metadata": {
    "collapsed": false
   },
   "outputs": [
    {
     "data": {
      "image/png": "[encoded data removed]",
      "text/plain": [
       "<matplotlib.figure.Figure at 0x4172358>"
      ]
     },
     "metadata": {},
     "output_type": "display_data"
    },
    {
     "name": "stdout",
     "output_type": "stream",
     "text": [
      "616.387974594\n",
      "4403.35653299\n",
      "-8362.58919681\n"
     ]
    },
    {
     "data": {
      "image/png": "[encoded data removed]",
      "text/plain": [
       "<matplotlib.figure.Figure at 0x170aa9e8>"
      ]
     },
     "metadata": {},
     "output_type": "display_data"
    },
    {
     "name": "stdout",
     "output_type": "stream",
     "text": [
      "611.4501675\n",
      "4172.68578691\n",
      "-8585.17949208\n"
     ]
    },
    {
     "data": {
      "image/png": "[encoded data removed]",
      "text/plain": [
       "<matplotlib.figure.Figure at 0x177332b0>"
      ]
     },
     "metadata": {},
     "output_type": "display_data"
    }
   ],
   "source": [
    "# Baseline Revenue Results \n",
    "trial_1, trial_2, trueValue, MMprice_1 = runlmsr_gaussian(200, 1000, 125, 20, 1/100, 5)\n",
    "\n",
    "# plot sample simulation\n",
    "xs = np.arange(0,200,1)\n",
    "plt.plot(xs, trueValue, xs, MMprice_1)\n",
    "plt.show() \n",
    "\n",
    "# outcome 1 occurs\n",
    "print(np.average(trial_1))\n",
    "print(np.std(trial_1))\n",
    "print(np.min(trial_1))\n",
    "plt.hist(trial_1, normed=1)\n",
    "plt.show()\n",
    "\n",
    "#outcome 2 occurs\n",
    "print(np.average(trial_2))\n",
    "print(np.std(trial_2))\n",
    "print(np.min(trial_2))\n",
    "plt.hist(trial_2, normed=1)\n",
    "plt.show()"
   ]
  },
  {
   "cell_type": "markdown",
   "metadata": {},
   "source": [
    "### LMSR TEXTBOOK"
   ]
  },
  {
   "cell_type": "code",
   "execution_count": 16,
   "metadata": {
    "collapsed": false
   },
   "outputs": [],
   "source": [
    "# LMSR Implementation Textbook Interpretation\n",
    "def runlmsr_gaussiantextbook(iterations, trialnumber, MMb, traderAlphaExponential, shock_prob, shockSD):\n",
    "    trial_1 = np.zeros(trialnumber)\n",
    "    trial_2 = np.zeros(trialnumber)\n",
    "\n",
    "    for i in np.arange(0,trialnumber,1):\n",
    "        # Initialize Market Model\n",
    "        initialValue = np.random.normal(50,12)\n",
    "        if initialValue < 0:\n",
    "            initialValue = 0\n",
    "        if initialValue > 100:\n",
    "            initialValue = 100\n",
    "\n",
    "        # true asset value\n",
    "        trueValue = np.zeros(iterations)\n",
    "        trueValue[0] = initialValue\n",
    "\n",
    "        # Initial Trade Values\n",
    "        traderSD = 5\n",
    "        traderValueAll = np.zeros(iterations)\n",
    "        traderValueAll[0] = initialValue\n",
    "\n",
    "        #initial MM values\n",
    "\n",
    "        #outcome 1\n",
    "        MMquantity_1 = np.zeros(iterations)\n",
    "        MMquantity_1[0] = 0\n",
    "        MMprice_1 = np.zeros(iterations)\n",
    "        MMprice_1[0] = 50\n",
    "\n",
    "        #outcome 2\n",
    "        MMquantity_2 = np.zeros(iterations)\n",
    "        MMquantity_2[0] = 0\n",
    "        MMprice_2 = np.zeros(iterations)\n",
    "        MMprice_2[0] = 50\n",
    "\n",
    "        #revenue\n",
    "        MMpayment = np.zeros(iterations)\n",
    "        MMpayment[0] = 0\n",
    "\n",
    "        for time in np.arange(1,iterations,1):\n",
    "            if np.random.binomial(1,shock_prob) == 1:\n",
    "                initialValue = initialValue + np.random.normal(0, shockSD)\n",
    "            trueValue[time] = initialValue\n",
    "            traderValue = np.random.normal(initialValue, traderSD)\n",
    "            traderValueAll[time] = traderValue\n",
    "            # normalize trader value\n",
    "            if traderValue <= 0:\n",
    "                traderValue = 0.01\n",
    "            if traderValue >= 100:\n",
    "                traderValue = 99.99\n",
    "            currentquantity_1 = np.sum(MMquantity_1)\n",
    "            currentquantity_2 = np.sum(MMquantity_2)\n",
    "            if traderValue > MMprice_1[time - 1]:\n",
    "                quantityTrader_1 = MMb*(np.log((traderValue*(np.exp(currentquantity_2/MMb))/100) / \\\n",
    "                                                      (1-traderValue/100)))-currentquantity_1\n",
    "                # error checking\n",
    "                if quantityTrader_1 < 0 and traderValue<90.:\n",
    "                    print time, i, MMprice_1[time - 1], traderValue, currentquantity_1, currentquantity_2, quantityTrader_1\n",
    "                    raise NameError('Problem with Quantity Calculation')\n",
    "                MMquantity_1[time] = quantityTrader_1 \n",
    "                newquantity_1 = quantityTrader_1 + currentquantity_1\n",
    "                newquantity_2 = currentquantity_2\n",
    "            else:\n",
    "                quantityTrader_2 = MMb*(np.log(((100-traderValue)*(np.exp(currentquantity_1/MMb))/100)/ \\\n",
    "                                                      (1-(100-traderValue)/100)))-currentquantity_2\n",
    "                # error checking\n",
    "                if quantityTrader_2 < 0 and traderValue<90.:\n",
    "                    print time, i, MMprice_1[time - 1], traderValue, currentquantity_1, currentquantity_2, quantityTrader_2\n",
    "                    raise NameError('Problem with Quantity Calculation')\n",
    "                MMquantity_2[time] = quantityTrader_2\n",
    "                newquantity_2 = quantityTrader_2 + currentquantity_2\n",
    "                newquantity_1 = currentquantity_1\n",
    "            MMpayment[time] = 100*MMb*(np.log(np.exp(newquantity_1/MMb)+np.exp(newquantity_2/MMb))- \\\n",
    "                                       np.log(np.exp(currentquantity_1/MMb)+np.exp(currentquantity_2/MMb)))\n",
    "            MMprice_1[time] = 100*(np.exp(newquantity_1/MMb)/(np.exp(newquantity_1/MMb)+np.exp(newquantity_2/MMb)))\n",
    "            MMprice_2[time] = 100*(np.exp(newquantity_2/MMb)/(np.exp(newquantity_1/MMb)+np.exp(newquantity_2/MMb)))\n",
    "        trial_1[i] = np.sum(MMpayment)-100*np.sum(MMquantity_1)\n",
    "        trial_2[i] = np.sum(MMpayment)-100*np.sum(MMquantity_2)\n",
    "    return trial_1, trial_2, trueValue, MMprice_1\n"
   ]
  },
  {
   "cell_type": "code",
   "execution_count": 17,
   "metadata": {
    "collapsed": false
   },
   "outputs": [
    {
     "data": {
      "image/png": "[encoded data removed]",
      "text/plain": [
       "<matplotlib.figure.Figure at 0x170a6358>"
      ]
     },
     "metadata": {},
     "output_type": "display_data"
    },
    {
     "name": "stdout",
     "output_type": "stream",
     "text": [
      "622.340153852\n",
      "4398.9004899\n",
      "-7764.15342165\n"
     ]
    },
    {
     "data": {
      "image/png": "[encoded data removed]",
      "text/plain": [
       "<matplotlib.figure.Figure at 0x40f60f0>"
      ]
     },
     "metadata": {},
     "output_type": "display_data"
    },
    {
     "name": "stdout",
     "output_type": "stream",
     "text": [
      "691.036899571\n",
      "4286.83792501\n",
      "-8201.08041409\n"
     ]
    },
    {
     "data": {
      "image/png": "[encoded data removed]",
      "text/plain": [
       "<matplotlib.figure.Figure at 0x17741f98>"
      ]
     },
     "metadata": {},
     "output_type": "display_data"
    }
   ],
   "source": [
    "# Baseline Revenue Results \n",
    "trial_1, trial_2, trueValue, MMprice_1 = runlmsr_gaussiantextbook(200, 1000, 125, 20, 1/100, 5)\n",
    "# plot sample simulation\n",
    "xs = np.arange(0,200,1)\n",
    "plt.plot(xs, trueValue, xs, MMprice_1)\n",
    "plt.show() \n",
    "\n",
    "# outcome 1 occurs\n",
    "print(np.average(trial_1))\n",
    "print(np.std(trial_1))\n",
    "print(np.min(trial_1))\n",
    "plt.hist(trial_1, normed=1)\n",
    "plt.show()\n",
    "\n",
    "#outcome 2 occurs\n",
    "print(np.average(trial_2))\n",
    "print(np.std(trial_2))\n",
    "print(np.min(trial_2))\n",
    "plt.hist(trial_2, normed=1)\n",
    "plt.show()\n"
   ]
  },
  {
   "cell_type": "markdown",
   "metadata": {},
   "source": [
    "### Liquidity Sensitive LMSR Implementation Das Interpretation\n"
   ]
  },
  {
   "cell_type": "code",
   "execution_count": 18,
   "metadata": {
    "collapsed": false
   },
   "outputs": [],
   "source": [
    "#Liquidity Sensitive LMSR Implementation Das Interpretation\n",
    "\n",
    "def runlslmsr_gaussian(iterations, trialnumber, traderAlphaExponential, shock_prob, shock_sd, alpha, initialsubsidy):\n",
    "    trial_1 = np.zeros(trialnumber)\n",
    "    trial_2 = np.zeros(trialnumber)\n",
    "\n",
    "    for i in np.arange(0,trialnumber,1):\n",
    "        # Initialize Market Model\n",
    "        initialValue = np.random.normal(50,12)\n",
    "        if initialValue < 0:\n",
    "            initialValue = 0\n",
    "        if initialValue > 100:\n",
    "            initialValue = 100\n",
    "\n",
    "        # shock values\n",
    "        shock_prob= 1/100\n",
    "        shockSD = 5\n",
    "        # true asset value\n",
    "        trueValue = np.zeros(iterations)\n",
    "        trueValue[0] = initialValue\n",
    "\n",
    "        # Initial Trade Values\n",
    "        traderSD = 5\n",
    "        traderValueAll = np.zeros(iterations)\n",
    "        traderValueAll[0] = initialValue\n",
    "\n",
    "        #initial MM values\n",
    "\n",
    "        #outcome 1\n",
    "        MMquantity_1 = np.zeros(iterations)\n",
    "        MMquantity_1[0] = initialsubsidy\n",
    "        MMprice_1 = np.zeros(iterations)\n",
    "        MMprice_1[0] = 50\n",
    "\n",
    "        #outcome 2\n",
    "        MMquantity_2 = np.zeros(iterations)\n",
    "        MMquantity_2[0] = initialsubsidy\n",
    "        MMprice_2 = np.zeros(iterations)\n",
    "        MMprice_2[0] = 50\n",
    "\n",
    "        #revenue\n",
    "        MMpayment = np.zeros(iterations)\n",
    "        MMpayment[0] = 0\n",
    "\n",
    "        for time in np.arange(1,iterations,1):\n",
    "            if np.random.binomial(1,shock_prob) == 1:\n",
    "                initialValue = initialValue + np.random.normal(0, shockSD)\n",
    "            trueValue[time] = initialValue\n",
    "            traderValue = np.random.normal(initialValue, traderSD)\n",
    "            traderValueAll[time] = traderValue\n",
    "            # normalize trader value\n",
    "            if traderValue <= 0:\n",
    "                traderValue = 0.01\n",
    "            if traderValue >= 100:\n",
    "                traderValue = 99.99\n",
    "            quantityTrader = np.random.exponential(traderAlphaExponential)\n",
    "            currentquantity_1 = np.sum(MMquantity_1)\n",
    "            currentquantity_2 = np.sum(MMquantity_2)\n",
    "            MMb = alpha*(currentquantity_1 + currentquantity_2)\n",
    "            \n",
    "            if traderValue > MMprice_1[time - 1]:\n",
    "                quantityTrader_1 = quantityTrader\n",
    "                MMquantity_1[time] = quantityTrader_1 \n",
    "                newquantity_1 = quantityTrader_1 + currentquantity_1\n",
    "                newquantity_2 = currentquantity_2\n",
    "            else:\n",
    "                quantityTrader_2 = quantityTrader\n",
    "                MMquantity_2[time] = quantityTrader_2\n",
    "                newquantity_2 = quantityTrader_2 + currentquantity_2\n",
    "                newquantity_1 = currentquantity_1\n",
    "                \n",
    "            MMpayment[time] = 100*MMb*(np.log(np.exp(newquantity_1/MMb)+np.exp(newquantity_2/MMb))- \\\n",
    "                                       np.log(np.exp(currentquantity_1/MMb)+np.exp(currentquantity_2/MMb)))\n",
    "            MMprice_1[time] = 100*(alpha*np.log(np.exp(newquantity_1/MMb)+np.exp(newquantity_2/MMb)) + \\\n",
    "                                       (newquantity_2*(np.exp(newquantity_1/MMb)-np.exp(newquantity_2/MMb))) / \\\n",
    "                                       ((newquantity_1 + newquantity_2)*(np.exp(newquantity_1/MMb) + np.exp(newquantity_2/MMb))))\n",
    "            MMprice_2[time] = 100*(alpha*np.log(np.exp(newquantity_1/MMb)+np.exp(newquantity_2/MMb)) + \\\n",
    "                                       (newquantity_1*(np.exp(newquantity_2/MMb)-np.exp(newquantity_1/MMb))) / \\\n",
    "                                       ((newquantity_1 + newquantity_2)*(np.exp(newquantity_1/MMb) + np.exp(newquantity_2/MMb))))\n",
    "        trial_1[i] = np.sum(MMpayment)-100*np.sum(MMquantity_1)\n",
    "        trial_2[i] = np.sum(MMpayment)-100*np.sum(MMquantity_2)\n",
    "    return trial_1, trial_2, trueValue, MMprice_1"
   ]
  },
  {
   "cell_type": "code",
   "execution_count": 21,
   "metadata": {
    "collapsed": false
   },
   "outputs": [
    {
     "data": {
      "image/png": "[encoded data removed]",
      "text/plain": [
       "<matplotlib.figure.Figure at 0x170aa9e8>"
      ]
     },
     "metadata": {},
     "output_type": "display_data"
    },
    {
     "name": "stdout",
     "output_type": "stream",
     "text": [
      "3932.88351092\n",
      "7386.47803847\n",
      "-9625.13629838\n"
     ]
    },
    {
     "data": {
      "image/png": "[encoded data removed]",
      "text/plain": [
       "<matplotlib.figure.Figure at 0x17766198>"
      ]
     },
     "metadata": {},
     "output_type": "display_data"
    },
    {
     "name": "stdout",
     "output_type": "stream",
     "text": [
      "139.242147638\n",
      "6391.01178353\n",
      "-10252.4042038\n"
     ]
    },
    {
     "data": {
      "image/png": "[encoded data removed]",
      "text/plain": [
       "<matplotlib.figure.Figure at 0x1737f0f0>"
      ]
     },
     "metadata": {},
     "output_type": "display_data"
    }
   ],
   "source": [
    "# Baseline Revenue Results \n",
    "trial_1, trial_2, trueValue, MMprice_1 = runlslmsr_gaussian(200, 1000, 20, 1/100, 5, 0.05, 10)\n",
    "# plot sample simulation\n",
    "xs = np.arange(0,200,1)\n",
    "plt.plot(xs, trueValue, xs, MMprice_1)\n",
    "plt.show() \n",
    "\n",
    "# outcome 1 occurs\n",
    "print(np.average(trial_1))\n",
    "print(np.std(trial_1))\n",
    "print(np.min(trial_1))\n",
    "plt.hist(trial_1, normed=1)\n",
    "plt.show()\n",
    "\n",
    "#outcome 2 occurs\n",
    "print(np.average(trial_2))\n",
    "print(np.std(trial_2))\n",
    "print(np.min(trial_2))\n",
    "plt.hist(trial_2, normed=1)\n",
    "plt.show()\n"
   ]
  },
  {
   "cell_type": "markdown",
   "metadata": {},
   "source": [
    "### Liquidity sensitive - trying an optimzer to solve for myopic trader"
   ]
  },
  {
   "cell_type": "code",
   "execution_count": 22,
   "metadata": {
    "collapsed": true
   },
   "outputs": [],
   "source": [
    "#Liquidity Sensitive LMSR Implementation Das Interpretation\n",
    "\n",
    "def runlslmsr_gaussianmyopic(iterations, trialnumber, traderAlphaExponential, shock_prob, shock_sd, alpha, initialsubsidy):\n",
    "    trial_1 = np.zeros(trialnumber)\n",
    "    trial_2 = np.zeros(trialnumber)\n",
    "\n",
    "    for i in np.arange(0,trialnumber,1):\n",
    "        # Initialize Market Model\n",
    "        initialValue = np.random.normal(50,12)\n",
    "        if initialValue < 0:\n",
    "            initialValue = 0\n",
    "        if initialValue > 100:\n",
    "            initialValue = 100\n",
    "\n",
    "        # shock values\n",
    "        shock_prob= 1/100\n",
    "        shockSD = 5\n",
    "        # true asset value\n",
    "        trueValue = np.zeros(iterations)\n",
    "        trueValue[0] = initialValue\n",
    "\n",
    "        # Initial Trade Values\n",
    "        traderSD = 5\n",
    "        traderValueAll = np.zeros(iterations)\n",
    "        traderValueAll[0] = initialValue\n",
    "\n",
    "        #initial MM values\n",
    "\n",
    "        #outcome 1\n",
    "        MMquantity_1 = np.zeros(iterations)\n",
    "        MMquantity_1[0] = initialsubsidy\n",
    "        MMprice_1 = np.zeros(iterations)\n",
    "        MMprice_1[0] = 50\n",
    "\n",
    "        #outcome 2\n",
    "        MMquantity_2 = np.zeros(iterations)\n",
    "        MMquantity_2[0] = initialsubsidy\n",
    "        MMprice_2 = np.zeros(iterations)\n",
    "        MMprice_2[0] = 50\n",
    "\n",
    "        #revenue\n",
    "        MMpayment = np.zeros(iterations)\n",
    "        MMpayment[0] = 0\n",
    "\n",
    "        for time in np.arange(1,iterations,1):\n",
    "            if np.random.binomial(1,shock_prob) == 1:\n",
    "                initialValue = initialValue + np.random.normal(0, shockSD)\n",
    "            trueValue[time] = initialValue\n",
    "            traderValue = np.random.normal(initialValue, traderSD)\n",
    "            traderValueAll[time] = traderValue\n",
    "            # normalize trader value\n",
    "            if traderValue <= 0:\n",
    "                traderValue = 0.01\n",
    "            if traderValue >= 100:\n",
    "                traderValue = 99.99\n",
    "            quantityTrader = np.random.exponential(traderAlphaExponential)\n",
    "            currentquantity_1 = np.sum(MMquantity_1)\n",
    "            currentquantity_2 = np.sum(MMquantity_2)\n",
    "            MMb = alpha*(currentquantity_1 + currentquantity_2)\n",
    "            \n",
    "            if traderValue > MMprice_1[time - 1]:\n",
    "                f = lambda q: alpha*np.log(np.exp(q/MMb) + \\\n",
    "                                           np.exp(currentquantity_2/MMb)) + (currentquantity_2*(np.exp(q/MMb) - \\\n",
    "                                           np.exp(currentquantity_2/MMb))) / ((q+currentquantity_2)*(np.exp(q/MMb) + \\\n",
    "                                           np.exp(currentquantity_2/MMb)))\n",
    "                res = minimize_scalar(f, method='brent')\n",
    "                if res.x > 0 and res.success == 1:\n",
    "                    quantityTrader_1 = min(quantityTrader, res.x)\n",
    "                else:\n",
    "                    quantityTrader_1 = quantityTrader\n",
    "                MMquantity_1[time] = quantityTrader_1 \n",
    "                newquantity_1 = quantityTrader_1 + currentquantity_1\n",
    "                newquantity_2 = currentquantity_2\n",
    "            else:\n",
    "                f = lambda q: alpha*np.log(np.exp(q/MMb) + \\\n",
    "                                           np.exp(currentquantity_1/MMb)) + (currentquantity_1*(np.exp(q/MMb) - \\\n",
    "                                           np.exp(currentquantity_1/MMb))) / ((q+currentquantity_1)*(np.exp(q/MMb) + \\\n",
    "                                           np.exp(currentquantity_1/MMb)))\n",
    "                res = minimize_scalar(f, method='brent')\n",
    "                if res.x > 0 and res.success == 1:\n",
    "                    quantityTrader_2 = min(quantityTrader, res.x)\n",
    "                else:\n",
    "                    quantityTrader_2 = quantityTrader\n",
    "                MMquantity_2[time] = quantityTrader_2\n",
    "                newquantity_2 = quantityTrader_2 + currentquantity_2\n",
    "                newquantity_1 = currentquantity_1\n",
    "                \n",
    "            MMpayment[time] = 100*MMb*(np.log(np.exp(newquantity_1/MMb)+np.exp(newquantity_2/MMb))- \\\n",
    "                                       np.log(np.exp(currentquantity_1/MMb)+np.exp(currentquantity_2/MMb)))\n",
    "            MMprice_1[time] = 100*(alpha*np.log(np.exp(newquantity_1/MMb)+np.exp(newquantity_2/MMb)) + \\\n",
    "                                       (newquantity_2*(np.exp(newquantity_1/MMb)-np.exp(newquantity_2/MMb))) / \\\n",
    "                                       ((newquantity_1 + newquantity_2)*(np.exp(newquantity_1/MMb) + np.exp(newquantity_2/MMb))))\n",
    "            MMprice_2[time] = 100*(alpha*np.log(np.exp(newquantity_1/MMb)+np.exp(newquantity_2/MMb)) + \\\n",
    "                                       (newquantity_1*(np.exp(newquantity_2/MMb)-np.exp(newquantity_1/MMb))) / \\\n",
    "                                       ((newquantity_1 + newquantity_2)*(np.exp(newquantity_1/MMb) + np.exp(newquantity_2/MMb))))\n",
    "        trial_1[i] = np.sum(MMpayment)-100*np.sum(MMquantity_1)\n",
    "        trial_2[i] = np.sum(MMpayment)-100*np.sum(MMquantity_2)\n",
    "    return trial_1, trial_2, trueValue, MMprice_1"
   ]
  },
  {
   "cell_type": "code",
   "execution_count": 23,
   "metadata": {
    "collapsed": false
   },
   "outputs": [
    {
     "data": {
      "image/png": "[encoded data removed]",
      "text/plain": [
       "<matplotlib.figure.Figure at 0x40f60f0>"
      ]
     },
     "metadata": {},
     "output_type": "display_data"
    },
    {
     "name": "stdout",
     "output_type": "stream",
     "text": [
      "3202.23933868\n",
      "7497.61004123\n",
      "-8960.5291038\n"
     ]
    },
    {
     "data": {
      "image/png": "[encoded data removed]",
      "text/plain": [
       "<matplotlib.figure.Figure at 0x170aa9e8>"
      ]
     },
     "metadata": {},
     "output_type": "display_data"
    },
    {
     "name": "stdout",
     "output_type": "stream",
     "text": [
      "784.75761217\n",
      "6181.96826297\n",
      "-10161.9904131\n"
     ]
    },
    {
     "data": {
      "image/png": "[encoded data removed]",
      "text/plain": [
       "<matplotlib.figure.Figure at 0x1796e400>"
      ]
     },
     "metadata": {},
     "output_type": "display_data"
    }
   ],
   "source": [
    "# Baseline Revenue Results \n",
    "trial_1, trial_2, trueValue, MMprice_1 = runlslmsr_gaussianmyopic(200, 1000, 20, 1/100, 5, 0.05, 10)\n",
    "# plot sample simulation\n",
    "xs = np.arange(0,200,1)\n",
    "plt.plot(xs, trueValue, xs, MMprice_1)\n",
    "plt.show() \n",
    "\n",
    "# outcome 1 occurs\n",
    "print(np.average(trial_1))\n",
    "print(np.std(trial_1))\n",
    "print(np.min(trial_1))\n",
    "plt.hist(trial_1, normed=1)\n",
    "plt.show()\n",
    "\n",
    "#outcome 2 occurs\n",
    "print(np.average(trial_2))\n",
    "print(np.std(trial_2))\n",
    "print(np.min(trial_2))\n",
    "plt.hist(trial_2, normed=1)\n",
    "plt.show()\n"
   ]
  },
  {
   "cell_type": "markdown",
   "metadata": {},
   "source": [
    "## Our LMSR model"
   ]
  },
  {
   "cell_type": "markdown",
   "metadata": {},
   "source": [
    "## Outline for BMM"
   ]
  },
  {
   "cell_type": "code",
   "execution_count": null,
   "metadata": {
    "collapsed": true
   },
   "outputs": [],
   "source": [
    "''' \n",
    "# BMM implementation\n",
    "iterations = 200\n",
    "trial = np.zeros(1000)\n",
    "\n",
    "for i in np.arange(0,100,1):\n",
    "    # Initialize Market Model\n",
    "    initialValue = np.random.normal(50,12)\n",
    "    if initialValue < 0:\n",
    "        initialValue = 0\n",
    "    if initialValue > 100:\n",
    "        initialValue = 100\n",
    "\n",
    "    # shock values\n",
    "    shock_prob= 1/100\n",
    "    shockSD = 5\n",
    "    # true asset value\n",
    "    trueValue = np.zeros(iterations)\n",
    "    trueValue[0] = initialValue\n",
    "\n",
    "    # Initial Trade Values\n",
    "    traderAlphaExponential = 20\n",
    "    traderSD = 5\n",
    "    traderValueAll = np.zeros(iterations)\n",
    "    traderValueAll[0] = initialValue\n",
    "    \n",
    "    #initial MM values\n",
    "    MMquantity = np.zeros(iterations)\n",
    "    MMquantity[0] = 0\n",
    "    MMprice = np.zeros(iterations)\n",
    "    MMprice[0] = initialvalue\n",
    "    MMrevenue = np.zeros(iterations)\n",
    "    MMrevenue[0] = 0\n",
    "    MMwindow = 5\n",
    "    MMexpectedvalue = np.zeros(iterations)\n",
    "    MMexpectedvalue[0] = initialvalue\n",
    "    MMsdvalue = np.zeros(iterations)\n",
    "    MMsdvalue[0] = 0\n",
    "    MMsdvalue[1]\n",
    "    for time in np.arange(1,iterations,1):\n",
    "        if np.random.binomial(1,shock_prob) == 1:\n",
    "            initialValue = initialValue + np.random.normal(0, shockSD)\n",
    "        trueValue[time] = initialValue\n",
    "        traderValue = np.random.normal(initialValue, traderSD)\n",
    "        traderValueAll[time] = traderValue\n",
    "        if traderValue <= 0:\n",
    "            traderValue = 0.01\n",
    "        if traderValue > 100:\n",
    "            traderValue = 99.99\n",
    "        quantityTrader = np.random.exponential(traderAlphaExponential)\n",
    "        if traderValue > MMprice[time - 1]:\n",
    "            \n",
    "            A = \n",
    "            B = \n",
    "            C = \n",
    "'''"
   ]
  },
  {
   "cell_type": "code",
   "execution_count": null,
   "metadata": {
    "collapsed": true
   },
   "outputs": [],
   "source": []
  },
  {
   "cell_type": "code",
   "execution_count": null,
   "metadata": {
    "collapsed": true
   },
   "outputs": [],
   "source": []
  }
 ],
 "metadata": {
  "kernelspec": {
   "display_name": "Python 2",
   "language": "python",
   "name": "python2"
  },
  "language_info": {
   "codemirror_mode": {
    "name": "ipython",
    "version": 2
   },
   "file_extension": ".py",
   "mimetype": "text/x-python",
   "name": "python",
   "nbconvert_exporter": "python",
   "pygments_lexer": "ipython2",
   "version": "2.7.7"
  }
 },
 "nbformat": 4,
 "nbformat_minor": 0
}
