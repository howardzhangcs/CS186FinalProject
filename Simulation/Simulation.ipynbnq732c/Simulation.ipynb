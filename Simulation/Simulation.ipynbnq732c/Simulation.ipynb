{
 "cells": [
  {
   "cell_type": "code",
   "execution_count": 1,
   "metadata": {
    "collapsed": true
   },
   "outputs": [],
   "source": [
    "%matplotlib inline \n",
    "\n",
    "import numpy as np\n",
    "import scipy\n",
    "import pandas as pd # pandas\n",
    "import matplotlib.pyplot as plt # module for plotting \n",
    "from mpl_toolkits.mplot3d import Axes3D #3D plotting\n",
    "import datetime as dt # module for manipulating dates and times\n",
    "\n",
    "import requests \n",
    "import scipy.stats as stats\n",
    "import statsmodels.api as sm\n",
    "from scipy.stats import binom\n",
    "from scipy.optimize import minimize_scalar\n",
    "from __future__ import division\n",
    "import re\n",
    "from StringIO import StringIO\n",
    "from zipfile import ZipFile \n",
    "from pandas import read_csv\n",
    "from urllib import urlopen\n",
    "import urllib2\n",
    "import json\n",
    "\n",
    "import sklearn\n",
    "import sklearn.preprocessing\n",
    "import sklearn.datasets"
   ]
  },
  {
   "cell_type": "markdown",
   "metadata": {},
   "source": [
    "# Gaussian Shocks"
   ]
  },
  {
   "cell_type": "markdown",
   "metadata": {},
   "source": [
    "### LMSR ACCORDING TO Brahma et al."
   ]
  },
  {
   "cell_type": "code",
   "execution_count": 2,
   "metadata": {
    "collapsed": false
   },
   "outputs": [],
   "source": [
    "# LMSR Implementation Das Interpretation\n",
    "# according to http://www.cse.wustl.edu/~mithunchakraborty/papers/AAAI15poster_final.pdf\n",
    "def runlmsr_gaussian(iterations, trialnumber, MMb, traderAlphaExponential, shock_prob, shock_sd):\n",
    "    trial_1 = np.zeros(trialnumber)\n",
    "    trial_2 = np.zeros(trialnumber)\n",
    "    rmse = np.zeros(trialnumber)\n",
    "    for i in np.arange(0,trialnumber,1):\n",
    "        # Initialize Market Model\n",
    "        initialValue = np.random.normal(50,12)\n",
    "        if initialValue < 0:\n",
    "            initialValue = 0\n",
    "        if initialValue > 100:\n",
    "            initialValue = 100\n",
    "\n",
    "        # shock values\n",
    "        shock_prob= 1/100\n",
    "        shockSD = 5\n",
    "        # true asset value\n",
    "        trueValue = np.zeros(iterations)\n",
    "        trueValue[0] = initialValue\n",
    "\n",
    "        # Initial Trade Values\n",
    "        traderSD = 5\n",
    "        traderValueAll = np.zeros(iterations)\n",
    "        traderValueAll[0] = initialValue\n",
    "\n",
    "        #initial MM values\n",
    "\n",
    "        #outcome 1\n",
    "        MMquantity_1 = np.zeros(iterations)\n",
    "        MMprice_1 = np.zeros(iterations)\n",
    "        MMprice_1[0] = 50\n",
    "\n",
    "        #outcome 2\n",
    "        MMquantity_2 = np.zeros(iterations)\n",
    "        MMprice_2 = np.zeros(iterations)\n",
    "        MMprice_2[0] = 50\n",
    "\n",
    "        #revenue\n",
    "        MMpayment = np.zeros(iterations)\n",
    "        \n",
    "        difference = np.zeros(iterations)\n",
    "\n",
    "        for time in np.arange(1,iterations,1):\n",
    "            if np.random.binomial(1,shock_prob) == 1:\n",
    "                initialValue = initialValue + np.random.normal(0, shockSD)\n",
    "            trueValue[time] = initialValue\n",
    "            traderValue = np.random.normal(initialValue, traderSD)\n",
    "            traderValueAll[time] = traderValue\n",
    "            # normalize trader value\n",
    "            if traderValue <= 0:\n",
    "                traderValue = 0.01\n",
    "            if traderValue >= 100:\n",
    "                traderValue = 99.99\n",
    "            quantityTrader = np.random.exponential(traderAlphaExponential)\n",
    "            currentquantity_1 = np.sum(MMquantity_1)\n",
    "            currentquantity_2 = np.sum(MMquantity_2)\n",
    "            if traderValue > MMprice_1[time - 1]:\n",
    "                quantityEquivalentprice = MMb*(np.log((traderValue*(np.exp(currentquantity_2/MMb))/100) / \\\n",
    "                                                      (1-traderValue/100)))-currentquantity_1\n",
    "                # error checking\n",
    "                if quantityEquivalentprice < 0 and traderValue < 99.:\n",
    "                    print time, i, MMprice_1[time - 1], traderValue, currentquantity_1, currentquantity_2\n",
    "                    raise NameError('Problem with Quantity Calculation')\n",
    "                quantityTrader_1 = min(quantityTrader, quantityEquivalentprice)\n",
    "                MMquantity_1[time] = quantityTrader_1 \n",
    "                newquantity_1 = quantityTrader_1 + currentquantity_1\n",
    "                newquantity_2 = currentquantity_2\n",
    "            else:\n",
    "                quantityEquivalentprice = MMb*(np.log(((100-traderValue)*(np.exp(currentquantity_1/MMb))/100)/ \\\n",
    "                                                      (1-(100-traderValue)/100)))-currentquantity_2\n",
    "                # error checking\n",
    "                if quantityEquivalentprice < 0 and traderValue < 99.:\n",
    "                    print time, i, MMprice_1[time - 1], traderValue, currentquantity_1, currentquantity_2\n",
    "                    raise NameError('Problem with Quantity Calculation')\n",
    "                quantityTrader_2 = min(quantityTrader, quantityEquivalentprice)\n",
    "                MMquantity_2[time] = quantityTrader_2\n",
    "                newquantity_2 = quantityTrader_2 + currentquantity_2\n",
    "                newquantity_1 = currentquantity_1\n",
    "            MMpayment[time] = 100*MMb*(np.log(np.exp(newquantity_1/MMb)+np.exp(newquantity_2/MMb))- \\\n",
    "                                       np.log(np.exp(currentquantity_1/MMb)+np.exp(currentquantity_2/MMb)))\n",
    "            MMprice_1[time] = 100*(np.exp(newquantity_1/MMb)/(np.exp(newquantity_1/MMb)+np.exp(newquantity_2/MMb)))\n",
    "            MMprice_2[time] = 100*(np.exp(newquantity_2/MMb)/(np.exp(newquantity_1/MMb)+np.exp(newquantity_2/MMb)))\n",
    "            difference[time] = (MMprice_1[time] - trueValue[time]) ** 2\n",
    "        trial_1[i] = np.sum(MMpayment)-100*np.sum(MMquantity_1)\n",
    "        trial_2[i] = np.sum(MMpayment)-100*np.sum(MMquantity_2)\n",
    "        rmse[i] = np.sqrt(np.sum(difference)/iterations)\n",
    "    return trial_1, trial_2, trueValue, MMprice_1, rmse"
   ]
  },
  {
   "cell_type": "code",
   "execution_count": 3,
   "metadata": {
    "collapsed": false
   },
   "outputs": [
    {
     "data": {
      "image/png": "[encoded data removed]",
      "text/plain": [
       "<matplotlib.figure.Figure at 0x42a93c8>"
      ]
     },
     "metadata": {},
     "output_type": "display_data"
    },
    {
     "name": "stdout",
     "output_type": "stream",
     "text": [
      "433.578356243\n",
      "4221.9755021\n",
      "-8398.35125181\n"
     ]
    },
    {
     "data": {
      "image/png": "[encoded data removed]",
      "text/plain": [
       "<matplotlib.figure.Figure at 0x1745bf60>"
      ]
     },
     "metadata": {},
     "output_type": "display_data"
    },
    {
     "name": "stdout",
     "output_type": "stream",
     "text": [
      "722.22354372\n",
      "4081.59668822\n",
      "-8571.36799586\n"
     ]
    },
    {
     "data": {
      "image/png": "[encoded data removed]",
      "text/plain": [
       "<matplotlib.figure.Figure at 0x17783b38>"
      ]
     },
     "metadata": {},
     "output_type": "display_data"
    },
    {
     "name": "stdout",
     "output_type": "stream",
     "text": [
      "3.67361413447\n"
     ]
    }
   ],
   "source": [
    "# Baseline Revenue Results \n",
    "trial_1, trial_2, trueValue, MMprice_1, rmse = runlmsr_gaussian(200, 1000, 125, 20, 1/100, 5)\n",
    "\n",
    "# plot sample simulation\n",
    "xs = np.arange(0,200,1)\n",
    "plt.plot(xs, trueValue, xs, MMprice_1)\n",
    "plt.xlabel('Iteration')\n",
    "plt.ylabel('Instantaneous Price of Contract 1')\n",
    "plt.title('Baseline Analysis of LMSR - Gaussian Shocks')\n",
    "plt.legend(('True Value', 'Instantaneous Price of Market Maker'),4, fontsize='x-small')\n",
    "plt.show() \n",
    "\n",
    "# outcome 1 occurs\n",
    "print(np.average(trial_1))\n",
    "print(np.std(trial_1))\n",
    "print(np.min(trial_1))\n",
    "\n",
    "plt.hist(trial_1, normed=1)\n",
    "plt.xlabel('Profit')\n",
    "plt.ylabel('Frequency')\n",
    "plt.title('Histogram of Profit if Outcome 1 Occured')\n",
    "plt.show()\n",
    "\n",
    "#outcome 2 occurs\n",
    "print(np.average(trial_2))\n",
    "print(np.std(trial_2))\n",
    "print(np.min(trial_2))\n",
    "plt.hist(trial_2, normed=1)\n",
    "plt.xlabel('Profit')\n",
    "plt.ylabel('Frequency')\n",
    "plt.title('Histogram of Profit if Outcome 2 Occured')\n",
    "plt.show()\n",
    "\n",
    "print(np.mean(rmse))"
   ]
  },
  {
   "cell_type": "code",
   "execution_count": 13,
   "metadata": {
    "collapsed": false
   },
   "outputs": [
    {
     "name": "stdout",
     "output_type": "stream",
     "text": [
      "39.9321810982\n",
      "343.835429723\n",
      "-664.137081287\n",
      "60.268285461\n",
      "345.713132392\n",
      "-683.030741065\n",
      "4.80763233033\n",
      "279.383188135\n",
      "1659.79108309\n",
      "-3027.01979635\n",
      "193.561460764\n",
      "1599.07905862\n",
      "-3292.67363426\n",
      "4.26685057192\n",
      "763.444891319\n",
      "5222.34912553\n",
      "-8438.6393992\n",
      "502.490738453\n",
      "4121.74231088\n",
      "-8661.61571458\n",
      "3.68114091148\n",
      "821.892701168\n",
      "9064.69187234\n",
      "-15726.4562191\n",
      "1701.88308194\n",
      "8565.44060489\n",
      "-17268.4793151\n",
      "3.27446283375\n",
      "2230.40979667\n",
      "15996.5841988\n",
      "-32469.706046\n",
      "2565.14902682\n",
      "17059.521645\n",
      "-30817.0763182\n",
      "3.10250151088\n"
     ]
    }
   ],
   "source": [
    "beta = [10, 50, 125, 250,500]\n",
    "\n",
    "for betaspecific in beta:\n",
    "    # Baseline Revenue Results \n",
    "    trial_1, trial_2, trueValue, MMprice_1, rmse = runlmsr_gaussian(200, 1000, betaspecific, 20, 1/100, 5)\n",
    "    print(np.average(trial_1))\n",
    "    print(np.std(trial_1))\n",
    "    print(np.min(trial_1))\n",
    "    print(np.average(trial_2))\n",
    "    print(np.std(trial_2))\n",
    "    print(np.min(trial_2))\n",
    "    print(np.mean(rmse))"
   ]
  },
  {
   "cell_type": "markdown",
   "metadata": {},
   "source": [
    "### LMSR TEXTBOOK"
   ]
  },
  {
   "cell_type": "code",
   "execution_count": 4,
   "metadata": {
    "collapsed": false
   },
   "outputs": [],
   "source": [
    "# LMSR Implementation Textbook Interpretation\n",
    "def runlmsr_gaussiantextbook(iterations, trialnumber, MMb, traderAlphaExponential, shock_prob, shockSD):\n",
    "    trial_1 = np.zeros(trialnumber)\n",
    "    trial_2 = np.zeros(trialnumber)\n",
    "\n",
    "    for i in np.arange(0,trialnumber,1):\n",
    "        # Initialize Market Model\n",
    "        initialValue = np.random.normal(50,12)\n",
    "        if initialValue < 0:\n",
    "            initialValue = 0\n",
    "        if initialValue > 100:\n",
    "            initialValue = 100\n",
    "\n",
    "        # true asset value\n",
    "        trueValue = np.zeros(iterations)\n",
    "        trueValue[0] = initialValue\n",
    "\n",
    "        # Initial Trade Values\n",
    "        traderSD = 5\n",
    "        traderValueAll = np.zeros(iterations)\n",
    "        traderValueAll[0] = initialValue\n",
    "\n",
    "        #initial MM values\n",
    "\n",
    "        #outcome 1\n",
    "        MMquantity_1 = np.zeros(iterations)\n",
    "        MMquantity_1[0] = 0\n",
    "        MMprice_1 = np.zeros(iterations)\n",
    "        MMprice_1[0] = 50\n",
    "\n",
    "        #outcome 2\n",
    "        MMquantity_2 = np.zeros(iterations)\n",
    "        MMquantity_2[0] = 0\n",
    "        MMprice_2 = np.zeros(iterations)\n",
    "        MMprice_2[0] = 50\n",
    "\n",
    "        #revenue\n",
    "        MMpayment = np.zeros(iterations)\n",
    "        MMpayment[0] = 0\n",
    "\n",
    "        for time in np.arange(1,iterations,1):\n",
    "            if np.random.binomial(1,shock_prob) == 1:\n",
    "                initialValue = initialValue + np.random.normal(0, shockSD)\n",
    "            trueValue[time] = initialValue\n",
    "            traderValue = np.random.normal(initialValue, traderSD)\n",
    "            traderValueAll[time] = traderValue\n",
    "            # normalize trader value\n",
    "            if traderValue <= 0:\n",
    "                traderValue = 0.01\n",
    "            if traderValue >= 100:\n",
    "                traderValue = 99.99\n",
    "            currentquantity_1 = np.sum(MMquantity_1)\n",
    "            currentquantity_2 = np.sum(MMquantity_2)\n",
    "            if traderValue > MMprice_1[time - 1]:\n",
    "                quantityTrader_1 = MMb*(np.log((traderValue*(np.exp(currentquantity_2/MMb))/100) / \\\n",
    "                                                      (1-traderValue/100)))-currentquantity_1\n",
    "                # error checking\n",
    "                if quantityTrader_1 < 0 and traderValue<90.:\n",
    "                    print time, i, MMprice_1[time - 1], traderValue, currentquantity_1, currentquantity_2, quantityTrader_1\n",
    "                    raise NameError('Problem with Quantity Calculation')\n",
    "                MMquantity_1[time] = quantityTrader_1 \n",
    "                newquantity_1 = quantityTrader_1 + currentquantity_1\n",
    "                newquantity_2 = currentquantity_2\n",
    "            else:\n",
    "                quantityTrader_2 = MMb*(np.log(((100-traderValue)*(np.exp(currentquantity_1/MMb))/100)/ \\\n",
    "                                                      (1-(100-traderValue)/100)))-currentquantity_2\n",
    "                # error checking\n",
    "                if quantityTrader_2 < 0 and traderValue<90.:\n",
    "                    print time, i, MMprice_1[time - 1], traderValue, currentquantity_1, currentquantity_2, quantityTrader_2\n",
    "                    raise NameError('Problem with Quantity Calculation')\n",
    "                MMquantity_2[time] = quantityTrader_2\n",
    "                newquantity_2 = quantityTrader_2 + currentquantity_2\n",
    "                newquantity_1 = currentquantity_1\n",
    "            MMpayment[time] = 100*MMb*(np.log(np.exp(newquantity_1/MMb)+np.exp(newquantity_2/MMb))- \\\n",
    "                                       np.log(np.exp(currentquantity_1/MMb)+np.exp(currentquantity_2/MMb)))\n",
    "            MMprice_1[time] = 100*(np.exp(newquantity_1/MMb)/(np.exp(newquantity_1/MMb)+np.exp(newquantity_2/MMb)))\n",
    "            MMprice_2[time] = 100*(np.exp(newquantity_2/MMb)/(np.exp(newquantity_1/MMb)+np.exp(newquantity_2/MMb)))\n",
    "        trial_1[i] = np.sum(MMpayment)-100*np.sum(MMquantity_1)\n",
    "        trial_2[i] = np.sum(MMpayment)-100*np.sum(MMquantity_2)\n",
    "    return trial_1, trial_2, trueValue, MMprice_1\n"
   ]
  },
  {
   "cell_type": "code",
   "execution_count": 5,
   "metadata": {
    "collapsed": false
   },
   "outputs": [
    {
     "data": {
      "image/png": "[encoded data removed]",
      "text/plain": [
       "<matplotlib.figure.Figure at 0x1723add8>"
      ]
     },
     "metadata": {},
     "output_type": "display_data"
    },
    {
     "name": "stdout",
     "output_type": "stream",
     "text": [
      "797.336224597\n",
      "5359.30468355\n",
      "-8663.0896945\n"
     ]
    },
    {
     "data": {
      "image/png": "[encoded data removed]",
      "text/plain": [
       "<matplotlib.figure.Figure at 0x170bda20>"
      ]
     },
     "metadata": {},
     "output_type": "display_data"
    },
    {
     "name": "stdout",
     "output_type": "stream",
     "text": [
      "705.597238106\n",
      "6287.47781319\n",
      "-8663.0896945\n"
     ]
    },
    {
     "data": {
      "image/png": "[encoded data removed]",
      "text/plain": [
       "<matplotlib.figure.Figure at 0x170b9438>"
      ]
     },
     "metadata": {},
     "output_type": "display_data"
    }
   ],
   "source": [
    "# Baseline Revenue Results \n",
    "trial_1, trial_2, trueValue, MMprice_1 = runlmsr_gaussiantextbook(200, 1000, 125, 20, 1/100, 5)\n",
    "# plot sample simulation\n",
    "xs = np.arange(0,200,1)\n",
    "plt.plot(xs, trueValue, xs, MMprice_1)\n",
    "plt.show() \n",
    "\n",
    "# outcome 1 occurs\n",
    "print(np.average(trial_1))\n",
    "print(np.std(trial_1))\n",
    "print(np.min(trial_1))\n",
    "plt.hist(trial_1, normed=1)\n",
    "plt.show()\n",
    "\n",
    "#outcome 2 occurs\n",
    "print(np.average(trial_2))\n",
    "print(np.std(trial_2))\n",
    "print(np.min(trial_2))\n",
    "plt.hist(trial_2, normed=1)\n",
    "plt.show()\n"
   ]
  },
  {
   "cell_type": "markdown",
   "metadata": {},
   "source": [
    "### Liquidity Sensitive LMSR Implementation Das Interpretation\n"
   ]
  },
  {
   "cell_type": "code",
   "execution_count": 6,
   "metadata": {
    "collapsed": false
   },
   "outputs": [],
   "source": [
    "#Liquidity Sensitive LMSR Implementation Das Interpretation\n",
    "\n",
    "def runlslmsr_gaussian(iterations, trialnumber, traderAlphaExponential, shock_prob, shock_sd, alpha, initialsubsidy):\n",
    "    trial_1 = np.zeros(trialnumber)\n",
    "    trial_2 = np.zeros(trialnumber)\n",
    "\n",
    "    for i in np.arange(0,trialnumber,1):\n",
    "        # Initialize Market Model\n",
    "        initialValue = np.random.normal(50,12)\n",
    "        if initialValue < 0:\n",
    "            initialValue = 0\n",
    "        if initialValue > 100:\n",
    "            initialValue = 100\n",
    "\n",
    "        # shock values\n",
    "        shock_prob= 1/100\n",
    "        shockSD = 5\n",
    "        # true asset value\n",
    "        trueValue = np.zeros(iterations)\n",
    "        trueValue[0] = initialValue\n",
    "\n",
    "        # Initial Trade Values\n",
    "        traderSD = 5\n",
    "        traderValueAll = np.zeros(iterations)\n",
    "        traderValueAll[0] = initialValue\n",
    "\n",
    "        #initial MM values\n",
    "\n",
    "        #outcome 1\n",
    "        MMquantity_1 = np.zeros(iterations)\n",
    "        MMquantity_1[0] = initialsubsidy\n",
    "        MMprice_1 = np.zeros(iterations)\n",
    "        MMprice_1[0] = 50\n",
    "\n",
    "        #outcome 2\n",
    "        MMquantity_2 = np.zeros(iterations)\n",
    "        MMquantity_2[0] = initialsubsidy\n",
    "        MMprice_2 = np.zeros(iterations)\n",
    "        MMprice_2[0] = 50\n",
    "\n",
    "        #revenue\n",
    "        MMpayment = np.zeros(iterations)\n",
    "        MMpayment[0] = 0\n",
    "\n",
    "        for time in np.arange(1,iterations,1):\n",
    "            if np.random.binomial(1,shock_prob) == 1:\n",
    "                initialValue = initialValue + np.random.normal(0, shockSD)\n",
    "            trueValue[time] = initialValue\n",
    "            traderValue = np.random.normal(initialValue, traderSD)\n",
    "            traderValueAll[time] = traderValue\n",
    "            # normalize trader value\n",
    "            if traderValue <= 0:\n",
    "                traderValue = 0.01\n",
    "            if traderValue >= 100:\n",
    "                traderValue = 99.99\n",
    "            quantityTrader = np.random.exponential(traderAlphaExponential)\n",
    "            currentquantity_1 = np.sum(MMquantity_1)\n",
    "            currentquantity_2 = np.sum(MMquantity_2)\n",
    "            MMb = alpha*(currentquantity_1 + currentquantity_2)\n",
    "            \n",
    "            if traderValue > MMprice_1[time - 1]:\n",
    "                quantityTrader_1 = quantityTrader\n",
    "                MMquantity_1[time] = quantityTrader_1 \n",
    "                newquantity_1 = quantityTrader_1 + currentquantity_1\n",
    "                newquantity_2 = currentquantity_2\n",
    "            else:\n",
    "                quantityTrader_2 = quantityTrader\n",
    "                MMquantity_2[time] = quantityTrader_2\n",
    "                newquantity_2 = quantityTrader_2 + currentquantity_2\n",
    "                newquantity_1 = currentquantity_1\n",
    "                \n",
    "            MMpayment[time] = 100*MMb*(np.log(np.exp(newquantity_1/MMb)+np.exp(newquantity_2/MMb))- \\\n",
    "                                       np.log(np.exp(currentquantity_1/MMb)+np.exp(currentquantity_2/MMb)))\n",
    "            MMprice_1[time] = 100*(alpha*np.log(np.exp(newquantity_1/MMb)+np.exp(newquantity_2/MMb)) + \\\n",
    "                                       (newquantity_2*(np.exp(newquantity_1/MMb)-np.exp(newquantity_2/MMb))) / \\\n",
    "                                       ((newquantity_1 + newquantity_2)*(np.exp(newquantity_1/MMb) + np.exp(newquantity_2/MMb))))\n",
    "            MMprice_2[time] = 100*(alpha*np.log(np.exp(newquantity_1/MMb)+np.exp(newquantity_2/MMb)) + \\\n",
    "                                       (newquantity_1*(np.exp(newquantity_2/MMb)-np.exp(newquantity_1/MMb))) / \\\n",
    "                                       ((newquantity_1 + newquantity_2)*(np.exp(newquantity_1/MMb) + np.exp(newquantity_2/MMb))))\n",
    "        trial_1[i] = np.sum(MMpayment)-100*np.sum(MMquantity_1)\n",
    "        trial_2[i] = np.sum(MMpayment)-100*np.sum(MMquantity_2)\n",
    "    return trial_1, trial_2, trueValue, MMprice_1"
   ]
  },
  {
   "cell_type": "code",
   "execution_count": 7,
   "metadata": {
    "collapsed": false
   },
   "outputs": [
    {
     "data": {
      "image/png": "[encoded data removed]",
      "text/plain": [
       "<matplotlib.figure.Figure at 0x1761a898>"
      ]
     },
     "metadata": {},
     "output_type": "display_data"
    },
    {
     "name": "stdout",
     "output_type": "stream",
     "text": [
      "3168.41355455\n",
      "7258.9543322\n",
      "-8248.02666289\n"
     ]
    },
    {
     "data": {
      "image/png": "[encoded data removed]",
      "text/plain": [
       "<matplotlib.figure.Figure at 0x170af278>"
      ]
     },
     "metadata": {},
     "output_type": "display_data"
    },
    {
     "name": "stdout",
     "output_type": "stream",
     "text": [
      "663.8057358\n",
      "6022.79145136\n",
      "-9088.51148588\n"
     ]
    },
    {
     "data": {
      "image/png": "[encoded data removed]",
      "text/plain": [
       "<matplotlib.figure.Figure at 0xce28358>"
      ]
     },
     "metadata": {},
     "output_type": "display_data"
    }
   ],
   "source": [
    "# Baseline Revenue Results \n",
    "trial_1, trial_2, trueValue, MMprice_1 = runlslmsr_gaussian(200, 1000, 20, 1/100, 5, 0.05, 10)\n",
    "# plot sample simulation\n",
    "xs = np.arange(0,200,1)\n",
    "plt.plot(xs, trueValue, xs, MMprice_1)\n",
    "plt.show() \n",
    "\n",
    "# outcome 1 occurs\n",
    "print(np.average(trial_1))\n",
    "print(np.std(trial_1))\n",
    "print(np.min(trial_1))\n",
    "plt.hist(trial_1, normed=1)\n",
    "plt.show()\n",
    "\n",
    "#outcome 2 occurs\n",
    "print(np.average(trial_2))\n",
    "print(np.std(trial_2))\n",
    "print(np.min(trial_2))\n",
    "plt.hist(trial_2, normed=1)\n",
    "plt.show()\n"
   ]
  },
  {
   "cell_type": "markdown",
   "metadata": {},
   "source": [
    "### Liquidity sensitive - trying an optimzer to solve for myopic trader"
   ]
  },
  {
   "cell_type": "code",
   "execution_count": 8,
   "metadata": {
    "collapsed": true
   },
   "outputs": [],
   "source": [
    "#Liquidity Sensitive LMSR Implementation Das Interpretation\n",
    "\n",
    "def runlslmsr_gaussianmyopic(iterations, trialnumber, traderAlphaExponential, shock_prob, shock_sd, alpha, initialsubsidy):\n",
    "    trial_1 = np.zeros(trialnumber)\n",
    "    trial_2 = np.zeros(trialnumber)\n",
    "\n",
    "    for i in np.arange(0,trialnumber,1):\n",
    "        # Initialize Market Model\n",
    "        initialValue = np.random.normal(50,12)\n",
    "        if initialValue < 0:\n",
    "            initialValue = 0\n",
    "        if initialValue > 100:\n",
    "            initialValue = 100\n",
    "\n",
    "        # shock values\n",
    "        shock_prob= 1/100\n",
    "        shockSD = 5\n",
    "        # true asset value\n",
    "        trueValue = np.zeros(iterations)\n",
    "        trueValue[0] = initialValue\n",
    "\n",
    "        # Initial Trade Values\n",
    "        traderSD = 5\n",
    "        traderValueAll = np.zeros(iterations)\n",
    "        traderValueAll[0] = initialValue\n",
    "\n",
    "        #initial MM values\n",
    "\n",
    "        #outcome 1\n",
    "        MMquantity_1 = np.zeros(iterations)\n",
    "        MMquantity_1[0] = initialsubsidy\n",
    "        MMprice_1 = np.zeros(iterations)\n",
    "        MMprice_1[0] = 50\n",
    "\n",
    "        #outcome 2\n",
    "        MMquantity_2 = np.zeros(iterations)\n",
    "        MMquantity_2[0] = initialsubsidy\n",
    "        MMprice_2 = np.zeros(iterations)\n",
    "        MMprice_2[0] = 50\n",
    "\n",
    "        #revenue\n",
    "        MMpayment = np.zeros(iterations)\n",
    "        MMpayment[0] = 0\n",
    "\n",
    "        for time in np.arange(1,iterations,1):\n",
    "            if np.random.binomial(1,shock_prob) == 1:\n",
    "                initialValue = initialValue + np.random.normal(0, shockSD)\n",
    "            trueValue[time] = initialValue\n",
    "            traderValue = np.random.normal(initialValue, traderSD)\n",
    "            traderValueAll[time] = traderValue\n",
    "            # normalize trader value\n",
    "            if traderValue <= 0:\n",
    "                traderValue = 0.01\n",
    "            if traderValue >= 100:\n",
    "                traderValue = 99.99\n",
    "            quantityTrader = np.random.exponential(traderAlphaExponential)\n",
    "            currentquantity_1 = np.sum(MMquantity_1)\n",
    "            currentquantity_2 = np.sum(MMquantity_2)\n",
    "            MMb = alpha*(currentquantity_1 + currentquantity_2)\n",
    "            \n",
    "            if traderValue > MMprice_1[time - 1]:\n",
    "                f = lambda q: alpha*np.log(np.exp(q/MMb) + \\\n",
    "                                           np.exp(currentquantity_2/MMb)) + (currentquantity_2*(np.exp(q/MMb) - \\\n",
    "                                           np.exp(currentquantity_2/MMb))) / ((q+currentquantity_2)*(np.exp(q/MMb) + \\\n",
    "                                           np.exp(currentquantity_2/MMb)))\n",
    "                res = minimize_scalar(f, method='brent')\n",
    "                if res.x > 0 and res.success == 1:\n",
    "                    quantityTrader_1 = min(quantityTrader, res.x)\n",
    "                else:\n",
    "                    quantityTrader_1 = quantityTrader\n",
    "                MMquantity_1[time] = quantityTrader_1 \n",
    "                newquantity_1 = quantityTrader_1 + currentquantity_1\n",
    "                newquantity_2 = currentquantity_2\n",
    "            else:\n",
    "                f = lambda q: alpha*np.log(np.exp(q/MMb) + \\\n",
    "                                           np.exp(currentquantity_1/MMb)) + (currentquantity_1*(np.exp(q/MMb) - \\\n",
    "                                           np.exp(currentquantity_1/MMb))) / ((q+currentquantity_1)*(np.exp(q/MMb) + \\\n",
    "                                           np.exp(currentquantity_1/MMb)))\n",
    "                res = minimize_scalar(f, method='brent')\n",
    "                if res.x > 0 and res.success == 1:\n",
    "                    quantityTrader_2 = min(quantityTrader, res.x)\n",
    "                else:\n",
    "                    quantityTrader_2 = quantityTrader\n",
    "                MMquantity_2[time] = quantityTrader_2\n",
    "                newquantity_2 = quantityTrader_2 + currentquantity_2\n",
    "                newquantity_1 = currentquantity_1\n",
    "                \n",
    "            MMpayment[time] = 100*MMb*(np.log(np.exp(newquantity_1/MMb)+np.exp(newquantity_2/MMb))- \\\n",
    "                                       np.log(np.exp(currentquantity_1/MMb)+np.exp(currentquantity_2/MMb)))\n",
    "            MMprice_1[time] = 100*(alpha*np.log(np.exp(newquantity_1/MMb)+np.exp(newquantity_2/MMb)) + \\\n",
    "                                       (newquantity_2*(np.exp(newquantity_1/MMb)-np.exp(newquantity_2/MMb))) / \\\n",
    "                                       ((newquantity_1 + newquantity_2)*(np.exp(newquantity_1/MMb) + np.exp(newquantity_2/MMb))))\n",
    "            MMprice_2[time] = 100*(alpha*np.log(np.exp(newquantity_1/MMb)+np.exp(newquantity_2/MMb)) + \\\n",
    "                                       (newquantity_1*(np.exp(newquantity_2/MMb)-np.exp(newquantity_1/MMb))) / \\\n",
    "                                       ((newquantity_1 + newquantity_2)*(np.exp(newquantity_1/MMb) + np.exp(newquantity_2/MMb))))\n",
    "        trial_1[i] = np.sum(MMpayment)-100*np.sum(MMquantity_1)\n",
    "        trial_2[i] = np.sum(MMpayment)-100*np.sum(MMquantity_2)\n",
    "    return trial_1, trial_2, trueValue, MMprice_1"
   ]
  },
  {
   "cell_type": "code",
   "execution_count": 9,
   "metadata": {
    "collapsed": false
   },
   "outputs": [
    {
     "data": {
      "image/png": "[encoded data removed]",
      "text/plain": [
       "<matplotlib.figure.Figure at 0x173c9240>"
      ]
     },
     "metadata": {},
     "output_type": "display_data"
    },
    {
     "name": "stdout",
     "output_type": "stream",
     "text": [
      "3034.48554339\n",
      "7055.34430207\n",
      "-8759.18844587\n"
     ]
    },
    {
     "data": {
      "image/png": "[encoded data removed]",
      "text/plain": [
       "<matplotlib.figure.Figure at 0xce28208>"
      ]
     },
     "metadata": {},
     "output_type": "display_data"
    },
    {
     "name": "stdout",
     "output_type": "stream",
     "text": [
      "802.932252205\n",
      "6719.82646925\n",
      "-9297.03587548\n"
     ]
    },
    {
     "data": {
      "image/png": "[encoded data removed]",
      "text/plain": [
       "<matplotlib.figure.Figure at 0x170f53c8>"
      ]
     },
     "metadata": {},
     "output_type": "display_data"
    }
   ],
   "source": [
    "# Baseline Revenue Results \n",
    "trial_1, trial_2, trueValue, MMprice_1 = runlslmsr_gaussianmyopic(200, 1000, 20, 1/100, 5, 0.05, 10)\n",
    "# plot sample simulation\n",
    "xs = np.arange(0,200,1)\n",
    "plt.plot(xs, trueValue, xs, MMprice_1)\n",
    "plt.show() \n",
    "\n",
    "# outcome 1 occurs\n",
    "print(np.average(trial_1))\n",
    "print(np.std(trial_1))\n",
    "print(np.min(trial_1))\n",
    "plt.hist(trial_1, normed=1)\n",
    "plt.show()\n",
    "\n",
    "#outcome 2 occurs\n",
    "print(np.average(trial_2))\n",
    "print(np.std(trial_2))\n",
    "print(np.min(trial_2))\n",
    "plt.hist(trial_2, normed=1)\n",
    "plt.show()\n"
   ]
  },
  {
   "cell_type": "markdown",
   "metadata": {},
   "source": [
    "## COMBINATION (RUNNING LMSR AT SAME TIME AS LS LMSR)"
   ]
  },
  {
   "cell_type": "code",
   "execution_count": 11,
   "metadata": {
    "collapsed": true
   },
   "outputs": [],
   "source": [
    "# LMSR Implementation Das Interpretation\n",
    "# according to http://www.cse.wustl.edu/~mithunchakraborty/papers/AAAI15poster_final.pdf\n",
    "def bothlmsr_gaussian(iterations, trialnumber, typMMb, traderAlphaExponential, shock_prob, shock_sd, alpha):\n",
    "    typtrial_1 = np.zeros(trialnumber)\n",
    "    typtrial_2 = np.zeros(trialnumber)\n",
    "    typrmse = np.zeros(trialnumber)\n",
    "    lstrial_1 = np.zeros(trialnumber)\n",
    "    lstrial_2 = np.zeros(trialnumber)\n",
    "    lsrmse = np.zeros(trialnumber)\n",
    "    for i in np.arange(0,trialnumber,1):\n",
    "        # Initialize Market Model\n",
    "        initialValue = np.random.normal(50,12)\n",
    "        if initialValue < 0:\n",
    "            initialValue = 0\n",
    "        if initialValue > 100:\n",
    "            initialValue = 100\n",
    "\n",
    "        # shock values\n",
    "        shock_prob= 1/100\n",
    "        shockSD = 5\n",
    "        \n",
    "        # true asset value\n",
    "        trueValue = np.zeros(iterations)\n",
    "        trueValue[0] = initialValue\n",
    "\n",
    "        # Initial Trade Values\n",
    "        traderSD = 5\n",
    "        traderValueAll = np.zeros(iterations)\n",
    "        traderValueAll[0] = initialValue\n",
    "\n",
    "        #initial MM values\n",
    "\n",
    "        #outcome 1\n",
    "        typeMMquantity_1 = np.zeros(iterations)\n",
    "        typMMprice_1 = np.zeros(iterations)\n",
    "        typMMprice_1[0] = 50\n",
    "        lsMMquantity_1 = np.zeros(iterations)\n",
    "        lsMMprice_1 = np.zeros(iterations)\n",
    "        lsMMprice_1[0] = 50\n",
    "        \n",
    "        #outcome 2\n",
    "        typMMquantity_2 = np.zeros(iterations)\n",
    "        typMMprice_2 = np.zeros(iterations)\n",
    "        typMMprice_2[0] = 50\n",
    "        lsMMquantity_2 = np.zeros(iterations)\n",
    "        lsMMprice_2 = np.zeros(iterations)\n",
    "        lsMMprice_2[0] = 50\n",
    "        \n",
    "        #revenue\n",
    "        typMMpayment = np.zeros(iterations)\n",
    "        lsMMpayment = np.zeros(iterations)\n",
    "        \n",
    "        typdifference = np.zeros(iterations)\n",
    "        lsdifference = np.zeros(iterations)\n",
    "\n",
    "        for time in np.arange(1,iterations,1):\n",
    "            if np.random.binomial(1,shock_prob) == 1:\n",
    "                initialValue = initialValue + np.random.normal(0, shockSD)\n",
    "            trueValue[time] = initialValue\n",
    "            traderValue = np.random.normal(initialValue, traderSD)\n",
    "            traderValueAll[time] = traderValue\n",
    "            # normalize trader value\n",
    "            if traderValue <= 0:\n",
    "                traderValue = 0.01\n",
    "            if traderValue >= 100:\n",
    "                traderValue = 99.99\n",
    "            quantityTrader = np.random.exponential(traderAlphaExponential)\n",
    "            \n",
    "            # STANDARD LMSR \n",
    "            currentquantity_1 = np.sum(typMMquantity_1)\n",
    "            currentquantity_2 = np.sum(typMMquantity_2)\n",
    "            MMb = typMMb\n",
    "            \n",
    "            if traderValue > typMMprice_1[time - 1]:\n",
    "                quantityEquivalentprice = MMb*(np.log((traderValue*(np.exp(currentquantity_2/MMb))/100) / \\\n",
    "                                                      (1-traderValue/100)))-currentquantity_1\n",
    "                # error checking\n",
    "                if quantityEquivalentprice < 0 and traderValue < 99.:\n",
    "                    print time, i, typMMprice_1[time - 1], traderValue, currentquantity_1, currentquantity_2\n",
    "                    raise NameError('Problem with Quantity Calculation')\n",
    "                quantityTrader_1 = min(quantityTrader, quantityEquivalentprice)\n",
    "                typMMquantity_1[time] = quantityTrader_1 \n",
    "                newquantity_1 = quantityTrader_1 + currentquantity_1\n",
    "                newquantity_2 = currentquantity_2\n",
    "            else:\n",
    "                quantityEquivalentprice = MMb*(np.log(((100-traderValue)*(np.exp(currentquantity_1/MMb))/100)/ \\\n",
    "                                                      (1-(100-traderValue)/100)))-currentquantity_2\n",
    "                # error checking\n",
    "                if quantityEquivalentprice < 0 and traderValue < 99.:\n",
    "                    print time, i, typMMprice_1[time - 1], traderValue, currentquantity_1, currentquantity_2\n",
    "                    raise NameError('Problem with Quantity Calculation')\n",
    "                quantityTrader_2 = min(quantityTrader, quantityEquivalentprice)\n",
    "                typMMquantity_2[time] = quantityTrader_2\n",
    "                newquantity_2 = quantityTrader_2 + currentquantity_2\n",
    "                newquantity_1 = currentquantity_1\n",
    "            typMMpayment[time] = 100*MMb*(np.log(np.exp(newquantity_1/MMb)+np.exp(newquantity_2/MMb))- \\\n",
    "                                       np.log(np.exp(currentquantity_1/MMb)+np.exp(currentquantity_2/MMb)))\n",
    "            typMMprice_1[time] = 100*(np.exp(newquantity_1/MMb)/(np.exp(newquantity_1/MMb)+np.exp(newquantity_2/MMb)))\n",
    "            typMMprice_2[time] = 100*(np.exp(newquantity_2/MMb)/(np.exp(newquantity_1/MMb)+np.exp(newquantity_2/MMb)))\n",
    "            typdifference[time] = (typMMprice_1[time] - trueValue[time]) ** 2\n",
    "            \n",
    "            # LIQUID SENSITIVE LMSR\n",
    "            currentquantity_1 = np.sum(lsMMquantity_1)\n",
    "            currentquantity_2 = np.sum(lsMMquantity_2)\n",
    "            MMb = alpha*(currentquantity_1 + currentquantity_2)\n",
    "            if traderValue > lsMMprice_1[time - 1]:\n",
    "                quantityTrader_1 = quantityTrader\n",
    "                lsMMquantity_1[time] = quantityTrader_1 \n",
    "                newquantity_1 = quantityTrader_1 + currentquantity_1\n",
    "                newquantity_2 = currentquantity_2\n",
    "            else:\n",
    "                quantityTrader_2 = quantityTrader\n",
    "                lsMMquantity_2[time] = quantityTrader_2\n",
    "                newquantity_2 = quantityTrader_2 + currentquantity_2\n",
    "                newquantity_1 = currentquantity_1\n",
    "                \n",
    "            lsMMpayment[time] = 100*MMb*(np.log(np.exp(newquantity_1/MMb)+np.exp(newquantity_2/MMb))- \\\n",
    "                                       np.log(np.exp(currentquantity_1/MMb)+np.exp(currentquantity_2/MMb)))\n",
    "            lsMMprice_1[time] = 100*(alpha*np.log(np.exp(newquantity_1/MMb)+np.exp(newquantity_2/MMb)) + \\\n",
    "                                       (newquantity_2*(np.exp(newquantity_1/MMb)-np.exp(newquantity_2/MMb))) / \\\n",
    "                                       ((newquantity_1 + newquantity_2)*(np.exp(newquantity_1/MMb) + np.exp(newquantity_2/MMb))))\n",
    "            lsMMprice_2[time] = 100*(alpha*np.log(np.exp(newquantity_1/MMb)+np.exp(newquantity_2/MMb)) + \\\n",
    "                                       (newquantity_1*(np.exp(newquantity_2/MMb)-np.exp(newquantity_1/MMb))) / \\\n",
    "                                       ((newquantity_1 + newquantity_2)*(np.exp(newquantity_1/MMb) + np.exp(newquantity_2/MMb))))\n",
    "            lsdifference[time] = (lsMMprice_1[time] - trueValue[time]) ** 2\n",
    "        typtrial_1[i] = np.sum(typMMpayment)-100*np.sum(typMMquantity_1)\n",
    "        typtrial_2[i] = np.sum(typMMpayment)-100*np.sum(typMMquantity_2)\n",
    "        typrmse[i] = np.sqrt(np.sum(typdifference)/iterations)        \n",
    "        lstrial_1[i] = np.sum(lsMMpayment)-100*np.sum(lsMMquantity_1)\n",
    "        lstrial_2[i] = np.sum(lsMMpayment)-100*np.sum(lsMMquantity_2)\n",
    "        lsrmse[i] = np.sqrt(np.sum(lsdifference)/iterations)\n",
    "    return trial_1, trial_2, trueValue, MMprice_1, rmse"
   ]
  },
  {
   "cell_type": "code",
   "execution_count": null,
   "metadata": {
    "collapsed": true
   },
   "outputs": [],
   "source": []
  },
  {
   "cell_type": "markdown",
   "metadata": {},
   "source": [
    "## Uniform Shock"
   ]
  },
  {
   "cell_type": "code",
   "execution_count": null,
   "metadata": {
    "collapsed": true
   },
   "outputs": [],
   "source": [
    "# LMSR Implementation Das Interpretation\n",
    "# according to http://www.cse.wustl.edu/~mithunchakraborty/papers/AAAI15poster_final.pdf\n",
    "def runlmsr_uniform(iterations, trialnumber, MMb, traderAlphaExponential):\n",
    "    trial_1 = np.zeros(trialnumber)\n",
    "    trial_2 = np.zeros(trialnumber)\n",
    "    rmse = np.zeros(trialnumber)\n",
    "    for i in np.arange(0,trialnumber,1):\n",
    "        # Initialize Market Model\n",
    "        initialValue = np.random.normal(50,12)\n",
    "        if initialValue < 0:\n",
    "            initialValue = 0\n",
    "        if initialValue > 100:\n",
    "            initialValue = 100\n",
    "\n",
    "        # shock values\n",
    "        shock_prob= 1/100\n",
    "        shockSD = 5\n",
    "        # true asset value\n",
    "        trueValue = np.zeros(iterations)\n",
    "        trueValue[0] = initialValue\n",
    "\n",
    "        # Initial Trade Values\n",
    "        traderSD = 5\n",
    "        traderValueAll = np.zeros(iterations)\n",
    "        traderValueAll[0] = initialValue\n",
    "\n",
    "        #initial MM values\n",
    "\n",
    "        #outcome 1\n",
    "        MMquantity_1 = np.zeros(iterations)\n",
    "        MMprice_1 = np.zeros(iterations)\n",
    "        MMprice_1[0] = 50\n",
    "\n",
    "        #outcome 2\n",
    "        MMquantity_2 = np.zeros(iterations)\n",
    "        MMprice_2 = np.zeros(iterations)\n",
    "        MMprice_2[0] = 50\n",
    "\n",
    "        #revenue\n",
    "        MMpayment = np.zeros(iterations)\n",
    "        \n",
    "        difference = np.zeros(iterations)\n",
    "\n",
    "        for time in np.arange(1,iterations,1):\n",
    "            if np.random.binomial(1,shock_prob) == 1:\n",
    "                initialValue = initialValue + np.random.normal(0, shockSD)\n",
    "            trueValue[time] = initialValue\n",
    "            traderValue = np.random.normal(initialValue, traderSD)\n",
    "            traderValueAll[time] = traderValue\n",
    "            # normalize trader value\n",
    "            if traderValue <= 0:\n",
    "                traderValue = 0.01\n",
    "            if traderValue >= 100:\n",
    "                traderValue = 99.99\n",
    "            quantityTrader = np.random.exponential(traderAlphaExponential)\n",
    "            currentquantity_1 = np.sum(MMquantity_1)\n",
    "            currentquantity_2 = np.sum(MMquantity_2)\n",
    "            if traderValue > MMprice_1[time - 1]:\n",
    "                quantityEquivalentprice = MMb*(np.log((traderValue*(np.exp(currentquantity_2/MMb))/100) / \\\n",
    "                                                      (1-traderValue/100)))-currentquantity_1\n",
    "                # error checking\n",
    "                if quantityEquivalentprice < 0 and traderValue < 99.:\n",
    "                    print time, i, MMprice_1[time - 1], traderValue, currentquantity_1, currentquantity_2\n",
    "                    raise NameError('Problem with Quantity Calculation')\n",
    "                quantityTrader_1 = min(quantityTrader, quantityEquivalentprice)\n",
    "                MMquantity_1[time] = quantityTrader_1 \n",
    "                newquantity_1 = quantityTrader_1 + currentquantity_1\n",
    "                newquantity_2 = currentquantity_2\n",
    "            else:\n",
    "                quantityEquivalentprice = MMb*(np.log(((100-traderValue)*(np.exp(currentquantity_1/MMb))/100)/ \\\n",
    "                                                      (1-(100-traderValue)/100)))-currentquantity_2\n",
    "                # error checking\n",
    "                if quantityEquivalentprice < 0 and traderValue < 99.:\n",
    "                    print time, i, MMprice_1[time - 1], traderValue, currentquantity_1, currentquantity_2\n",
    "                    raise NameError('Problem with Quantity Calculation')\n",
    "                quantityTrader_2 = min(quantityTrader, quantityEquivalentprice)\n",
    "                MMquantity_2[time] = quantityTrader_2\n",
    "                newquantity_2 = quantityTrader_2 + currentquantity_2\n",
    "                newquantity_1 = currentquantity_1\n",
    "            MMpayment[time] = 100*MMb*(np.log(np.exp(newquantity_1/MMb)+np.exp(newquantity_2/MMb))- \\\n",
    "                                       np.log(np.exp(currentquantity_1/MMb)+np.exp(currentquantity_2/MMb)))\n",
    "            MMprice_1[time] = 100*(np.exp(newquantity_1/MMb)/(np.exp(newquantity_1/MMb)+np.exp(newquantity_2/MMb)))\n",
    "            MMprice_2[time] = 100*(np.exp(newquantity_2/MMb)/(np.exp(newquantity_1/MMb)+np.exp(newquantity_2/MMb)))\n",
    "            difference[time] = (MMprice_1[time] - trueValue[time]) ** 2\n",
    "        trial_1[i] = np.sum(MMpayment)-100*np.sum(MMquantity_1)\n",
    "        trial_2[i] = np.sum(MMpayment)-100*np.sum(MMquantity_2)\n",
    "        rmse[i] = np.sqrt(np.sum(difference)/iterations)\n",
    "    return trial_1, trial_2, trueValue, MMprice_1, rmse"
   ]
  },
  {
   "cell_type": "markdown",
   "metadata": {},
   "source": [
    "## Our LMSR model"
   ]
  },
  {
   "cell_type": "code",
   "execution_count": null,
   "metadata": {
    "collapsed": true
   },
   "outputs": [],
   "source": []
  },
  {
   "cell_type": "markdown",
   "metadata": {},
   "source": [
    "## Outline for BMM"
   ]
  },
  {
   "cell_type": "code",
   "execution_count": null,
   "metadata": {
    "collapsed": true
   },
   "outputs": [],
   "source": [
    "''' \n",
    "# BMM implementation\n",
    "iterations = 200\n",
    "trial = np.zeros(1000)\n",
    "\n",
    "for i in np.arange(0,100,1):\n",
    "    # Initialize Market Model\n",
    "    initialValue = np.random.normal(50,12)\n",
    "    if initialValue < 0:\n",
    "        initialValue = 0\n",
    "    if initialValue > 100:\n",
    "        initialValue = 100\n",
    "\n",
    "    # shock values\n",
    "    shock_prob= 1/100\n",
    "    shockSD = 5\n",
    "    # true asset value\n",
    "    trueValue = np.zeros(iterations)\n",
    "    trueValue[0] = initialValue\n",
    "\n",
    "    # Initial Trade Values\n",
    "    traderAlphaExponential = 20\n",
    "    traderSD = 5\n",
    "    traderValueAll = np.zeros(iterations)\n",
    "    traderValueAll[0] = initialValue\n",
    "    \n",
    "    #initial MM values\n",
    "    MMquantity = np.zeros(iterations)\n",
    "    MMquantity[0] = 0\n",
    "    MMprice = np.zeros(iterations)\n",
    "    MMprice[0] = initialvalue\n",
    "    MMrevenue = np.zeros(iterations)\n",
    "    MMrevenue[0] = 0\n",
    "    MMwindow = 5\n",
    "    MMexpectedvalue = np.zeros(iterations)\n",
    "    MMexpectedvalue[0] = initialvalue\n",
    "    MMsdvalue = np.zeros(iterations)\n",
    "    MMsdvalue[0] = 0\n",
    "    MMsdvalue[1]\n",
    "    for time in np.arange(1,iterations,1):\n",
    "        if np.random.binomial(1,shock_prob) == 1:\n",
    "            initialValue = initialValue + np.random.normal(0, shockSD)\n",
    "        trueValue[time] = initialValue\n",
    "        traderValue = np.random.normal(initialValue, traderSD)\n",
    "        traderValueAll[time] = traderValue\n",
    "        if traderValue <= 0:\n",
    "            traderValue = 0.01\n",
    "        if traderValue > 100:\n",
    "            traderValue = 99.99\n",
    "        quantityTrader = np.random.exponential(traderAlphaExponential)\n",
    "        if traderValue > MMprice[time - 1]:\n",
    "            \n",
    "            A = \n",
    "            B = \n",
    "            C = \n",
    "'''"
   ]
  },
  {
   "cell_type": "code",
   "execution_count": null,
   "metadata": {
    "collapsed": true
   },
   "outputs": [],
   "source": []
  },
  {
   "cell_type": "code",
   "execution_count": null,
   "metadata": {
    "collapsed": true
   },
   "outputs": [],
   "source": []
  }
 ],
 "metadata": {
  "kernelspec": {
   "display_name": "Python 2",
   "language": "python",
   "name": "python2"
  },
  "language_info": {
   "codemirror_mode": {
    "name": "ipython",
    "version": 2
   },
   "file_extension": ".py",
   "mimetype": "text/x-python",
   "name": "python",
   "nbconvert_exporter": "python",
   "pygments_lexer": "ipython2",
   "version": "2.7.7"
  }
 },
 "nbformat": 4,
 "nbformat_minor": 0
}
