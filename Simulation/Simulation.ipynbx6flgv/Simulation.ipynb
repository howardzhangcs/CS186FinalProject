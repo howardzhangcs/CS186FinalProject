{
 "cells": [
  {
   "cell_type": "code",
   "execution_count": 1,
   "metadata": {
    "collapsed": true
   },
   "outputs": [],
   "source": [
    "%matplotlib inline \n",
    "\n",
    "import numpy as np\n",
    "import scipy\n",
    "import pandas as pd # pandas\n",
    "import matplotlib.pyplot as plt # module for plotting \n",
    "from mpl_toolkits.mplot3d import Axes3D #3D plotting\n",
    "import datetime as dt # module for manipulating dates and times\n",
    "\n",
    "import requests \n",
    "import scipy.stats as stats\n",
    "import statsmodels.api as sm\n",
    "from scipy.stats import binom\n",
    "from __future__ import division\n",
    "import re\n",
    "from StringIO import StringIO\n",
    "from zipfile import ZipFile \n",
    "from pandas import read_csv\n",
    "from urllib import urlopen\n",
    "import urllib2\n",
    "import json\n",
    "\n",
    "import sklearn\n",
    "import sklearn.preprocessing\n",
    "import sklearn.datasets"
   ]
  },
  {
   "cell_type": "code",
   "execution_count": 15,
   "metadata": {
    "collapsed": false
   },
   "outputs": [
    {
     "data": {
      "text/plain": [
       "[<matplotlib.lines.Line2D at 0x1993a5c0>,\n",
       " <matplotlib.lines.Line2D at 0x1993a7f0>]"
      ]
     },
     "execution_count": 15,
     "metadata": {},
     "output_type": "execute_result"
    },
    {
     "data": {
      "image/png": "[encoded data removed]",
      "text/plain": [
       "<matplotlib.figure.Figure at 0x1998bc50>"
      ]
     },
     "metadata": {},
     "output_type": "display_data"
    }
   ],
   "source": [
    "# LMSR Implementation Das Interpretation\n",
    "\n",
    "iterations = 201\n",
    "trial = np.zeros(101)\n",
    "\n",
    "for i in np.arange(0,100,1):\n",
    "    # Initialize Market Model\n",
    "    initialValue = np.random.normal(50,12)\n",
    "    if initialValue < 0:\n",
    "        initialValue = 0\n",
    "    if initialValue > 100:\n",
    "        initialValue = 100\n",
    "\n",
    "    # shock values\n",
    "    shock_prob= 1/100\n",
    "    shockSD = 5\n",
    "    # true asset value\n",
    "    trueValue = np.zeros(iterations)\n",
    "    trueValue[0] = initialValue\n",
    "\n",
    "    # Initial Trade Values\n",
    "    traderAlphaExponential = 20\n",
    "    traderSD = 5\n",
    "    traderValueAll = np.zeros(iterations)\n",
    "    traderValueAll[0] = initialValue\n",
    "    \n",
    "    #initial MM values\n",
    "    MMb = 125\n",
    "    MMquantity = np.zeros(iterations)\n",
    "    MMquantity[0] = 0\n",
    "    MMprice = np.zeros(iterations)\n",
    "    MMprice[0] = 50\n",
    "    MMrevenue = np.zeros(iterations)\n",
    "    MMrevenue[0] = 0\n",
    "    for time in np.arange(1,iterations,1):\n",
    "        if np.random.binomial(1,shock_prob) == 1:\n",
    "            initialValue = initialValue + np.random.normal(0, shockSD)\n",
    "        trueValue[time] = initialValue\n",
    "        traderValue = np.random.normal(initialValue, traderSD)\n",
    "        traderValueAll[time] = traderValue\n",
    "        if traderValue <= 0:\n",
    "            traderValue = 0.01\n",
    "        if traderValue > 100:\n",
    "            traderValue = 99.99\n",
    "        quantityTrader = np.random.exponential(traderAlphaExponential)\n",
    "        if traderValue < MMprice[time - 1]:\n",
    "            quantityTrader = -quantityTrader\n",
    "        currentquantity = np.sum(MMquantity)\n",
    "        MMquantity[time] = quantityTrader                                       \n",
    "        MMrevenue[time] = 100*MMb*(np.log(1+np.exp((currentquantity+quantityTrader)/MMb))- \\\n",
    "                                   np.log(1+np.exp(currentquantity/MMb)))\n",
    "        normalizedquantity = (quantityTrader + currentquantity)/MMb\n",
    "\n",
    "        MMprice[time] = 100*(np.exp(normalizedquantity)/(1+np.exp(normalizedquantity)))\n",
    "    trial[i] = np.sum(MMrevenue)\n",
    "xs = np.arange(0,iterations,1)\n",
    "plt.plot(xs, trueValue, xs, MMprice)"
   ]
  },
  {
   "cell_type": "code",
   "execution_count": 3,
   "metadata": {
    "collapsed": false
   },
   "outputs": [
    {
     "name": "stdout",
     "output_type": "stream",
     "text": [
      "816.612993477\n",
      "4144.42114017\n",
      "-6998.12337555\n"
     ]
    },
    {
     "data": {
      "text/plain": [
       "(array([  4.,  17.,  21.,  21.,  18.,   8.,   5.,   3.,   3.,   1.]),\n",
       " array([ -6998.12337555,  -4853.45422603,  -2708.7850765 ,   -564.11592698,\n",
       "          1580.55322255,   3725.22237207,   5869.8915216 ,   8014.56067112,\n",
       "         10159.22982065,  12303.89897017,  14448.56811969]),\n",
       " <a list of 10 Patch objects>)"
      ]
     },
     "execution_count": 3,
     "metadata": {},
     "output_type": "execute_result"
    },
    {
     "data": {
      "image/png": "[encoded data removed]",
      "text/plain": [
       "<matplotlib.figure.Figure at 0x172468d0>"
      ]
     },
     "metadata": {},
     "output_type": "display_data"
    }
   ],
   "source": [
    "# Revenue Results \n",
    "print(np.average(trial))\n",
    "print(np.std(trial))\n",
    "print(np.min(trial))\n",
    "plt.hist(trial)"
   ]
  },
  {
   "cell_type": "code",
   "execution_count": 13,
   "metadata": {
    "collapsed": false
   },
   "outputs": [
    {
     "data": {
      "text/plain": [
       "[<matplotlib.lines.Line2D at 0x194a4f98>,\n",
       " <matplotlib.lines.Line2D at 0x194b3208>]"
      ]
     },
     "execution_count": 13,
     "metadata": {},
     "output_type": "execute_result"
    },
    {
     "data": {
      "image/png": "[encoded data removed]",
      "text/plain": [
       "<matplotlib.figure.Figure at 0x177daef0>"
      ]
     },
     "metadata": {},
     "output_type": "display_data"
    }
   ],
   "source": [
    "# LMSR Implementation Textbook Interpretation\n",
    "iterations = 201\n",
    "trial = np.zeros(101)\n",
    "\n",
    "for i in np.arange(0,100,1):\n",
    "    # Initialize Market Model\n",
    "    initialValue = np.random.normal(50,12)\n",
    "    if initialValue < 0:\n",
    "        initialValue = 0\n",
    "    if initialValue > 100:\n",
    "        initialValue = 100\n",
    "\n",
    "    # shock values\n",
    "    shock_prob= 1/100\n",
    "    shockSD = 5\n",
    "    # true asset value\n",
    "    trueValue = np.zeros(iterations)\n",
    "    trueValue[0] = initialValue\n",
    "\n",
    "    # Initial Trade Values\n",
    "    traderAlphaExponential = 20\n",
    "    traderSD = 5\n",
    "    traderValueAll = np.zeros(iterations)\n",
    "    traderValueAll[0] = initialValue\n",
    "    \n",
    "    #initial MM values\n",
    "    MMb = 125\n",
    "    MMquantity = np.zeros(iterations)\n",
    "    MMquantity[0] = 0\n",
    "    MMprice = np.zeros(iterations)\n",
    "    MMprice[0] = 50\n",
    "    MMrevenue = np.zeros(iterations)\n",
    "    MMrevenue[0] = 0\n",
    "    alpha = 0.5\n",
    "    \n",
    "    for time in np.arange(1,iterations,1):\n",
    "        if np.random.binomial(1,shock_prob) == 1:\n",
    "            initialValue = initialValue + np.random.normal(0, shockSD)\n",
    "        trueValue[time] = initialValue\n",
    "        traderValue = np.random.normal(initialValue, traderSD)\n",
    "        traderValueAll[time] = traderValue\n",
    "        if traderValue <= 0:\n",
    "            traderValue = 0.01\n",
    "        if traderValue >= 100:\n",
    "            traderValue = 99.99   \n",
    "        # will trade till the instantaneous price is equal to trader's value \n",
    "        currentquantity = np.sum(MMquantity) \n",
    "        quantityTrader = np.log((traderValue/100)/(1-(traderValue/100)))*MMb-currentquantity\n",
    "        MMquantity[time] = quantityTrader\n",
    "        MMrevenue[time] = 100*MMb*(np.log(1+np.exp((currentquantity+quantityTrader)/MMb))- \\\n",
    "                                   np.log(1+np.exp(currentquantity/MMb)))\n",
    "        normalizedquantity = (quantityTrader + currentquantity)/MMb\n",
    "        MMprice[time] = 100*(np.exp(normalizedquantity)/(1+np.exp(normalizedquantity)))\n",
    "    trial[i] = np.sum(MMrevenue)\n",
    "xs = np.arange(0,iterations,1)\n",
    "plt.plot(xs, trueValue, xs, MMprice)\n"
   ]
  },
  {
   "cell_type": "code",
   "execution_count": 11,
   "metadata": {
    "collapsed": false
   },
   "outputs": [
    {
     "name": "stdout",
     "output_type": "stream",
     "text": [
      "441.729208265\n",
      "3581.28592271\n",
      "-6454.66946868\n"
     ]
    },
    {
     "data": {
      "text/plain": [
       "(array([  9.,  10.,  19.,  23.,  18.,  13.,   4.,   2.,   2.,   1.]),\n",
       " array([ -6454.66946868,  -4553.57483009,  -2652.48019149,   -751.3855529 ,\n",
       "          1149.70908569,   3050.80372429,   4951.89836288,   6852.99300147,\n",
       "          8754.08764007,  10655.18227866,  12556.27691726]),\n",
       " <a list of 10 Patch objects>)"
      ]
     },
     "execution_count": 11,
     "metadata": {},
     "output_type": "execute_result"
    },
    {
     "data": {
      "image/png": "[encoded data removed]",
      "text/plain": [
       "<matplotlib.figure.Figure at 0x1796b978>"
      ]
     },
     "metadata": {},
     "output_type": "display_data"
    }
   ],
   "source": [
    "print(np.average(trial))\n",
    "print(np.std(trial))\n",
    "print(np.min(trial))\n",
    "plt.hist(trial)"
   ]
  },
  {
   "cell_type": "code",
   "execution_count": null,
   "metadata": {
    "collapsed": true
   },
   "outputs": [],
   "source": [
    "#Liquidity Sensitive LMSR Implementation Das Interpretation\n",
    "\n",
    "iterations = 201\n",
    "trial = np.zeros(101)\n",
    "\n",
    "for i in np.arange(0,100,1):\n",
    "    # Initialize Market Model\n",
    "    initialValue = np.random.normal(50,12)\n",
    "    if initialValue < 0:\n",
    "        initialValue = 0\n",
    "    if initialValue > 100:\n",
    "        initialValue = 100\n",
    "\n",
    "    # shock values\n",
    "    shock_prob= 1/100\n",
    "    shockSD = 5\n",
    "    # true asset value\n",
    "    trueValue = np.zeros(iterations)\n",
    "    trueValue[0] = initialValue\n",
    "\n",
    "    # Initial Trade Values\n",
    "    traderAlphaExponential = 20\n",
    "    traderSD = 5\n",
    "    traderValueAll = np.zeros(iterations)\n",
    "    traderValueAll[0] = initialValue\n",
    "    \n",
    "    #initial MM values\n",
    "    MMquantity = np.zeros(iterations)\n",
    "    MMquantity[0] = 0\n",
    "    MMprice = np.zeros(iterations)\n",
    "    MMprice[0] = 50\n",
    "    MMrevenue = np.zeros(iterations)\n",
    "    MMrevenue[0] = 0\n",
    "    for time in np.arange(1,iterations,1):\n",
    "        if np.random.binomial(1,shock_prob) == 1:\n",
    "            initialValue = initialValue + np.random.normal(0, shockSD)\n",
    "        trueValue[time] = initialValue\n",
    "        traderValue = np.random.normal(initialValue, traderSD)\n",
    "        traderValueAll[time] = traderValue\n",
    "        if traderValue <= 0:\n",
    "            traderValue = 0.01\n",
    "        if traderValue > 100:\n",
    "            traderValue = 99.99\n",
    "        quantityTrader = np.random.exponential(traderAlphaExponential)\n",
    "        if traderValue < MMprice[time - 1]:\n",
    "            quantityTrader = -quantityTrader\n",
    "        currentquantity = np.sum(MMquantity)\n",
    "        MMb = alpha*currentquantity\n",
    "        MMquantity[time] = quantityTrader                                       \n",
    "        MMrevenue[time] = 100*MMb*(np.log(1+np.exp((currentquantity+quantityTrader)/MMb))- \\\n",
    "                                   np.log(1+np.exp(currentquantity/MMb)))\n",
    "        normalizedquantity = (quantityTrader + currentquantity)/MMb\n",
    "        MMprice[time] = 100*(alpha*np.log(1+np.exp((currentquantity+quantityTrader)/MMb))\n",
    "    trial[i] = np.sum(MMrevenue)\n",
    "xs = np.arange(0,iterations,1)\n",
    "plt.plot(xs, trueValue, xs, MMprice)"
   ]
  },
  {
   "cell_type": "code",
   "execution_count": 25,
   "metadata": {
    "collapsed": true
   },
   "outputs": [],
   "source": [
    " quantityTrader = np.random.exponential(traderAlphaExponential)"
   ]
  },
  {
   "cell_type": "code",
   "execution_count": null,
   "metadata": {
    "collapsed": true
   },
   "outputs": [],
   "source": []
  }
 ],
 "metadata": {
  "kernelspec": {
   "display_name": "Python 2",
   "language": "python",
   "name": "python2"
  },
  "language_info": {
   "codemirror_mode": {
    "name": "ipython",
    "version": 2
   },
   "file_extension": ".py",
   "mimetype": "text/x-python",
   "name": "python",
   "nbconvert_exporter": "python",
   "pygments_lexer": "ipython2",
   "version": "2.7.7"
  }
 },
 "nbformat": 4,
 "nbformat_minor": 0
}
