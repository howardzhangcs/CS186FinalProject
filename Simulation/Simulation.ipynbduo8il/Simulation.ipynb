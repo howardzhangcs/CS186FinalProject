{
 "cells": [
  {
   "cell_type": "code",
   "execution_count": 15,
   "metadata": {
    "collapsed": true
   },
   "outputs": [],
   "source": [
    "%matplotlib inline \n",
    "\n",
    "import numpy as np\n",
    "import scipy\n",
    "import pandas as pd # pandas\n",
    "import matplotlib.pyplot as plt # module for plotting \n",
    "from mpl_toolkits.mplot3d import Axes3D #3D plotting\n",
    "import datetime as dt # module for manipulating dates and times\n",
    "\n",
    "import requests \n",
    "import scipy.stats as stats\n",
    "import statsmodels.api as sm\n",
    "from scipy.stats import binom\n",
    "from __future__ import division\n",
    "import re\n",
    "from StringIO import StringIO\n",
    "from zipfile import ZipFile \n",
    "from pandas import read_csv\n",
    "from urllib import urlopen\n",
    "import urllib2\n",
    "import json\n",
    "\n",
    "import sklearn\n",
    "import sklearn.preprocessing\n",
    "import sklearn.datasets"
   ]
  },
  {
   "cell_type": "code",
   "execution_count": 47,
   "metadata": {
    "collapsed": false
   },
   "outputs": [
    {
     "data": {
      "text/plain": [
       "12.465049547841115"
      ]
     },
     "execution_count": 47,
     "metadata": {},
     "output_type": "execute_result"
    }
   ],
   "source": [
    "#LMSR Implementation Das Interpretation\n",
    "iterations = 501\n",
    "\n",
    "trial = np.zeros(101)\n",
    "for i in np.arange(0,100,1):\n",
    "    # Initialize Market Model\n",
    "    initialValue = np.random.normal(50,12)\n",
    "    if initialValue < 0:\n",
    "        initialValue = 0\n",
    "    if initialValue > 100:\n",
    "        initialValue = 100\n",
    "\n",
    "    # shock values\n",
    "    shock_prob= 1/100\n",
    "    shockSD = 5\n",
    "    # true asset value\n",
    "    trueValue = np.zeros(iterations)\n",
    "    trueValue[0] = initialValue\n",
    "\n",
    "    # Initial Trade Values\n",
    "    traderAlphaExponential = 20\n",
    "    traderVariance = 5\n",
    "    traderValueAll = np.zeros(iterations)\n",
    "    traderValueAll[0] = initialValue\n",
    "    \n",
    "    #initial MM values\n",
    "    MMb = 125\n",
    "    MMquantity = np.zeros(iterations)\n",
    "    MMquantity[0] = 0\n",
    "    MMprice = np.zeros(iterations)\n",
    "    MMprice[0] = 50\n",
    "    MMrevenue = np.zeros(iterations)\n",
    "    MMrevenue[0] = 0\n",
    "    for time in np.arange(1,iterations,1):\n",
    "        if np.random.binomial(1,shock_prob) == 1:\n",
    "            initialValue = initialValue + np.random.normal(0, shockSD)\n",
    "        trueValue[time] = initialValue\n",
    "        traderValue = np.random.normal(initialValue, traderVariance)\n",
    "        traderValueAll[time] = traderValue\n",
    "        if traderValue < 0:\n",
    "            traderValue = 0\n",
    "        if traderValue > 100:\n",
    "            traderValue = 100\n",
    "        quantityTrader = np.random.exponential(traderAlphaExponential)\n",
    "        if traderValue < MMprice[time - 1]:\n",
    "            quantityTrader = -quantityTrader\n",
    "        currentquantity = np.sum(MMquantity)\n",
    "        MMquantity[time] = quantityTrader                                       \n",
    "        MMrevenue[time] = 100*MMb*(np.log(1+np.exp((currentquantity+quantityTrader)/MMb))- \\\n",
    "                                   np.log(1+np.exp(currentquantity/MMb)))\n",
    "        normalizedquantity = (quantityTrader + currentquantity)/MMb\n",
    "        MMprice[time] = 100*(np.exp(normalizedquantity)/(1+np.exp(normalizedquantity)))\n",
    "    trial[i] = np.sum(MMrevenue)\n",
    "xs = np.arange(0,iterations,1)\n",
    "quantityTrader"
   ]
  },
  {
   "cell_type": "code",
   "execution_count": 48,
   "metadata": {
    "collapsed": false
   },
   "outputs": [
    {
     "name": "stdout",
     "output_type": "stream",
     "text": [
      "-450.929351423\n",
      "4092.96226335\n"
     ]
    }
   ],
   "source": [
    "print(np.average(trial))\n",
    "print(np.std(trial))\n"
   ]
  },
  {
   "cell_type": "code",
   "execution_count": 34,
   "metadata": {
    "collapsed": false
   },
   "outputs": [
    {
     "ename": "ZeroDivisionError",
     "evalue": "float division by zero",
     "output_type": "error",
     "traceback": [
      "\u001b[1;31m---------------------------------------------------------------------------\u001b[0m",
      "\u001b[1;31mZeroDivisionError\u001b[0m                         Traceback (most recent call last)",
      "\u001b[1;32m<ipython-input-34-dbbd905cf560>\u001b[0m in \u001b[0;36m<module>\u001b[1;34m()\u001b[0m\n\u001b[0;32m     42\u001b[0m         \u001b[1;31m# will trade till the instantaneous price is equal to trader's value\u001b[0m\u001b[1;33m\u001b[0m\u001b[1;33m\u001b[0m\u001b[0m\n\u001b[0;32m     43\u001b[0m         \u001b[0mcurrentquantity\u001b[0m \u001b[1;33m=\u001b[0m \u001b[0mnp\u001b[0m\u001b[1;33m.\u001b[0m\u001b[0msum\u001b[0m\u001b[1;33m(\u001b[0m\u001b[0mMMquantity\u001b[0m\u001b[1;33m)\u001b[0m\u001b[1;33m\u001b[0m\u001b[0m\n\u001b[1;32m---> 44\u001b[1;33m         \u001b[0mquantityTrader\u001b[0m \u001b[1;33m=\u001b[0m \u001b[0mnp\u001b[0m\u001b[1;33m.\u001b[0m\u001b[0mlog\u001b[0m\u001b[1;33m(\u001b[0m\u001b[1;33m(\u001b[0m\u001b[0mtraderValue\u001b[0m\u001b[1;33m/\u001b[0m\u001b[1;36m100\u001b[0m\u001b[1;33m)\u001b[0m\u001b[1;33m/\u001b[0m\u001b[1;33m(\u001b[0m\u001b[1;36m1\u001b[0m\u001b[1;33m-\u001b[0m\u001b[0mtraderValue\u001b[0m\u001b[1;33m/\u001b[0m\u001b[1;36m100\u001b[0m\u001b[1;33m)\u001b[0m\u001b[1;33m)\u001b[0m\u001b[1;33m*\u001b[0m\u001b[0mMMb\u001b[0m\u001b[1;33m-\u001b[0m\u001b[0mcurrentquantity\u001b[0m\u001b[1;33m\u001b[0m\u001b[0m\n\u001b[0m\u001b[0;32m     45\u001b[0m         \u001b[0mMMquantity\u001b[0m\u001b[1;33m[\u001b[0m\u001b[0mtime\u001b[0m\u001b[1;33m]\u001b[0m \u001b[1;33m=\u001b[0m \u001b[0mquantityTrader\u001b[0m\u001b[1;33m\u001b[0m\u001b[0m\n\u001b[0;32m     46\u001b[0m         \u001b[0mMMrevenue\u001b[0m\u001b[1;33m[\u001b[0m\u001b[0mtime\u001b[0m\u001b[1;33m]\u001b[0m \u001b[1;33m=\u001b[0m \u001b[1;36m100\u001b[0m\u001b[1;33m*\u001b[0m\u001b[0mMMb\u001b[0m\u001b[1;33m*\u001b[0m\u001b[1;33m(\u001b[0m\u001b[0mnp\u001b[0m\u001b[1;33m.\u001b[0m\u001b[0mlog\u001b[0m\u001b[1;33m(\u001b[0m\u001b[1;36m1\u001b[0m\u001b[1;33m+\u001b[0m\u001b[0mnp\u001b[0m\u001b[1;33m.\u001b[0m\u001b[0mexp\u001b[0m\u001b[1;33m(\u001b[0m\u001b[1;33m(\u001b[0m\u001b[0mcurrentquantity\u001b[0m\u001b[1;33m+\u001b[0m\u001b[0mquantityTrader\u001b[0m\u001b[1;33m)\u001b[0m\u001b[1;33m/\u001b[0m\u001b[0mMMb\u001b[0m\u001b[1;33m)\u001b[0m\u001b[1;33m)\u001b[0m\u001b[1;33m-\u001b[0m                                    \u001b[0mnp\u001b[0m\u001b[1;33m.\u001b[0m\u001b[0mlog\u001b[0m\u001b[1;33m(\u001b[0m\u001b[1;36m1\u001b[0m\u001b[1;33m+\u001b[0m\u001b[0mnp\u001b[0m\u001b[1;33m.\u001b[0m\u001b[0mexp\u001b[0m\u001b[1;33m(\u001b[0m\u001b[0mcurrentquantity\u001b[0m\u001b[1;33m/\u001b[0m\u001b[0mMMb\u001b[0m\u001b[1;33m)\u001b[0m\u001b[1;33m)\u001b[0m\u001b[1;33m)\u001b[0m\u001b[1;33m\u001b[0m\u001b[0m\n",
      "\u001b[1;31mZeroDivisionError\u001b[0m: float division by zero"
     ]
    }
   ],
   "source": [
    "# LMSR Implementation Textbook Interpretation\n",
    "trial = np.zeros(101)\n",
    "for i in np.arange(0,100,1):\n",
    "    # Initialize Market Model\n",
    "    initialValue = np.random.normal(50,12)\n",
    "    if initialValue < 0:\n",
    "        initialValue = 0\n",
    "    if initialValue > 100:\n",
    "        initialValue = 100\n",
    "\n",
    "    # shock values\n",
    "    shock_prob= 1/100\n",
    "    shockSD = 5\n",
    "    # true asset value\n",
    "    trueValue = np.zeros(iterations)\n",
    "    trueValue[0] = initialValue\n",
    "\n",
    "    # Initial Trade Values\n",
    "    traderAlphaExponential = 0.05\n",
    "    traderVariance = 5\n",
    "    traderValueAll = np.zeros(iterations)\n",
    "    traderValueAll[0] = initialValue\n",
    "    \n",
    "    #initial MM values\n",
    "    MMb = 125\n",
    "    MMquantity = np.zeros(iterations)\n",
    "    MMquantity[0] = 0\n",
    "    MMprice = np.zeros(iterations)\n",
    "    MMprice[0] = 50\n",
    "    MMrevenue = np.zeros(iterations)\n",
    "    MMrevenue[0] = 0\n",
    "    for time in np.arange(1,iterations,1):\n",
    "        if np.random.binomial(1,shock_prob) == 1:\n",
    "            initialValue = initialValue + np.random.normal(0, shockSD)\n",
    "        trueValue[time] = initialValue\n",
    "        traderValue = np.random.normal(initialValue, traderVariance)\n",
    "        traderValueAll[time] = traderValue\n",
    "        if traderValue < 0:\n",
    "            traderValue = 0\n",
    "        if traderValue > 100:\n",
    "            traderValue = 100\n",
    "        # will trade till the instantaneous price is equal to trader's value \n",
    "        currentquantity = np.sum(MMquantity) \n",
    "        quantityTrader = np.log((traderValue/100)/(1-traderValue/100))*MMb-currentquantity\n",
    "        MMquantity[time] = quantityTrader\n",
    "        MMrevenue[time] = 100*MMb*(np.log(1+np.exp((currentquantity+quantityTrader)/MMb))- \\\n",
    "                                   np.log(1+np.exp(currentquantity/MMb)))\n",
    "        normalizedquantity = (quantityTrader + currentquantity)/MMb\n",
    "        MMprice[time] = 100*(np.exp(normalizedquantity)/(1+np.exp(normalizedquantity)))\n",
    "    trial[i] = np.sum(MMrevenue)\n",
    "xs = np.arange(0,iterations,1)\n",
    "plt.plot(xs,trueValue, xs, MMprice)\n",
    "\n"
   ]
  },
  {
   "cell_type": "code",
   "execution_count": 33,
   "metadata": {
    "collapsed": false
   },
   "outputs": [
    {
     "name": "stdout",
     "output_type": "stream",
     "text": [
      "442.705590185\n",
      "4782.49046205\n"
     ]
    }
   ],
   "source": [
    "print(np.average(trial))\n",
    "print(np.std(trial))\n"
   ]
  },
  {
   "cell_type": "code",
   "execution_count": null,
   "metadata": {
    "collapsed": true
   },
   "outputs": [],
   "source": [
    "#LS LMSR Implementation Textbook Interpretation\n",
    "iterations = 501\n",
    "trueValue = np.zeros(iterations)\n",
    "trueValue[0] = initialValue\n",
    "\n",
    "# Initial Trade Values\n",
    "traderAlphaExponential = 0.05\n",
    "traderVariance = 5\n",
    "traderValueAll = np.zeros(iterations)\n",
    "traderValueAll[0] = initialValue\n",
    "\n",
    "#initial MM values\n",
    "MMb = 125\n",
    "MMquantity = np.zeros(iterations)\n",
    "MMquantity[0] = 0\n",
    "MMprice = np.zeros(iterations)\n",
    "MMprice[0] = 50\n",
    "MMrevenue = np.zeros(iterations)\n",
    "MMrevenue[0] = 0\n",
    "\n",
    "for time in np.arange(1,iterations,1):\n",
    "    if np.random.binomial(1,shock_prob) == 1:\n",
    "        initialValue = initialValue + np.random.normal(0, shockSD)\n",
    "    trueValue[time] = initialValue\n",
    "    traderValue = np.random.normal(initialValue, traderVariance)\n",
    "    traderValueAll[time] = traderValue\n",
    "    if traderValue < 0:\n",
    "        traderValue = 0\n",
    "    if traderValue > 100:\n",
    "        traderValue = 100\n",
    "    quantityTrader = np.random.exponential(1/traderAlphaExponential)\n",
    "    if traderValue < MMprice[time - 1]:\n",
    "        quantityTrader = -quantityTrader\n",
    "    currentquantity = np.sum(MMquantity)\n",
    "    MMb = \n",
    "    MMquantity[time] = quantityTrader                                       \n",
    "    MMrevenue[time] = 100*MMb*(np.log(1+np.exp((currentquantity+quantityTrader)/MMb))- \\\n",
    "                               np.log(1+np.exp(currentquantity/MMb)))\n",
    "    normalizedquantity = (quantityTrader + currentquantity)/MMb\n",
    "    MMprice[time] = 100*(np.exp(normalizedquantity)/(1+np.exp(normalizedquantity)))\n",
    "\n",
    "xs = np.arange(0,iterations,1)\n",
    "plt.plot(xs,trueValue, xs, MMprice)"
   ]
  },
  {
   "cell_type": "code",
   "execution_count": 25,
   "metadata": {
    "collapsed": true
   },
   "outputs": [],
   "source": [
    " quantityTrader = np.random.exponential(traderAlphaExponential)"
   ]
  },
  {
   "cell_type": "code",
   "execution_count": null,
   "metadata": {
    "collapsed": true
   },
   "outputs": [],
   "source": []
  }
 ],
 "metadata": {
  "kernelspec": {
   "display_name": "Python 2",
   "language": "python",
   "name": "python2"
  },
  "language_info": {
   "codemirror_mode": {
    "name": "ipython",
    "version": 2
   },
   "file_extension": ".py",
   "mimetype": "text/x-python",
   "name": "python",
   "nbconvert_exporter": "python",
   "pygments_lexer": "ipython2",
   "version": "2.7.7"
  }
 },
 "nbformat": 4,
 "nbformat_minor": 0
}
