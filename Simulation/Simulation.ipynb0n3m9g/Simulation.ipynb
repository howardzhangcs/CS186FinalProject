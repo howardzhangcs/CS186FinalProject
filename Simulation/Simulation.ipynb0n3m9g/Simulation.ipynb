{
 "cells": [
  {
   "cell_type": "code",
   "execution_count": 1,
   "metadata": {
    "collapsed": true
   },
   "outputs": [],
   "source": [
    "%matplotlib inline \n",
    "\n",
    "import numpy as np\n",
    "import scipy\n",
    "import pandas as pd # pandas\n",
    "import matplotlib.pyplot as plt # module for plotting \n",
    "from mpl_toolkits.mplot3d import Axes3D #3D plotting\n",
    "import datetime as dt # module for manipulating dates and times\n",
    "\n",
    "import requests \n",
    "import scipy.stats as stats\n",
    "import statsmodels.api as sm\n",
    "from scipy.stats import binom\n",
    "from __future__ import division\n",
    "import re\n",
    "from StringIO import StringIO\n",
    "from zipfile import ZipFile \n",
    "from pandas import read_csv\n",
    "from urllib import urlopen\n",
    "import urllib2\n",
    "import json\n",
    "\n",
    "import sklearn\n",
    "import sklearn.preprocessing\n",
    "import sklearn.datasets"
   ]
  },
  {
   "cell_type": "code",
   "execution_count": 6,
   "metadata": {
    "collapsed": false
   },
   "outputs": [
    {
     "data": {
      "text/plain": [
       "[<matplotlib.lines.Line2D at 0x17cf5a20>,\n",
       " <matplotlib.lines.Line2D at 0x17fca240>]"
      ]
     },
     "execution_count": 6,
     "metadata": {},
     "output_type": "execute_result"
    },
    {
     "data": {
      "image/png": "[encoded data removed]",
      "text/plain": [
       "<matplotlib.figure.Figure at 0x17ad3828>"
      ]
     },
     "metadata": {},
     "output_type": "display_data"
    }
   ],
   "source": [
    "# LMSR Implementation Das Interpretation\n",
    "# according to http://www.cse.wustl.edu/~mithunchakraborty/papers/AAAI15poster_final.pdf\n",
    "iterations = 200\n",
    "trial = np.zeros(1000)\n",
    "\n",
    "for i in np.arange(0,100,1):\n",
    "    # Initialize Market Model\n",
    "    initialValue = np.random.normal(50,12)\n",
    "    if initialValue < 0:\n",
    "        initialValue = 0\n",
    "    if initialValue > 100:\n",
    "        initialValue = 100\n",
    "\n",
    "    # shock values\n",
    "    shock_prob= 1/100\n",
    "    shockSD = 5\n",
    "    # true asset value\n",
    "    trueValue = np.zeros(iterations)\n",
    "    trueValue[0] = initialValue\n",
    "\n",
    "    # Initial Trade Values\n",
    "    traderAlphaExponential = 20\n",
    "    traderSD = 5\n",
    "    traderValueAll = np.zeros(iterations)\n",
    "    traderValueAll[0] = initialValue\n",
    "    \n",
    "    #initial MM values\n",
    "    MMb = 125\n",
    "    \n",
    "    #outcome 1\n",
    "    MMquantity_1 = np.zeros(iterations)\n",
    "    MMquantity_1[0] = 0\n",
    "    MMprice_1 = np.zeros(iterations)\n",
    "    MMprice_1[0] = 50\n",
    "    \n",
    "    #outcome 2\n",
    "    MMquantity_2 = np.zeros(iterations)\n",
    "    MMquantity_2[0] = 0\n",
    "    MMprice_2 = np.zeros(iterations)\n",
    "    MMprice_2[0] = 50\n",
    "    \n",
    "    #revenue\n",
    "    MMpayment = np.zeros(iterations)\n",
    "    MMpayment[0] = 0\n",
    "\n",
    "    for time in np.arange(1,iterations,1):\n",
    "        if np.random.binomial(1,shock_prob) == 1:\n",
    "            initialValue = initialValue + np.random.normal(0, shockSD)\n",
    "        trueValue[time] = initialValue\n",
    "        traderValue = np.random.normal(initialValue, traderSD)\n",
    "        traderValueAll[time] = traderValue\n",
    "        # normalize trader value\n",
    "        if traderValue <= 0:\n",
    "            traderValue = 0.01\n",
    "        if traderValue > 100:\n",
    "            traderValue = 99.99\n",
    "        quantityTrader = np.random.exponential(traderAlphaExponential)\n",
    "        currentquantity_1 = np.sum(MMquantity_1)\n",
    "        currentquantity_2 = np.sum(MMquantity_2)\n",
    "        if traderValue > MMprice_1[time - 1]:\n",
    "            quantityEquivalentprice = MMb*(np.log((traderValue/100*(np.exp(currentquantity_2/MMb))) / \\\n",
    "                                                  (1-traderValue/100)))-currentquantity_1\n",
    "            quantityTrader_1 = min(quantityTrader, quantityEquivalentprice)\n",
    "            MMquantity_1[time] = quantityTrader_1 \n",
    "            newquantity_1 = quantityTrader_1 + currentquantity_1\n",
    "            MMpayment[time] = 100*MMb*(np.log(np.exp(newquantity_1/MMb)+np.exp(currentquantity_2/MMb))- \\\n",
    "                                   np.log(np.exp(currentquantity_1/MMb)+np.exp(currentquantity_2/MMb)))\n",
    "            MMprice_1[time] = 100*(np.exp(newquantity_1/MMb)/(np.exp(newquantity_1/MMb)+np.exp(currentquantity_2/MMb)))\n",
    "            MMprice_2[time] = 100*(np.exp(currentquantity_2/MMb)/(np.exp(newquantity_1/MMb)+np.exp(currentquantity_2/MMb)))\n",
    "        else:\n",
    "            quantityEquivalentprice = MMb*(np.log((traderValue/100*(np.exp(currentquantity_1/MMb))) / \\\n",
    "                                                  (1-traderValue/100)))-currentquantity_2\n",
    "            quantityTrader_2 = min(quantityTrader, quantityEquivalentprice)\n",
    "            MMquantity_2[time] = quantityTrader_2\n",
    "            newquantity_2 = quantityTrader_2 + currentquantity_2\n",
    "            MMpayment[time] = 100*MMb*(np.exp(currentquantity_1/MMb)+np.log(np.exp(newquantity_2/MMb))- \\\n",
    "                                   np.log(np.exp(currentquantity_1/MMb)+np.exp(currentquantity_2/MMb)))\n",
    "            MMprice_1[time] = 100*(np.exp(newquantity_2/MMb)/(np.exp(currentquantity_1/MMb)+np.exp(newquantity_2/MMb)))\n",
    "            MMprice_2[time] = 100*(np.exp(currentquantity_1/MMb)/(np.exp(currentquantity_1/MMb)+np.exp(newquantity_2/MMb)))\n",
    "    trial_1[i] = np.sum(MMpayment_1)\n",
    "    trial_2[i] = np.sum(MMpayment_2)\n",
    "xs = np.arange(0,iterations,1)\n",
    "plt.plot(xs, trueValue, xs, MMprice_1)"
   ]
  },
  {
   "cell_type": "code",
   "execution_count": 7,
   "metadata": {
    "collapsed": false
   },
   "outputs": [
    {
     "name": "stdout",
     "output_type": "stream",
     "text": [
      "55746238.0154\n",
      "584890661.527\n",
      "-5675519.78855\n"
     ]
    },
    {
     "data": {
      "image/png": "[encoded data removed]",
      "text/plain": [
       "<matplotlib.figure.Figure at 0x177c8a58>"
      ]
     },
     "metadata": {},
     "output_type": "display_data"
    }
   ],
   "source": [
    "# Revenue Results \n",
    "# outcome 1 occurs\n",
    "print(np.average(trial_1))\n",
    "print(np.std(trial))\n",
    "print(np.min(trial))\n",
    "plt.hist(trial, normed=1)\n",
    "plt.show()\n",
    "\n",
    "#outcome 2 occurs"
   ]
  },
  {
   "cell_type": "code",
   "execution_count": 22,
   "metadata": {
    "collapsed": false
   },
   "outputs": [
    {
     "data": {
      "text/plain": [
       "[<matplotlib.lines.Line2D at 0x196e6cf8>,\n",
       " <matplotlib.lines.Line2D at 0x196e6f28>]"
      ]
     },
     "execution_count": 22,
     "metadata": {},
     "output_type": "execute_result"
    },
    {
     "data": {
      "image/png": "[encoded data removed]",
      "text/plain": [
       "<matplotlib.figure.Figure at 0x19315da0>"
      ]
     },
     "metadata": {},
     "output_type": "display_data"
    }
   ],
   "source": [
    "# LMSR Implementation Textbook Interpretation\n",
    "iterations = 200\n",
    "trial = np.zeros(1000)\n",
    "\n",
    "for i in np.arange(0,100,1):\n",
    "    # Initialize Market Model\n",
    "    initialValue = np.random.normal(50,12)\n",
    "    if initialValue < 0:\n",
    "        initialValue = 0\n",
    "    if initialValue > 100:\n",
    "        initialValue = 100\n",
    "\n",
    "    # shock values\n",
    "    shock_prob= 1/100\n",
    "    shockSD = 5\n",
    "    # true asset value\n",
    "    trueValue = np.zeros(iterations)\n",
    "    trueValue[0] = initialValue\n",
    "\n",
    "    # Initial Trade Values\n",
    "    traderAlphaExponential = 20\n",
    "    traderSD = 5\n",
    "    traderValueAll = np.zeros(iterations)\n",
    "    traderValueAll[0] = initialValue\n",
    "    \n",
    "    #initial MM values\n",
    "    MMb = 125\n",
    "    MMquantity = np.zeros(iterations)\n",
    "    MMquantity[0] = 0\n",
    "    MMprice = np.zeros(iterations)\n",
    "    MMprice[0] = 50\n",
    "    MMrevenue = np.zeros(iterations)\n",
    "    MMrevenue[0] = 0\n",
    "    \n",
    "    for time in np.arange(1,iterations,1):\n",
    "        if np.random.binomial(1,shock_prob) == 1:\n",
    "            initialValue = initialValue + np.random.normal(0, shockSD)\n",
    "        trueValue[time] = initialValue\n",
    "        traderValue = np.random.normal(initialValue, traderSD)\n",
    "        traderValueAll[time] = traderValue\n",
    "        if traderValue <= 0:\n",
    "            traderValue = 0.01\n",
    "        if traderValue >= 100:\n",
    "            traderValue = 99.99   \n",
    "        # will trade till the instantaneous price is equal to trader's value \n",
    "        currentquantity = np.sum(MMquantity) \n",
    "        quantityTrader = (np.log((traderValue/100)/(1-(traderValue/100)))*MMb-currentquantity)\n",
    "        MMquantity[time] = quantityTrader\n",
    "        newquantity = quantityTrader + currentquantity\n",
    "        MMrevenue[time] = 100*MMb*(np.log(1+np.exp(newquantity/MMb))- \\\n",
    "                                   np.log(1+np.exp(currentquantity/MMb)))\n",
    "        \n",
    "        MMprice[time] = 100*(np.exp(newquantity/MMb)/(1+np.exp(newquantity/MMb)))\n",
    "    trial[i] = np.sum(MMrevenue)\n",
    "xs = np.arange(0,iterations,1)\n",
    "plt.plot(xs, trueValue, xs, MMprice)\n"
   ]
  },
  {
   "cell_type": "code",
   "execution_count": 19,
   "metadata": {
    "collapsed": false
   },
   "outputs": [
    {
     "name": "stdout",
     "output_type": "stream",
     "text": [
      "73.9776054806\n",
      "1369.77281044\n",
      "-8663.0896945\n"
     ]
    },
    {
     "data": {
      "image/png": "[encoded data removed]",
      "text/plain": [
       "<matplotlib.figure.Figure at 0x18ad3588>"
      ]
     },
     "metadata": {},
     "output_type": "display_data"
    }
   ],
   "source": [
    "print(np.average(trial))\n",
    "print(np.std(trial))\n",
    "print(np.min(trial))\n",
    "plt.hist(trial, normed=1)\n",
    "plt.show()"
   ]
  },
  {
   "cell_type": "code",
   "execution_count": null,
   "metadata": {
    "collapsed": false
   },
   "outputs": [],
   "source": [
    "#Liquidity Sensitive LMSR Implementation Das Interpretation\n",
    "\n",
    "iterations = 201\n",
    "trial = np.zeros(100)\n",
    "\n",
    "for i in np.arange(0,100,1):\n",
    "    # Initialize Market Model\n",
    "    initialValue = np.random.normal(50,12)\n",
    "    if initialValue < 0:\n",
    "        initialValue = 0\n",
    "    if initialValue > 100:\n",
    "        initialValue = 100\n",
    "\n",
    "    # shock values\n",
    "    shock_prob= 1/100\n",
    "    shockSD = 5\n",
    "    # true asset value\n",
    "    trueValue = np.zeros(iterations)\n",
    "    trueValue[0] = initialValue\n",
    "\n",
    "    # Initial Trade Values\n",
    "    traderAlphaExponential = 20\n",
    "    traderSD = 5\n",
    "    traderValueAll = np.zeros(iterations)\n",
    "    traderValueAll[0] = initialValue\n",
    "    \n",
    "    #initial MM values\n",
    "    MMquantity = np.zeros(iterations)\n",
    "    #this is the initial subsidy\n",
    "    MMquantity[0] = 10\n",
    "    MMprice = np.zeros(iterations)\n",
    "    MMprice[0] = 50\n",
    "    MMrevenue = np.zeros(iterations)\n",
    "    MMrevenue[0] = 0\n",
    "    alpha = 0.05\n",
    "    \n",
    "    for time in np.arange(1,iterations,1):\n",
    "        if np.random.binomial(1,shock_prob) == 1:\n",
    "            initialValue = initialValue + np.random.normal(0, shockSD)\n",
    "        trueValue[time] = initialValue\n",
    "        traderValue = np.random.normal(initialValue, traderSD)\n",
    "        traderValueAll[time] = traderValue\n",
    "        if traderValue <= 0:\n",
    "            traderValue = 0.01\n",
    "        if traderValue > 100:\n",
    "            traderValue = 99.99\n",
    "        quantityTrader = np.random.exponential(traderAlphaExponential)\n",
    "        if traderValue > MMprice[time - 1]:\n",
    "            quantityTrader = -quantityTrader\n",
    "        currentquantity = np.sum(MMquantity)\n",
    "        totalquantity = np.sum(np.abs(MMquantity))\n",
    "        MMb = alpha*totalquantity\n",
    "        MMquantity[time] = quantityTrader     \n",
    "        newquantity = quantityTrader + currentquantity\n",
    "        MMrevenue[time] = 100*MMb*(np.log(1+np.exp(newquantity/MMb))- \\\n",
    "                                   np.log(1+np.exp(currentquantity/MMb)))\n",
    "        # this equation for price may not be exactly correct - maybe we need to think of this as two stocks and \n",
    "        # not allow short selling, is this equivalent to a single stock with short selling?\n",
    "        MMprice[time] = 100*(alpha*np.log(1+np.exp(newquantity/MMb)))\n",
    "    trial[i] = np.sum(MMrevenue)\n",
    "xs = np.arange(0,iterations,1)\n",
    "plt.plot(xs, trueValue, xs, MMprice)"
   ]
  },
  {
   "cell_type": "code",
   "execution_count": null,
   "metadata": {
    "collapsed": false
   },
   "outputs": [],
   "source": [
    "print(np.average(trial))\n",
    "print(np.std(trial))\n",
    "print(np.min(trial))\n",
    "plt.hist(trial)"
   ]
  },
  {
   "cell_type": "code",
   "execution_count": null,
   "metadata": {
    "collapsed": true
   },
   "outputs": [],
   "source": [
    "''' \n",
    "# BMM implementation\n",
    "iterations = 200\n",
    "trial = np.zeros(1000)\n",
    "\n",
    "for i in np.arange(0,100,1):\n",
    "    # Initialize Market Model\n",
    "    initialValue = np.random.normal(50,12)\n",
    "    if initialValue < 0:\n",
    "        initialValue = 0\n",
    "    if initialValue > 100:\n",
    "        initialValue = 100\n",
    "\n",
    "    # shock values\n",
    "    shock_prob= 1/100\n",
    "    shockSD = 5\n",
    "    # true asset value\n",
    "    trueValue = np.zeros(iterations)\n",
    "    trueValue[0] = initialValue\n",
    "\n",
    "    # Initial Trade Values\n",
    "    traderAlphaExponential = 20\n",
    "    traderSD = 5\n",
    "    traderValueAll = np.zeros(iterations)\n",
    "    traderValueAll[0] = initialValue\n",
    "    \n",
    "    #initial MM values\n",
    "    MMquantity = np.zeros(iterations)\n",
    "    MMquantity[0] = 0\n",
    "    MMprice = np.zeros(iterations)\n",
    "    MMprice[0] = initialvalue\n",
    "    MMrevenue = np.zeros(iterations)\n",
    "    MMrevenue[0] = 0\n",
    "    MMwindow = 5\n",
    "    MMexpectedvalue = np.zeros(iterations)\n",
    "    MMexpectedvalue[0] = initialvalue\n",
    "    MMsdvalue = np.zeros(iterations)\n",
    "    MMsdvalue[0] = 0\n",
    "    MMsdvalue[1]\n",
    "    for time in np.arange(1,iterations,1):\n",
    "        if np.random.binomial(1,shock_prob) == 1:\n",
    "            initialValue = initialValue + np.random.normal(0, shockSD)\n",
    "        trueValue[time] = initialValue\n",
    "        traderValue = np.random.normal(initialValue, traderSD)\n",
    "        traderValueAll[time] = traderValue\n",
    "        if traderValue <= 0:\n",
    "            traderValue = 0.01\n",
    "        if traderValue > 100:\n",
    "            traderValue = 99.99\n",
    "        quantityTrader = np.random.exponential(traderAlphaExponential)\n",
    "        if traderValue > MMprice[time - 1]:\n",
    "            \n",
    "            A = \n",
    "            B = \n",
    "            C = \n",
    "'''"
   ]
  },
  {
   "cell_type": "code",
   "execution_count": null,
   "metadata": {
    "collapsed": true
   },
   "outputs": [],
   "source": []
  },
  {
   "cell_type": "code",
   "execution_count": null,
   "metadata": {
    "collapsed": true
   },
   "outputs": [],
   "source": []
  }
 ],
 "metadata": {
  "kernelspec": {
   "display_name": "Python 2",
   "language": "python",
   "name": "python2"
  }
 },
 "nbformat": 4,
 "nbformat_minor": 0
}
