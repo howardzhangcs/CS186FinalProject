{
 "cells": [
  {
   "cell_type": "code",
   "execution_count": 1,
   "metadata": {
    "collapsed": true
   },
   "outputs": [],
   "source": [
    "%matplotlib inline \n",
    "\n",
    "import numpy as np\n",
    "import scipy\n",
    "import pandas as pd # pandas\n",
    "import matplotlib.pyplot as plt # module for plotting \n",
    "from mpl_toolkits.mplot3d import Axes3D #3D plotting\n",
    "import datetime as dt # module for manipulating dates and times\n",
    "\n",
    "import requests \n",
    "import scipy.stats as stats\n",
    "import statsmodels.api as sm\n",
    "from scipy.stats import binom\n",
    "from __future__ import division\n",
    "import re\n",
    "from StringIO import StringIO\n",
    "from zipfile import ZipFile \n",
    "from pandas import read_csv\n",
    "from urllib import urlopen\n",
    "import urllib2\n",
    "import json\n",
    "\n",
    "import sklearn\n",
    "import sklearn.preprocessing\n",
    "import sklearn.datasets"
   ]
  },
  {
   "cell_type": "code",
   "execution_count": 11,
   "metadata": {
    "collapsed": false
   },
   "outputs": [
    {
     "data": {
      "text/plain": [
       "[<matplotlib.lines.Line2D at 0x18ab6e80>,\n",
       " <matplotlib.lines.Line2D at 0x18ab6f28>]"
      ]
     },
     "execution_count": 11,
     "metadata": {},
     "output_type": "execute_result"
    },
    {
     "data": {
      "image/png": "[encoded data removed]",
      "text/plain": [
       "<matplotlib.figure.Figure at 0x1771fa58>"
      ]
     },
     "metadata": {},
     "output_type": "display_data"
    }
   ],
   "source": [
    "# LMSR Implementation Das Interpretation\n",
    "\n",
    "iterations = 201\n",
    "trial = np.zeros(101)\n",
    "\n",
    "for i in np.arange(0,100,1):\n",
    "    # Initialize Market Model\n",
    "    initialValue = np.random.normal(50,12)\n",
    "    if initialValue < 0:\n",
    "        initialValue = 0\n",
    "    if initialValue > 100:\n",
    "        initialValue = 100\n",
    "\n",
    "    # shock values\n",
    "    shock_prob= 1/100\n",
    "    shockSD = 5\n",
    "    # true asset value\n",
    "    trueValue = np.zeros(iterations)\n",
    "    trueValue[0] = initialValue\n",
    "\n",
    "    # Initial Trade Values\n",
    "    traderAlphaExponential = 20\n",
    "    traderSD = 5\n",
    "    traderValueAll = np.zeros(iterations)\n",
    "    traderValueAll[0] = initialValue\n",
    "    \n",
    "    #initial MM values\n",
    "    MMb = 125\n",
    "    MMquantity = np.zeros(iterations)\n",
    "    MMquantity[0] = 0\n",
    "    MMprice = np.zeros(iterations)\n",
    "    MMprice[0] = 50\n",
    "    MMrevenue = np.zeros(iterations)\n",
    "    MMrevenue[0] = 0\n",
    "    for time in np.arange(1,iterations,1):\n",
    "        if np.random.binomial(1,shock_prob) == 1:\n",
    "            initialValue = initialValue + np.random.normal(0, shockSD)\n",
    "        trueValue[time] = initialValue\n",
    "        traderValue = np.random.normal(initialValue, traderSD)\n",
    "        traderValueAll[time] = traderValue\n",
    "        if traderValue <= 0:\n",
    "            traderValue = 0.01\n",
    "        if traderValue > 100:\n",
    "            traderValue = 99.99\n",
    "        quantityTrader = np.random.exponential(traderAlphaExponential)\n",
    "        if traderValue < MMprice[time - 1]:\n",
    "            quantityTrader = -quantityTrader\n",
    "        currentquantity = np.sum(MMquantity)\n",
    "        MMquantity[time] = quantityTrader                                       \n",
    "        MMrevenue[time] = 100*MMb*(np.log(1+np.exp((currentquantity+quantityTrader)/MMb))- \\\n",
    "                                   np.log(1+np.exp(currentquantity/MMb)))\n",
    "        normalizedquantity = (quantityTrader + currentquantity)/MMb\n",
    "\n",
    "        MMprice[time] = 100*(np.exp(normalizedquantity)/(1+np.exp(normalizedquantity)))\n",
    "    trial[i] = np.sum(MMrevenue)\n",
    "xs = np.arange(0,iterations,1)\n",
    "plt.plot(xs, trueValue, xs, MMprice)"
   ]
  },
  {
   "cell_type": "code",
   "execution_count": 12,
   "metadata": {
    "collapsed": false
   },
   "outputs": [
    {
     "name": "stdout",
     "output_type": "stream",
     "text": [
      "279.529183778\n",
      "3860.54452819\n",
      "-6785.19871068\n"
     ]
    },
    {
     "data": {
      "text/plain": [
       "array([-5151.52719656,  4727.3644262 ,  -920.64163675,   726.4723665 ,\n",
       "        4765.49013452,   360.52527774,   755.84667339, -6397.68823269,\n",
       "       -5127.03806405, -3886.50985055, -2810.04614654, -2251.47732736,\n",
       "        1696.18223856,  2781.36604161, -4662.87313207,  2039.53749756,\n",
       "       -5146.97489997,   439.10361516,  7342.85838069,   837.75507326,\n",
       "        3998.12731835,   352.47174493,  8026.12641383, -4365.25305673,\n",
       "       -4332.80597321, -2614.67370245,  3671.80272346,  2068.87244908,\n",
       "        2231.31181469,  5756.13484421, -5178.80874098,  2864.27318012,\n",
       "       -4765.56688077,  6671.64041139,  8312.33644002, -4978.46064528,\n",
       "        7487.85412719, -5994.61168354, -3624.14314289, -2643.64640727,\n",
       "        5799.0518258 ,  -295.65079817,  8048.24349145, -1409.95502663,\n",
       "        1815.43319456,   202.16936318, -2370.24323889,  2652.55681425,\n",
       "        3054.40959781,  3089.66369399,  1401.09506956,  2496.68232576,\n",
       "       -3513.78842851, -2535.53640468,  -775.2204575 ,  3637.10751402,\n",
       "       -5348.82551267,  1525.50013549,   334.7180592 ,  3380.76905388,\n",
       "        2625.05207666,  4240.39468779,  2071.83136352,  2013.24168898,\n",
       "       -4084.71160264, -6785.19871068, -4037.23576879,  5760.17778256,\n",
       "        7973.22725764,  1611.64258899,  1946.42038689,   391.18638401,\n",
       "       -1891.44441332,   318.60764579,  -253.3037091 ,  2761.56201662,\n",
       "       -4929.08977488,  7862.96007939,  1040.27148879,  3582.38963258,\n",
       "        -121.47535766, -6333.49770558, -3491.29026383,  1690.82016611,\n",
       "        2289.12475293, -5565.77705722, -2603.48535666, -3791.86401152,\n",
       "        -497.84213742,  3518.34556127, -3539.61613998, -1020.86295367,\n",
       "       -3303.95119759,  3267.80741232,  3988.03234116,  -893.77582207,\n",
       "         883.59278796, -3268.38660253,  1473.20769993,  -913.52639986,\n",
       "           0.        ])"
      ]
     },
     "execution_count": 12,
     "metadata": {},
     "output_type": "execute_result"
    },
    {
     "data": {
      "image/png": "[encoded data removed]",
      "text/plain": [
       "<matplotlib.figure.Figure at 0x182d2dd8>"
      ]
     },
     "metadata": {},
     "output_type": "display_data"
    }
   ],
   "source": [
    "# Revenue Results \n",
    "print(np.average(trial))\n",
    "print(np.std(trial))\n",
    "print(np.min(trial))\n",
    "plt.hist(trial)"
   ]
  },
  {
   "cell_type": "code",
   "execution_count": 4,
   "metadata": {
    "collapsed": false
   },
   "outputs": [
    {
     "data": {
      "text/plain": [
       "[<matplotlib.lines.Line2D at 0x17efa4e0>,\n",
       " <matplotlib.lines.Line2D at 0x17efa710>]"
      ]
     },
     "execution_count": 4,
     "metadata": {},
     "output_type": "execute_result"
    },
    {
     "data": {
      "image/png": "[encoded data removed]",
      "text/plain": [
       "<matplotlib.figure.Figure at 0x17d57cf8>"
      ]
     },
     "metadata": {},
     "output_type": "display_data"
    }
   ],
   "source": [
    "# LMSR Implementation Textbook Interpretation\n",
    "iterations = 201\n",
    "trial = np.zeros(101)\n",
    "\n",
    "for i in np.arange(0,100,1):\n",
    "    # Initialize Market Model\n",
    "    initialValue = np.random.normal(50,12)\n",
    "    if initialValue < 0:\n",
    "        initialValue = 0\n",
    "    if initialValue > 100:\n",
    "        initialValue = 100\n",
    "\n",
    "    # shock values\n",
    "    shock_prob= 1/100\n",
    "    shockSD = 5\n",
    "    # true asset value\n",
    "    trueValue = np.zeros(iterations)\n",
    "    trueValue[0] = initialValue\n",
    "\n",
    "    # Initial Trade Values\n",
    "    traderAlphaExponential = 20\n",
    "    traderSD = 5\n",
    "    traderValueAll = np.zeros(iterations)\n",
    "    traderValueAll[0] = initialValue\n",
    "    \n",
    "    #initial MM values\n",
    "    MMb = 125\n",
    "    MMquantity = np.zeros(iterations)\n",
    "    MMquantity[0] = 0\n",
    "    MMprice = np.zeros(iterations)\n",
    "    MMprice[0] = 50\n",
    "    MMrevenue = np.zeros(iterations)\n",
    "    MMrevenue[0] = 0\n",
    "    \n",
    "    for time in np.arange(1,iterations,1):\n",
    "        if np.random.binomial(1,shock_prob) == 1:\n",
    "            initialValue = initialValue + np.random.normal(0, shockSD)\n",
    "        trueValue[time] = initialValue\n",
    "        traderValue = np.random.normal(initialValue, traderSD)\n",
    "        traderValueAll[time] = traderValue\n",
    "        if traderValue <= 0:\n",
    "            traderValue = 0.01\n",
    "        if traderValue >= 100:\n",
    "            traderValue = 99.99   \n",
    "        # will trade till the instantaneous price is equal to trader's value \n",
    "        currentquantity = np.sum(MMquantity) \n",
    "        quantityTrader = np.log((traderValue/100)/(1-(traderValue/100)))*MMb-currentquantity\n",
    "        MMquantity[time] = quantityTrader\n",
    "        MMrevenue[time] = 100*MMb*(np.log(1+np.exp((currentquantity+quantityTrader)/MMb))- \\\n",
    "                                   np.log(1+np.exp(currentquantity/MMb)))\n",
    "        normalizedquantity = (quantityTrader + currentquantity)/MMb\n",
    "        MMprice[time] = 100*(np.exp(normalizedquantity)/(1+np.exp(normalizedquantity)))\n",
    "    trial[i] = np.sum(MMrevenue)\n",
    "xs = np.arange(0,iterations,1)\n",
    "plt.plot(xs, trueValue, xs, MMprice)\n"
   ]
  },
  {
   "cell_type": "code",
   "execution_count": 5,
   "metadata": {
    "collapsed": false
   },
   "outputs": [
    {
     "name": "stdout",
     "output_type": "stream",
     "text": [
      "1269.52753097\n",
      "8368.29224766\n",
      "-7116.13195261\n"
     ]
    },
    {
     "data": {
      "text/plain": [
       "(array([ 64.,  32.,   3.,   1.,   0.,   0.,   0.,   0.,   0.,   1.]),\n",
       " array([ -7116.13195261,   1006.03477853,   9128.20150968,  17250.36824082,\n",
       "         25372.53497196,  33494.70170311,  41616.86843425,  49739.03516539,\n",
       "         57861.20189654,  65983.36862768,  74105.53535883]),\n",
       " <a list of 10 Patch objects>)"
      ]
     },
     "execution_count": 5,
     "metadata": {},
     "output_type": "execute_result"
    },
    {
     "data": {
      "image/png": "[encoded data removed]",
      "text/plain": [
       "<matplotlib.figure.Figure at 0x17d25320>"
      ]
     },
     "metadata": {},
     "output_type": "display_data"
    }
   ],
   "source": [
    "print(np.average(trial))\n",
    "print(np.std(trial))\n",
    "print(np.min(trial))\n",
    "plt.hist(trial)"
   ]
  },
  {
   "cell_type": "code",
   "execution_count": 6,
   "metadata": {
    "collapsed": false
   },
   "outputs": [
    {
     "data": {
      "text/plain": [
       "[<matplotlib.lines.Line2D at 0x1827f128>,\n",
       " <matplotlib.lines.Line2D at 0x1827f358>]"
      ]
     },
     "execution_count": 6,
     "metadata": {},
     "output_type": "execute_result"
    },
    {
     "data": {
      "image/png": "[encoded data removed]",
      "text/plain": [
       "<matplotlib.figure.Figure at 0x17b79278>"
      ]
     },
     "metadata": {},
     "output_type": "display_data"
    }
   ],
   "source": [
    "#Liquidity Sensitive LMSR Implementation Das Interpretation\n",
    "\n",
    "iterations = 201\n",
    "trial = np.zeros(101)\n",
    "\n",
    "for i in np.arange(0,100,1):\n",
    "    # Initialize Market Model\n",
    "    initialValue = np.random.normal(50,12)\n",
    "    if initialValue < 0:\n",
    "        initialValue = 0\n",
    "    if initialValue > 100:\n",
    "        initialValue = 100\n",
    "\n",
    "    # shock values\n",
    "    shock_prob= 1/100\n",
    "    shockSD = 5\n",
    "    # true asset value\n",
    "    trueValue = np.zeros(iterations)\n",
    "    trueValue[0] = initialValue\n",
    "\n",
    "    # Initial Trade Values\n",
    "    traderAlphaExponential = 20\n",
    "    traderSD = 5\n",
    "    traderValueAll = np.zeros(iterations)\n",
    "    traderValueAll[0] = initialValue\n",
    "    \n",
    "    #initial MM values\n",
    "    MMquantity = np.zeros(iterations)\n",
    "    MMquantity[0] = 0\n",
    "    MMprice = np.zeros(iterations)\n",
    "    MMprice[0] = 50\n",
    "    MMrevenue = np.zeros(iterations)\n",
    "    MMrevenue[0] = 0\n",
    "    alpha = 10\n",
    "        \n",
    "    for time in np.arange(1,iterations,1):\n",
    "        if np.random.binomial(1,shock_prob) == 1:\n",
    "            initialValue = initialValue + np.random.normal(0, shockSD)\n",
    "        trueValue[time] = initialValue\n",
    "        traderValue = np.random.normal(initialValue, traderSD)\n",
    "        traderValueAll[time] = traderValue\n",
    "        if traderValue <= 0:\n",
    "            traderValue = 0.01\n",
    "        if traderValue > 100:\n",
    "            traderValue = 99.99\n",
    "        quantityTrader = np.random.exponential(traderAlphaExponential)\n",
    "        if traderValue < MMprice[time - 1]:\n",
    "            quantityTrader = -quantityTrader\n",
    "        currentquantity = np.sum(MMquantity)\n",
    "        MMb = alpha*currentquantity\n",
    "        MMquantity[time] = quantityTrader                                       \n",
    "        MMrevenue[time] = 100*MMb*(np.log(1+np.exp((currentquantity+quantityTrader)/MMb))- \\\n",
    "                                   np.log(1+np.exp(currentquantity/MMb)))\n",
    "        normalizedquantity = (quantityTrader + currentquantity)/MMb\n",
    "        MMprice[time] = 100*(alpha*np.log(1+np.exp((currentquantity+quantityTrader)/MMb)))\n",
    "    trial[i] = np.sum(MMrevenue)\n",
    "xs = np.arange(0,iterations,1)\n",
    "plt.plot(xs, trueValue, xs, MMprice)"
   ]
  },
  {
   "cell_type": "code",
   "execution_count": 10,
   "metadata": {
    "collapsed": false
   },
   "outputs": [
    {
     "name": "stdout",
     "output_type": "stream",
     "text": [
      "nan\n",
      "nan\n",
      "nan\n"
     ]
    },
    {
     "data": {
      "text/plain": [
       "array([ nan,  nan,  nan,  nan,  nan,  nan,  nan,  nan,  nan,  nan,  nan,\n",
       "        nan,  nan,  nan,  nan,  nan,  nan,  nan,  nan,  nan,  nan,  nan,\n",
       "        nan,  nan,  nan,  nan,  nan,  nan,  nan,  nan,  nan,  nan,  nan,\n",
       "        nan,  nan,  nan,  nan,  nan,  nan,  nan,  nan,  nan,  nan,  nan,\n",
       "        nan,  nan,  nan,  nan,  nan,  nan,  nan,  nan,  nan,  nan,  nan,\n",
       "        nan,  nan,  nan,  nan,  nan,  nan,  nan,  nan,  nan,  nan,  nan,\n",
       "        nan,  nan,  nan,  nan,  nan,  nan,  nan,  nan,  nan,  nan,  nan,\n",
       "        nan,  nan,  nan,  nan,  nan,  nan,  nan,  nan,  nan,  nan,  nan,\n",
       "        nan,  nan,  nan,  nan,  nan,  nan,  nan,  nan,  nan,  nan,  nan,\n",
       "        nan,   0.])"
      ]
     },
     "execution_count": 10,
     "metadata": {},
     "output_type": "execute_result"
    }
   ],
   "source": [
    "print(np.average(trial))\n",
    "print(np.std(trial))\n",
    "print(np.min(trial))\n",
    "trial\n",
    "plt.hist(trial)\n"
   ]
  },
  {
   "cell_type": "code",
   "execution_count": null,
   "metadata": {
    "collapsed": true
   },
   "outputs": [],
   "source": []
  }
 ],
 "metadata": {
  "kernelspec": {
   "display_name": "Python 2",
   "language": "python",
   "name": "python2"
  },
  "language_info": {
   "codemirror_mode": {
    "name": "ipython",
    "version": 2
   },
   "file_extension": ".py",
   "mimetype": "text/x-python",
   "name": "python",
   "nbconvert_exporter": "python",
   "pygments_lexer": "ipython2",
   "version": "2.7.7"
  }
 },
 "nbformat": 4,
 "nbformat_minor": 0
}
